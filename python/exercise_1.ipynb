{
 "cells": [
  {
   "cell_type": "markdown",
   "id": "d471edb6-034e-4246-ab36-81beb9c1343a",
   "metadata": {},
   "source": [
    "### 0. Write codes to generate lists of numbers with the following pattern\n",
    "Let `n ≥ 1` be the length of the list, generate the lists in the patterns mentioned below. You can use loops like `[... for i in ...]` or use list's `append` method as:\n",
    "```\n",
    "list_0 = []\n",
    "for i in range(...):\n",
    "    list_0.append(...)\n",
    "```"
   ]
  },
  {
   "cell_type": "code",
   "execution_count": null,
   "id": "15be1015-d6e3-43c9-a223-a3b05cb307b5",
   "metadata": {},
   "outputs": [],
   "source": [
    "n = 12\n",
    "# write your codes in cells below and print your list"
   ]
  },
  {
   "cell_type": "code",
   "execution_count": null,
   "id": "14a1b3f4-1f68-4cdc-82c7-f5c81b2565c6",
   "metadata": {},
   "outputs": [],
   "source": [
    "# 0. [8, 8, 8, 8, ...]\n",
    "\n"
   ]
  },
  {
   "cell_type": "code",
   "execution_count": null,
   "id": "3e3f320b-c4a6-474f-8893-c07b56bcbddc",
   "metadata": {},
   "outputs": [],
   "source": [
    "# 1. [0, 1, 2, 3, ...]\n",
    "\n"
   ]
  },
  {
   "cell_type": "code",
   "execution_count": null,
   "id": "f0eae3d0-8cc2-42e1-a80a-bbb90a49421d",
   "metadata": {},
   "outputs": [],
   "source": [
    "# 2. [5, 6, 7, 8, ...]\n",
    "\n"
   ]
  },
  {
   "cell_type": "code",
   "execution_count": null,
   "id": "fd98473e-fc5c-4664-b16b-b437cf317013",
   "metadata": {},
   "outputs": [],
   "source": [
    "# 3. [3.0, 3.1, 3.2, 3.3, ...]\n",
    "\n"
   ]
  },
  {
   "cell_type": "code",
   "execution_count": null,
   "id": "0263158e-5c0a-4165-809f-cc4c8e03166f",
   "metadata": {},
   "outputs": [],
   "source": [
    "# 4. [-2, -4, -6, -8, ...]\n",
    "\n"
   ]
  },
  {
   "cell_type": "code",
   "execution_count": null,
   "id": "0bace6be-7177-4590-a822-1d055a7906ee",
   "metadata": {},
   "outputs": [],
   "source": [
    "# 5. [-1.1+5.9j, -1.0+5.7j, -0.9+5.5j, -0.8+5.3j, ...]\n",
    "\n"
   ]
  },
  {
   "cell_type": "code",
   "execution_count": null,
   "id": "8bc2e082-567e-4660-b001-eef5d1e3c26b",
   "metadata": {},
   "outputs": [],
   "source": [
    "# 6. [1, 2, 4, 8, 16, 32, 64, ...]\n",
    "\n"
   ]
  },
  {
   "cell_type": "code",
   "execution_count": null,
   "id": "bb17d5f4-826e-4ae5-be63-e2c0cf1985b1",
   "metadata": {},
   "outputs": [],
   "source": [
    "# 7. [0, 1, 0, 1, 0, 1, ...]\n",
    "\n"
   ]
  },
  {
   "cell_type": "code",
   "execution_count": null,
   "id": "372c26fc-e78b-4d7d-b809-b024f7adef69",
   "metadata": {},
   "outputs": [],
   "source": [
    "# 8. [-1, 0, 1, -1, 0, 1, -1, 0, 1, -1, ...]\n",
    "\n"
   ]
  },
  {
   "cell_type": "code",
   "execution_count": null,
   "id": "f8af77b5-89db-44c9-a32e-e417110a6b3b",
   "metadata": {},
   "outputs": [],
   "source": [
    "# 9. [0, -1, 2, -3, 4, -5, 6, ...]\n",
    "\n"
   ]
  },
  {
   "cell_type": "code",
   "execution_count": null,
   "id": "607ce7a4-2a6c-4f8c-8fa6-0ffea1864df6",
   "metadata": {},
   "outputs": [],
   "source": [
    "# 10. [1, 1, 2, 3, 5, 8, 13, 21, ...]    (Fibonacci Sequence)\n",
    "\n"
   ]
  },
  {
   "cell_type": "code",
   "execution_count": null,
   "id": "53108cfc-00c6-43f9-b363-04f7ae1455a3",
   "metadata": {},
   "outputs": [],
   "source": [
    "# 11. [1, 1, 2, 6, 24, 120, 720, 5040, 40320, ...]    (Factorials)\n",
    "\n"
   ]
  },
  {
   "cell_type": "markdown",
   "id": "fc52f2ed-5769-4d8d-b7dd-d9f5d417b828",
   "metadata": {},
   "source": [
    "### 1. Write codes to generate lists of lists of numbers with the following pattern\n",
    "Let `n0 ≥ 1` be the number of rows (length of outer list) and `n1 ≥ 1` be number of columns (length of inner lists), generate the lists of lists in the patterns mentioned below. You can use loops like `[[... for i1 in ..n1..] for i0 in ..n0..]` or use list's `append` method as:\n",
    "```\n",
    "list_0 = []\n",
    "for i0 in range(...n0...):\n",
    "    list_0.append([])\n",
    "    for i1 in range(...n1...)\n",
    "        list_0[-1].append(...)\n",
    "```\n",
    "Print your results using this code:\n",
    "```\n",
    "for l in list_0:\n",
    "    print(l)\n",
    "```\n",
    "As a challenge, try to generate each list in single line"
   ]
  },
  {
   "cell_type": "code",
   "execution_count": null,
   "id": "76523664-e808-40ca-8bbd-56365254f6b6",
   "metadata": {},
   "outputs": [],
   "source": [
    "n0 = 7\n",
    "n1 = 9\n",
    "# write your codes in cells below and print your list"
   ]
  },
  {
   "cell_type": "code",
   "execution_count": null,
   "id": "e167c8a7-2059-4f9d-a750-354ad4db440d",
   "metadata": {},
   "outputs": [],
   "source": [
    "# 0. [[0, 1, 2, 3, ...],\n",
    "#     [1, 2, 3, 4, ...],\n",
    "#     [2, 3, 4, 5, ...],\n",
    "#     [3, 4, 5, 6, ...]... ]\n",
    "\n"
   ]
  },
  {
   "cell_type": "code",
   "execution_count": null,
   "id": "7391b4db-1527-4681-afb5-047c632737ae",
   "metadata": {},
   "outputs": [],
   "source": [
    "# 1. [[0, 1, 0, 1, 0, ...],\n",
    "#     [1, 0, 1, 0, 1, ...],\n",
    "#     [0, 1, 0, 1, 0, ...],\n",
    "#     [1, 0, 1, 0, 1, ...]... ]\n",
    "\n"
   ]
  },
  {
   "cell_type": "code",
   "execution_count": null,
   "id": "8e901209-2f63-46ad-9357-4bd96b8295cf",
   "metadata": {},
   "outputs": [],
   "source": [
    "# Don't use n1 for this one\n",
    "# 2. [[0],\n",
    "#     [1, 2],\n",
    "#     [2, 3, 4],\n",
    "#     [3, 4, 5, 6],\n",
    "#     [4, 5, 6, 7, 8],...]\n",
    "\n"
   ]
  },
  {
   "cell_type": "code",
   "execution_count": null,
   "id": "0f4ab96f-ff0c-4353-8c9e-dbd1e648d83b",
   "metadata": {},
   "outputs": [],
   "source": [
    "# 3. [[0, 0, 0, 0, 0, ...],\n",
    "#     [0, 1, 0, 0, 0, ...],\n",
    "#     [0, 0, 4, 0, 0, ...],\n",
    "#     [0, 0, 0, 9, 0, ...],\n",
    "#     [0, 0, 0, 0, 16, ...]... ]    diagonal matrix\n",
    "\n"
   ]
  },
  {
   "cell_type": "code",
   "execution_count": null,
   "id": "7a156932-7df4-4bb6-8211-78137203a3ed",
   "metadata": {},
   "outputs": [],
   "source": [
    "# 4. [[2, 1, 0, 0, 0, ...],\n",
    "#     [1, 2, 1, 0, 0, ...],\n",
    "#     [0, 1, 2, 1, 0, ...],\n",
    "#     [0, 0, 1, 2, 1, ...],\n",
    "#     [0, 0, 0, 1, 2, ...]... ]    tridiagonal matrix\n",
    "\n"
   ]
  },
  {
   "cell_type": "code",
   "execution_count": null,
   "id": "9200a962-9e21-49df-9751-d80d9bb1a201",
   "metadata": {},
   "outputs": [],
   "source": [
    "# 5. [[3, 7, 7, 7, 7, ...],\n",
    "#     [5, 3, 7, 7, 7, ...],\n",
    "#     [5, 5, 3, 7, 7, ...],\n",
    "#     [5, 5, 5, 3, 1, ...]... ]    matrix with separate lower-tirangular, diagonal and upper-triangular parts\n",
    "\n"
   ]
  },
  {
   "cell_type": "code",
   "execution_count": null,
   "id": "824a38b5-afd7-4094-b10e-85552ebab26d",
   "metadata": {},
   "outputs": [],
   "source": [
    "# 6. [[0, 1, 2, 3, 4],\n",
    "#     [5, 6, 7, 8, 9],\n",
    "#     [10, 11, 12, 13, 14]... ]    output when n1=5. filling numbers 0,1,2,3,... from left to right then top to bottom\n",
    "\n"
   ]
  },
  {
   "cell_type": "code",
   "execution_count": null,
   "id": "c86a04b4-aba7-454a-92b0-3642d2fe5545",
   "metadata": {},
   "outputs": [],
   "source": [
    "# 7. [[0, 3, 6, 9, 12],\n",
    "#     [1, 4, 7, 10, 13],\n",
    "#     [2, 5, 8, 11, 14]]    output when n0=3, n1=5. filling numbers 0,1,2,3,... from top to bottom then left to right\n",
    "\n"
   ]
  },
  {
   "cell_type": "code",
   "execution_count": null,
   "id": "351f8688-b1f4-43e1-a766-e34f0b205722",
   "metadata": {},
   "outputs": [],
   "source": [
    "# Don't use n1 for this one\n",
    "# 8. [[0],\n",
    "#     [1, 2],\n",
    "#     [3, 4, 5],\n",
    "#     [6, 7, 8, 9],...]\n",
    "\n"
   ]
  },
  {
   "cell_type": "code",
   "execution_count": null,
   "id": "ac37aa9d-68b0-4ede-b2ea-7e101689d177",
   "metadata": {},
   "outputs": [],
   "source": [
    "# 9. [[0, 0, 0, 0, 0, ...],\n",
    "#     [0, 1, 1, 1, 1, ...],\n",
    "#     [0, 1, 2, 2, 2, ...],\n",
    "#     [0, 1, 2, 3, 3, ...],\n",
    "#     [0, 1, 2, 3, 4, ...]... ]\n",
    "# Hint: use min() function\n",
    "\n"
   ]
  },
  {
   "cell_type": "code",
   "execution_count": null,
   "id": "466fce6f-b560-49ec-ad29-49feccb59626",
   "metadata": {
    "tags": []
   },
   "outputs": [],
   "source": [
    "# 10. [[0, 1, 2, 3, 4, ...],\n",
    "#      [1, 1, 2, 3, 4, ...],\n",
    "#      [2, 2, 2, 3, 4, ...],\n",
    "#      [3, 3, 3, 3, 4, ...],\n",
    "#      [4, 4, 4, 4, 4, ...]... ]\n",
    "# Hint: use max() function\n",
    "\n"
   ]
  },
  {
   "cell_type": "markdown",
   "id": "504eba51-dfb1-4e54-aa5a-53e5fa89e7c3",
   "metadata": {},
   "source": [
    "### 2. Apply following operations on given `list` and `tuple`\n",
    "Define the following `list` and `tuple` and apply operations as mentioned in each cell\n",
    "```\n",
    "a = [7, 3, 6, 0, 1]\n",
    "b = (2, -1, 3, 1, 0)\n",
    "```\n",
    "Tip: To simultaneously iterate over multiple arrays, Python's inbuilt function `zip` is helpful"
   ]
  },
  {
   "cell_type": "code",
   "execution_count": null,
   "id": "d7d0c75d-2fcb-4a8d-b427-715f571e1206",
   "metadata": {},
   "outputs": [],
   "source": [
    "a = [7, 3, 6, 0, 1]\n",
    "b = (2, -1, 3, 1, 0)"
   ]
  },
  {
   "cell_type": "code",
   "execution_count": null,
   "id": "f32a2ca8-b7e1-4efc-8dd2-65077bae4a06",
   "metadata": {},
   "outputs": [],
   "source": [
    "#  0. Generate a dict that has elements from a as keys and elements from b as values\n",
    "#     You should get {7: 2, 3: -1, 6: 3, 0: 1, 1: 0}\n",
    "\n"
   ]
  },
  {
   "cell_type": "code",
   "execution_count": null,
   "id": "ce383646-d575-4354-87d5-d9e768fd4206",
   "metadata": {},
   "outputs": [],
   "source": [
    "# 1. Generate a list of complex numbers, whose real part is from a and imaginary part is from b\n",
    "#    You should get [(7+2j), (3-1j), (6+3j), 1j, (1+0j)]\n",
    "\n"
   ]
  },
  {
   "cell_type": "code",
   "execution_count": null,
   "id": "b2ecd85d-119c-4bc3-8128-1e150138e358",
   "metadata": {},
   "outputs": [],
   "source": [
    "# 2. Generate a list from elements of a using b as indices\n",
    "#    You should get [6, 1, 0, 3, 7]\n",
    "\n"
   ]
  },
  {
   "cell_type": "code",
   "execution_count": null,
   "id": "f6ddc645-3284-4c87-a532-2725e658e4ce",
   "metadata": {},
   "outputs": [],
   "source": [
    "# 3. Generate a list by joining a and b\n",
    "#    You should get [7, 3, 6, 0, 1, 2, -1, 3, 1, 0]\n",
    "\n"
   ]
  },
  {
   "cell_type": "code",
   "execution_count": null,
   "id": "b0631929-b9d3-4405-a1af-beb6d80a8ed3",
   "metadata": {},
   "outputs": [],
   "source": [
    "# 4. Generate a list by joining a and b but the resultant list should not have any element\n",
    "#    repeating (remember \"not in\" and \".append\"), you should get [7, 3, 6, 0, 1, 2, -1]\n",
    "\n"
   ]
  },
  {
   "cell_type": "code",
   "execution_count": null,
   "id": "90b15967-7203-4b4d-b7d1-2d88de284da8",
   "metadata": {},
   "outputs": [],
   "source": [
    "# 5. Multiply elements from a and b in order and then sum them all (you can use Python's sum command)\n",
    "#    You should get 29\n",
    "\n"
   ]
  },
  {
   "cell_type": "code",
   "execution_count": null,
   "id": "cb7078e6-7ea9-428d-bc4a-3b03c6c6d97c",
   "metadata": {},
   "outputs": [],
   "source": [
    "# 6. Generate a list of [i**j] where i and j are elements from a and b respectively\n",
    "#    Include only those values that are >= 1 and < 100, you should get [49, 1]\n",
    "\n"
   ]
  },
  {
   "cell_type": "code",
   "execution_count": null,
   "id": "93598dc8-46bf-45ac-8eec-b99b95e4c9d8",
   "metadata": {},
   "outputs": [],
   "source": [
    "# 7. Generate a tuple of str, whose each element is obtained by concatenating elements from a and b\n",
    "#    and leaving a space between them, you should get ('7 2', '3 -1', '6 3', '0 1', '1 0')\n",
    "\n"
   ]
  },
  {
   "cell_type": "code",
   "execution_count": null,
   "id": "0a2df038-816f-40a3-8767-7fb8753ea7f8",
   "metadata": {},
   "outputs": [],
   "source": [
    "# 8. If a=[1,2,4] and b=(5,7,3), generate a str that looks like this:\n",
    "#    \"1 -> 5, 2 -> 7, 4 -> 3\" (be careful with spacing and comma)\n",
    "#    You should get \"7 -> 2, 3 -> -1, 6 -> 3, 0 -> 1, 1 -> 0\" for a, b defined earlier\n",
    "\n"
   ]
  },
  {
   "cell_type": "markdown",
   "id": "bdb1e600-911b-4184-82c0-27e162a10ac1",
   "metadata": {
    "tags": []
   },
   "source": [
    "### 3. Make a `str` out of the given `list` with following instructions:\n",
    "Given an input list, apply operations with following instructions:\n",
    "1. Start with an empty string `s`\n",
    "2. Loop over given list\n",
    "3. If your first number is k>0, add k spaces to `s`\n",
    "4. If your next number is k>0, add k `'#'` to `s`\n",
    "5. If your next number is k>0, again add k spaces to `s`, and keep alternating between adding spaces and `'#'` until you encounter 0\n",
    "6. If you encounter 0, add newline character `\\n` to `s`, and next time you encounter another k>0, restart with adding spaces regardless of what you were adding before encountering 0\n",
    "\n",
    "Let's say your input list is `[2, 3, 1, 0, 3, 3, 0, 6]`\n",
    "1. Start with an empty string `s`\n",
    "2. First number in list is 2, add 2 spaces to `s`\n",
    "3. Next number in list is 3, add 3 `'#'` to `s`\n",
    "4. Next number in list is 1, add 1 space to `s`\n",
    "5. Next number in list is 0, add newline character `\\n` to s\n",
    "6. Next number in list is 3, add 3 spaces to s\n",
    "7. Next number in list is 3, add 3 `'#'` to `s`\n",
    "8. Next number in list is 0, add newline character `\\n` to s\n",
    "9. Next number in list is 6, add 6 spaces to s\n",
    "10. Print `s`\n",
    "\n",
    "Basically, 0 in list represents newline character `\\n`, for positive integers, you need to alternate between space and `'#'`. Whenever 0 is encountered, you should start with adding spaces irrespective of where you were before 0. In this example, the final string should look like `\"  ### \\n   ###\\n      \"`"
   ]
  },
  {
   "cell_type": "code",
   "execution_count": null,
   "id": "f2e33cb8-505a-442e-89fe-fa4610635460",
   "metadata": {},
   "outputs": [],
   "source": [
    "msgList = [43, 0,\n",
    "           1, 1, 3, 1, 1, 3, 1, 1, 3, 1, 5, 2, 3, 3, 1, 1, 3, 1, 1, 3, 2, 1, 1, 0,\n",
    "           1, 1, 3, 1, 1, 1, 3, 1, 3, 1, 5, 1, 1, 1, 2, 1, 1, 1, 1, 2, 2, 1, 1, 1, 4, 1, 1, 0,\n",
    "           1, 1, 1, 1, 1, 1, 1, 3, 1, 1, 3, 1, 5, 1, 2, 1, 1, 1, 1, 1, 1, 1, 1, 1, 1, 1, 1, 3, 2, 1, 1, 0,\n",
    "           1, 1, 1, 1, 1, 1, 1, 1, 3, 1, 3, 1, 5, 1, 1, 1, 2, 1, 1, 1, 1, 1, 2, 2, 1, 1, 6, 0,\n",
    "           2, 1, 1, 1, 2, 3, 1, 3, 1, 3, 3, 2, 3, 3, 1, 1, 3, 1, 1, 3, 2, 1, 1, 0,\n",
    "           43]\n",
    "\n",
    "# Write your code here\n"
   ]
  },
  {
   "cell_type": "markdown",
   "id": "a8e22103-e0a0-4179-8aac-b15d79d82bb9",
   "metadata": {},
   "source": [
    "### 4. Digits of an Integer\n",
    "Given a non-negative integer `n`, make a list of its digits. For exmaple, if `n = 12067`, the output list should be `[1, 2, 0, 6, 7]`\n",
    "\n",
    "It can be solved using a mathematical method (requires modulo and float division) and a method based on `str`, I encourage you to try both"
   ]
  },
  {
   "cell_type": "code",
   "execution_count": null,
   "id": "f2e533ea-02d3-40c1-ab10-071d2ee8aa06",
   "metadata": {},
   "outputs": [],
   "source": [
    "n = 1178067\n",
    "\n",
    "# write your code here\n"
   ]
  },
  {
   "cell_type": "markdown",
   "id": "10ddcea9-56c9-427a-b578-d18d1b60d489",
   "metadata": {},
   "source": [
    "### 5. Find solution of `sin(x)=0` using Newton's Method\n",
    "Given a function `f(x)`, its root can be found using Newton's Method as following:\n",
    "1. Start with an initial guess value `x0`, then compute `x1 = x0 - f(x0) / f'(x0)` (note that derivative of `sin` is `cos`)\n",
    "2. Let `x0 = x1` and then repeat step 1 in a `while` loop\n",
    "3. In the loop, keep checking `|f(x1)|`, you can use command `math.fabs(math.sin(x1))` to find that\n",
    "4. If `|f(x1)| < eps`, where `eps` is a small number like `1.0e-10`, exit the `while` loop\n",
    "5. Print `x1`, `sin(x1)` and how many times `while` loop executed\n",
    "\n",
    " If you realize, you don't actually need to define `x1`, try to write the code without it. And I encourage you to try different initial guess values `x0`, you should find solutions `n * π` for different integers `n` (you can also print `x1 / math.pi` to check that)"
   ]
  },
  {
   "cell_type": "code",
   "execution_count": null,
   "id": "ba1e9358-385c-48ef-a388-58cd50c6707a",
   "metadata": {},
   "outputs": [],
   "source": [
    "x0 = 4.0    # initial guess value\n",
    "eps = 1.0e-12    # error tolerance\n",
    "\n",
    "# write your code here\n"
   ]
  }
 ],
 "metadata": {
  "kernelspec": {
   "display_name": "Python 3 (ipykernel)",
   "language": "python",
   "name": "python3"
  },
  "language_info": {
   "codemirror_mode": {
    "name": "ipython",
    "version": 3
   },
   "file_extension": ".py",
   "mimetype": "text/x-python",
   "name": "python",
   "nbconvert_exporter": "python",
   "pygments_lexer": "ipython3",
   "version": "3.10.5"
  }
 },
 "nbformat": 4,
 "nbformat_minor": 5
}
