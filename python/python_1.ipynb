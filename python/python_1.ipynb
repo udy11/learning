{
 "cells": [
  {
   "cell_type": "markdown",
   "id": "b20a80df-9595-49f3-8ce8-78d0f69bd572",
   "metadata": {},
   "source": [
    "### Jupyter Notebook\n",
    "1. Make a new notebook with `.ipynb` extension using \"+\" sign on the left panel\n",
    "2. It also supports Markdown language to make formatted texts like the one you are seeing, select it in the panel above\n",
    "3. Notebooks have a cell-based structure. A cell can be executed by either `Shift+Enter` (that goes to next cell) or `Ctrl+Enter` (that remains in same cell). In panel above there are buttons to run the cell or stop the current execution\n",
    "4. To make a new cell above the current cell, press `a` (while not in editing that cell) and `b` for below\n",
    "5. Once a cell has finished its execution, its contents become available for other cells too\n",
    "6. You can change order of the cells by simply dragging them with mouse\n",
    "7. Jupyter only shows results of last command in a cell, to check anythin gin between the cell use `print` command\n",
    "8. To exit the notebook, select `Shut Down` from `File` menu\n",
    "9. To clear outputs of all cells, right-click and select `Clear All Outputs` (or something like that)"
   ]
  },
  {
   "cell_type": "code",
   "execution_count": null,
   "id": "c6219778-6405-49b1-97f5-41112ca0d94b",
   "metadata": {},
   "outputs": [],
   "source": [
    "import math\n",
    "a = 1"
   ]
  },
  {
   "cell_type": "code",
   "execution_count": null,
   "id": "efbab037-a8fa-46a0-92b6-3ea107fc7f66",
   "metadata": {},
   "outputs": [],
   "source": [
    "a += 1\n",
    "a\n",
    "print('a =', a)\n",
    "print(math.sin(math.tau))\n",
    "100 * a"
   ]
  },
  {
   "cell_type": "markdown",
   "id": "7ee4c07e-2607-4113-9c08-970ef9b66c20",
   "metadata": {},
   "source": [
    "### Conditional Statement `if`\n",
    "1. What follows `if` and `elif` must be of `bool` type\n",
    "2. Add as many `elif` needed\n",
    "3. `else` is executed if all `if` and `elif` conditions fail\n",
    "4. Execution exits the entire block once a condition is met or `else` is reached"
   ]
  },
  {
   "cell_type": "code",
   "execution_count": null,
   "id": "7a998e73-3ad7-4718-9f71-28e601a10e39",
   "metadata": {},
   "outputs": [],
   "source": [
    "x = -2.0\n",
    "\n",
    "if x < 0:\n",
    "    print(\"x is negative\")\n",
    "elif x == 0:\n",
    "    print(\"x is zero\")\n",
    "else:\n",
    "    print(\"x is positive\")"
   ]
  },
  {
   "cell_type": "code",
   "execution_count": null,
   "id": "31587eef-8024-4c71-b111-3fafa7a771e5",
   "metadata": {},
   "outputs": [],
   "source": [
    "x = 2\n",
    "\n",
    "if (type(x) == int) or (type(x) == float):\n",
    "    print(\"x is a real number & \", end = '')\n",
    "    if x < 0:\n",
    "        print(\"negative\")\n",
    "    elif x == 0:\n",
    "        print(\"zero\")\n",
    "    else:\n",
    "        print(\"positive\")\n",
    "else:\n",
    "    print(\"x is not a real number\")"
   ]
  },
  {
   "cell_type": "markdown",
   "id": "c17998aa-08bf-4604-b0e3-c8124f12c97e",
   "metadata": {
    "tags": []
   },
   "source": [
    "### Conditional Loop `while`\n",
    "1. Similar to `if` but executes as long as condition is `True`\n",
    "2. Use `break` to exit the loop\n",
    "3. `else` in a `while` loop executes once if `break` didn't execute\n",
    "4. If `continue` is reached, rest of the loop execution is skipped once"
   ]
  },
  {
   "cell_type": "code",
   "execution_count": null,
   "id": "0aa4cf50-d568-4890-937c-726fc3c61a0a",
   "metadata": {},
   "outputs": [],
   "source": [
    "x = 2\n",
    "\n",
    "while x < 6:\n",
    "    x += 1\n",
    "    print(x)"
   ]
  },
  {
   "cell_type": "code",
   "execution_count": null,
   "id": "2fd5b6b2-f51a-473c-b238-30e7f4a47b9d",
   "metadata": {},
   "outputs": [],
   "source": [
    "y = 2\n",
    "\n",
    "while y <= 7:\n",
    "    y += 2\n",
    "    print(y, end = ' ')\n",
    "    if y & 1 == 0:\n",
    "        break\n",
    "else:\n",
    "    print('\\nelse in a loop executes ONCE if parent loop did NOT exit due to \"break\"')"
   ]
  },
  {
   "cell_type": "code",
   "execution_count": null,
   "id": "61d11f2e-b37a-4c38-b609-0d086509db40",
   "metadata": {},
   "outputs": [],
   "source": [
    "z = 'q'\n",
    "\n",
    "while len(z) < 6:\n",
    "    z = z + 'q'\n",
    "    if z == 'qqqq':\n",
    "        continue\n",
    "    print(len(z), z)"
   ]
  },
  {
   "cell_type": "markdown",
   "id": "192c59d8-ea23-4940-a5f2-997d851cc409",
   "metadata": {},
   "source": [
    "### Finite Loop `for`\n",
    "1. Similar to `while` but executes finitely as specified\n",
    "2. `break`, `else`, `continue` work same as in `while`\n",
    "3. In `range(a, b, s)`, loop starts with `a`, stops \"before\" `b` and increments in step `s`. All must be `int`. If a >= b and s is positive, nothing will execute in the loop"
   ]
  },
  {
   "cell_type": "code",
   "execution_count": null,
   "id": "5ead6e25-a5c9-4663-a74e-76065248d62c",
   "metadata": {},
   "outputs": [],
   "source": [
    "for i in range(4):\n",
    "    print(i)\n",
    "print('i =', i)    # post-loop, value of i is the last value it had in the loop"
   ]
  },
  {
   "cell_type": "code",
   "execution_count": null,
   "id": "a08e55ca-5e66-4e9e-b7ef-569857efbd21",
   "metadata": {},
   "outputs": [],
   "source": [
    "for i in range(1, 9, 2):\n",
    "    print(i, end = i * '.' + ' ')"
   ]
  },
  {
   "cell_type": "code",
   "execution_count": null,
   "id": "b2876ca7-a454-4ee8-a44f-e9693213c1b2",
   "metadata": {},
   "outputs": [],
   "source": [
    "for i in range(5, 0, -1):\n",
    "    print(i, end = '.. ')\n",
    "print('boom!')"
   ]
  },
  {
   "cell_type": "code",
   "execution_count": null,
   "id": "fe06fc44-4647-47ab-89c1-191a325cca30",
   "metadata": {},
   "outputs": [],
   "source": [
    "for x in [2, 5.3j, 'a', True]:\n",
    "    print(x)"
   ]
  },
  {
   "cell_type": "code",
   "execution_count": null,
   "id": "96e2805b-6851-476b-9258-5fd6e6de2f36",
   "metadata": {},
   "outputs": [],
   "source": [
    "gd = {'alpha' : 'α', 'beta' : 'β', 'gamma' : 'γ'}\n",
    "for a in gd:\n",
    "    print(a, '->', gd[a])"
   ]
  },
  {
   "cell_type": "code",
   "execution_count": null,
   "id": "b0e81fa2-3776-441f-a6be-1372ddb5d3c2",
   "metadata": {},
   "outputs": [],
   "source": [
    "for c in \"Magic!!\":\n",
    "    print(c.upper(), end = ' ')"
   ]
  },
  {
   "cell_type": "code",
   "execution_count": null,
   "id": "45d70006-0977-4701-a4d7-15d388f1ddf5",
   "metadata": {},
   "outputs": [],
   "source": [
    "for i in range(5):\n",
    "    for j in range(0, i+1):\n",
    "        print(i + j, end = ' ')\n",
    "    print()"
   ]
  },
  {
   "cell_type": "code",
   "execution_count": null,
   "id": "4889c056-1e0d-417e-8a67-6cee0f1e479d",
   "metadata": {},
   "outputs": [],
   "source": [
    "myList = [2 * i for i in range(-2, 3)]\n",
    "print(myList)\n",
    "\n",
    "myList2 = [2 * i for i in range(-2, 3) if i != 0]\n",
    "print(myList2)\n",
    "\n",
    "myListOfList = [[i * 100 + j for j in range(3)] for i in range(5)]\n",
    "print(myListOfList)\n",
    "\n",
    "myDict = {str(i): i * 10 for i in range(1, 5)}\n",
    "print(myDict)"
   ]
  },
  {
   "cell_type": "markdown",
   "id": "fa752dd3-1ce0-4405-89b3-3570ecdefadf",
   "metadata": {},
   "source": [
    "### Visualizing Loops\n",
    "One should be able to visualize loops and get an idea of how the loop starts, how it progresses and how it ends. This immensely helps in avoiding problems and debugging your code. Basic idea of a loop is that it's a repetition of commands with changing values. Let's understand with few examples:"
   ]
  },
  {
   "cell_type": "markdown",
   "id": "a9ca8d30-7e63-441d-bc56-50e5e788c07f",
   "metadata": {},
   "source": [
    "Given this simple `for` loop:\n",
    "```\n",
    "for i in range(4):\n",
    "    print(i+1)\n",
    "```\n",
    "You should be able to visualize this as the following sequence of commands:\n",
    "```\n",
    "print(0+1)    # i starts from 0, prints 0+1=1\n",
    "print(1+1)    # i becomes 1, prints 1+1=2\n",
    "print(2+1)    # i becomes 2, prints 2+1=3\n",
    "print(3+1)    # i ends at 3, prints 3+1=4\n",
    "```\n",
    "___"
   ]
  },
  {
   "cell_type": "markdown",
   "id": "611dbeb0-f77f-4a6a-a3b6-1384997ebd9b",
   "metadata": {},
   "source": [
    "Given this `for` loop to sum values:\n",
    "```\n",
    "s = 0\n",
    "for i in range(1, 11):\n",
    "    s = s + i\n",
    "```\n",
    "You should be able to visualize this as the following sequence of commands:\n",
    "```\n",
    "s = 0\n",
    "s = s + 1    # i starts from 1, s becomes 1\n",
    "s = s + 2    # i becomes 2, s becomes 3\n",
    "...\n",
    "s = s + 9    # i becomes 9, s becomes 45\n",
    "s = s + 10    # i ends at 10, s becomes 55\n",
    "```\n",
    "___"
   ]
  },
  {
   "cell_type": "markdown",
   "id": "cf3519dd-48cd-4419-8b98-dd8d1b75d213",
   "metadata": {},
   "source": [
    "Given this `for` loop with `if` condition:\n",
    "```\n",
    "for i in range(2, 12, 2):\n",
    "    if i % 4 == 0:\n",
    "        print(i, i // 4)\n",
    "```\n",
    "You should be able to visualize this as the following sequence of operations:\n",
    "1. `i` starts with `2`, then check the condition `2%4==0`, which is `False`, so `if` doesn't execute\n",
    "2. `i` increases by `2` and becomes `4`, then check the condition `4%4==0`, which is `True`, so `if` executes and prints `4 1`\n",
    "3. `i` increases by `2` and becomes `6`, then check the condition `6%4==0`, which is `False`, so `if` doesn't execute\n",
    "4. `i` increases by `2` and becomes `8`, then check the condition `8%4==0`, which is `True`, so `if` executes and prints `8 2`\n",
    "5. `i` increases by `2` and becomes `10`, then check the condition `10%4==0`, which is `False`, so `if` doesn't execute\n",
    "6. `i` cannot increase further, so loop ends\n",
    "___"
   ]
  },
  {
   "cell_type": "markdown",
   "id": "5e782344-50d4-440f-a6cb-796446f10a42",
   "metadata": {},
   "source": [
    "Given this `while` loop with `break`:\n",
    "```\n",
    "k = 6.3\n",
    "while k > 0.0:\n",
    "    k -= 0.4\n",
    "    if k == 5.1:\n",
    "        print('Unexpected event occured, k became', k)\n",
    "        break\n",
    "else:\n",
    "    print('k successfully reached below threshold!')\n",
    "```\n",
    "You should be able to visualize this as the following sequence of operations:\n",
    "1. `k = 6.3`\n",
    "2. Check if `6.3 > 0.0`, which is `True` so execute the `while` loop\n",
    "3. Subtract `0.4` from `k`, so `k` becomes `5.9`\n",
    "4. Check if `k == 5.1`, which is `False`, so `if` doesn't execute\n",
    "5. Check if `5.9 > 0.0`, which is `True` so execute the `while` loop\n",
    "6. Subtract `0.4` from `k`, so `k` becomes `5.5`\n",
    "7. Check if `k == 5.1`, which is `False`, so `if` doesn't execute\n",
    "8. Check if `5.5 > 0.0`, which is `True` so execute the `while` loop\n",
    "9. Subtract `0.4` from `k`, so `k` becomes `5.1`\n",
    "10. Check if `k == 5.1`, which is `True`, so `if` does execute\n",
    "11. Print `\"Unexpected event occured, k became 5.1\"` and exit the `while` loop because of `break`\n",
    "12. `else` of `while` doesn't execute because `while` loop exited due to `break`\n",
    "\n",
    "You can try to visualize this loop for different initial `k` like `6.2`\n",
    "___"
   ]
  },
  {
   "cell_type": "markdown",
   "id": "d6d5a6c1-05f8-4c6a-8186-71efe0c6b318",
   "metadata": {},
   "source": [
    "### Indexing and Slicing Arrays\n",
    "For an array-like object in Python with elements ('a', 'b', 'c', 'd', 'e', 'f', 'g', 'h', 'i')\n",
    "| **a** | **b** | **c** | **d** | **e** | **f** | **g** | **h** | **i** |\n",
    "| - | - | - | - | - | - | - | - | - |\n",
    "| 0 | 1 | 2 | 3 | 4 | 5 | 6 | 7 | 8 |\n",
    "| -9 | -8 | -7 | -6 | -5 | -4 | -3 | -2 | -1 |\n",
    "\n",
    "Indexing using an array of ints or bools doesn't work with these data types but work with `numpy` arrays, as we'll discuss later"
   ]
  },
  {
   "cell_type": "code",
   "execution_count": null,
   "id": "b2b46440-0aa2-4e59-a662-5e4df8d3f5fe",
   "metadata": {},
   "outputs": [],
   "source": [
    "v = 'ABCDEFGHI'\n",
    "print(\"array    \", v)\n",
    "print(\"1:4      \", v[1:4])\n",
    "print(\"1:6:2    \", v[1:6:2])\n",
    "print(\"6:1:-1   \", v[6:1:-1])\n",
    "print(\"-1:-6:-1 \", v[-1:-6:-1])\n",
    "print(\"-6:-1:1  \", v[-6:-1:1])\n",
    "print(\"-6:1:-1  \", v[-6:1:-1])\n",
    "print(\":3       \", v[:3])\n",
    "print(\"4:       \", v[4:])\n",
    "print(\"::2      \", v[::2])\n",
    "print(\"1::2     \", v[1::2])\n",
    "print(\"::-1     \", v[::-1])"
   ]
  },
  {
   "cell_type": "code",
   "execution_count": null,
   "id": "9c93d5ed-bc25-48ed-8891-d0499abd6e8f",
   "metadata": {},
   "outputs": [],
   "source": [
    "ii = [2, 5, 3, 0]\n",
    "print([v[i] for i in ii])\n",
    "ii = [True, False, False, True, True, False, True, False, True]\n",
    "print([v[i] for i in range(len(ii)) if ii[i]])"
   ]
  },
  {
   "cell_type": "markdown",
   "id": "6021878e-8058-45cd-9035-db3db2066251",
   "metadata": {
    "tags": []
   },
   "source": [
    "### `math` library\n",
    "1. Use command `import math` to use this library\n",
    "2. It includes basic mathematical functions, some of them mentioned below\n",
    "3. `cmath` is similar but can work with complex numbers"
   ]
  },
  {
   "cell_type": "code",
   "execution_count": null,
   "id": "d768111b-11ee-4cb5-9de6-72eac39bdffe",
   "metadata": {},
   "outputs": [],
   "source": [
    "import math"
   ]
  },
  {
   "cell_type": "code",
   "execution_count": null,
   "id": "fb46c803-eff0-4dca-bf76-a139814d0b98",
   "metadata": {},
   "outputs": [],
   "source": [
    "print(math.pi)    # π ~ 3.141592...\n",
    "print(math.tau)    # 2π ~ 6.283185...\n",
    "print(math.e)    # e ~ 2.71828...\n",
    "print(math.inf)\n",
    "print(math.nan)\n",
    "# can use math.isfinite(), math.isnan(), math.isinf() functions to check for inf, nan"
   ]
  },
  {
   "cell_type": "code",
   "execution_count": null,
   "id": "d8f8f957-c1fc-4e8d-a355-496da64b4097",
   "metadata": {},
   "outputs": [],
   "source": [
    "x = 2.9\n",
    "y = -2.7\n",
    "print(math.ceil(x), math.ceil(y))    # Ceiling Function ⌈ ⌉\n",
    "print(math.floor(x), math.floor(y))    # Floor Function ⌊ ⌋\n",
    "print(math.trunc(x), math.trunc(y))    # Removes fractional part\n",
    "print(math.modf(x), math.modf(y))    # Gives truncated fractional and integer parts\n",
    "print(int(x), int(y))    # Python's in-built int\n",
    "print(round(x), round(y))    # Python's in-built round"
   ]
  },
  {
   "cell_type": "code",
   "execution_count": null,
   "id": "3219d27f-8e87-4af6-abb1-285283c550d8",
   "metadata": {},
   "outputs": [],
   "source": [
    "n = 5\n",
    "k = 3\n",
    "print(math.factorial(n))    # Factorial n! = 1 * 2 * ... * n\n",
    "print(math.perm(n, k))    # Permutation P(n, k) = n! / ((n-k)!)\n",
    "print(math.comb(n, k))    # Combination/Binomial C(n, k) = n! / (k! * (n-k)!)"
   ]
  },
  {
   "cell_type": "code",
   "execution_count": null,
   "id": "7694ed9b-7bd0-4aa4-9a7f-3e9761022d79",
   "metadata": {},
   "outputs": [],
   "source": [
    "m, n = (24, 36)\n",
    "print(math.gcd(24, 36))    # Greatest Common Divisor\n",
    "print(math.lcm(24, 36))    # Least Common Multiple"
   ]
  },
  {
   "cell_type": "code",
   "execution_count": null,
   "id": "3ba6e539-9181-43d1-88d1-1c884557d623",
   "metadata": {},
   "outputs": [],
   "source": [
    "x = 1.28\n",
    "print(math.log(x, 3))    # if base is not provided, it'll be e\n",
    "print(math.log2(x))    # log of x, base 2\n",
    "print(math.log10(x))    # log of x, base 10\n",
    "print(math.log1p(x))    # log of (x+1), base e\n",
    "print(math.exp(x))    # Exponential function\n",
    "# print(math.exp2(x))    # 2**x\n",
    "print(math.expm1(x))    # exp(x)-1\n",
    "print(math.pow(x, 1.2))    # power function, works better for float than Python's **\n",
    "print(math.sqrt(x))    # square root\n",
    "# print(math.cbrt(x))    # cube root"
   ]
  },
  {
   "cell_type": "code",
   "execution_count": null,
   "id": "6ab11ecb-a024-4676-a806-d8ded5671b54",
   "metadata": {},
   "outputs": [],
   "source": [
    "x = 0.5\n",
    "print(math.sin(x))    # sine function\n",
    "print(math.cos(x))    # cosine function\n",
    "print(math.tan(x))    # tan function\n",
    "print(math.asin(x))    # inverse sine function\n",
    "print(math.acos(x))    # inverse cosine function\n",
    "print(math.atan(x))    # inverse tan function\n",
    "print(math.sinh(x))    # hyperbolic sine function\n",
    "print(math.cosh(x))    # hyperbolic cosine function\n",
    "print(math.tanh(x))    # hyperbolic tan function\n",
    "print(math.asinh(x))    # inverse hyperbolic sine function\n",
    "print(math.acosh(x+1))    # inverse hyperbolic cosine function\n",
    "print(math.atanh(x))    # inverse hyperbolic tan function"
   ]
  },
  {
   "cell_type": "code",
   "execution_count": null,
   "id": "73bbef1f-4932-4f64-b2fc-d2536e44829e",
   "metadata": {},
   "outputs": [],
   "source": [
    "x, y = 0.5, 0.5\n",
    "print(math.atan2(x, y))    # inverse tan of y/x with correct quadrant\n",
    "print(math.atan2(x, -y))\n",
    "print(math.atan2(-x, y))\n",
    "print(math.atan2(-x, -y))"
   ]
  },
  {
   "cell_type": "code",
   "execution_count": null,
   "id": "bef05a1f-c38f-4db7-b674-017dce11b8c4",
   "metadata": {},
   "outputs": [],
   "source": [
    "x = 0.5\n",
    "print(math.erf(x))    # error function\n",
    "print(math.erfc(x))    # complimentary error function\n",
    "print(math.gamma(x))    # gamma function\n",
    "print(math.lgamma(x))    # natural logarithm of gamma function"
   ]
  },
  {
   "cell_type": "markdown",
   "id": "98743c68-d308-414d-83e7-a8fa5b3bee33",
   "metadata": {},
   "source": [
    "### File Operations\n",
    "1. In `open` command, first argument is a `str` file's name\n",
    "2. Second argument is mode, some common ones are `r` (default) for read-only, `w` for writing, `a` to append data\n",
    "3. These modes can be combined with `t` for text or `b` for binary format\n",
    "4. Close the opened file using `close` method\n",
    "5. Using `with` is recommended and automatically closes the file\n",
    "6. To read the entire file, use `read` method, to read single line use `readline`"
   ]
  },
  {
   "cell_type": "code",
   "execution_count": null,
   "id": "a077beea-0559-4fc4-a2f8-2430a19f3146",
   "metadata": {},
   "outputs": [],
   "source": [
    "ofl = open('myFile.txt', 'w')\n",
    "myStr = \"\"\"the first argument is a string containing the filename.\n",
    "the second argument is another string containing a few characters \n",
    "describing the way in which the file will be used. mode can be 'r'\n",
    "when the file will only be read, 'w' for only writing (an existing\n",
    "file with the same name will be erased), and 'a' opens the file for\n",
    "appending; any data written to the file is automatically added to \n",
    "the end. 'r+' opens the file for both reading and writing. the mode\n",
    "argument is optional; 'r' will be assumed if it’s omitted.\"\"\"\n",
    "ofl.write(myStr)\n",
    "ofl.close()"
   ]
  },
  {
   "cell_type": "code",
   "execution_count": null,
   "id": "6ccd5d4d-944e-423b-a852-5d9ff69f0870",
   "metadata": {},
   "outputs": [],
   "source": [
    "with open('myFile.txt', 'r') as ifl:\n",
    "    s = ifl.read()\n",
    "print(s)\n",
    "print('\\nIs the file closed?', ifl.closed)"
   ]
  },
  {
   "cell_type": "code",
   "execution_count": null,
   "id": "f418566d-44c9-4fee-a0e5-8e654289437c",
   "metadata": {},
   "outputs": [],
   "source": [
    "with open('myFile.txt', 'r') as ifl:\n",
    "    lyn = ifl.readline()\n",
    "    while lyn != '':\n",
    "        print(lyn)\n",
    "        lyn = ifl.readline()"
   ]
  },
  {
   "cell_type": "markdown",
   "id": "6535775e-2880-449d-a17d-c6ba52c11c29",
   "metadata": {},
   "source": [
    "### Examples"
   ]
  },
  {
   "cell_type": "code",
   "execution_count": null,
   "id": "a380d7b6-32f9-414e-af69-4c8692dc0a42",
   "metadata": {},
   "outputs": [],
   "source": [
    "# Find sum of integers from 0 to n, compare with known formula n*(n+1)/2\n",
    "n = 100\n",
    "s = 0\n",
    "for i in range(n+1):\n",
    "    s = s + i\n",
    "print('Sum is:', s)\n",
    "print('Sum using formula:', n * (n+1) // 2)"
   ]
  },
  {
   "cell_type": "code",
   "execution_count": null,
   "id": "741e236a-949b-4b8f-a8a4-0a0ecc544737",
   "metadata": {},
   "outputs": [],
   "source": [
    "# Write a code to find index of first occurence of an element in a list\n",
    "myList = [5, 2, 7, 2, 4, 0]\n",
    "e = 1\n",
    "\n",
    "i = 0\n",
    "while i < len(myList):\n",
    "    if myList[i] == e:\n",
    "        print(\"Found element\", e, \"at position\", i)\n",
    "        break\n",
    "    i += 1\n",
    "else:\n",
    "    print(\"Couldn't find element\", e)\n",
    "# print(myList.index(e))"
   ]
  },
  {
   "cell_type": "code",
   "execution_count": null,
   "id": "7a712f45-b6f5-4f09-b243-03d9d10ef2ca",
   "metadata": {},
   "outputs": [],
   "source": [
    "# Write a code to find whether the given text contains a given string of length 3\n",
    "myStr = '''the \"range\" function is seen so often in for\n",
    "statements that you might think range is part of the for\n",
    "syntax. it is not: it is a python built-in function that\n",
    "returns a sequence following a specific pattern (most\n",
    "often sequential integers), which thus meets the\n",
    "requirement of providing a sequence for the for statement\n",
    "to iterate over. since for can operate directly on\n",
    "sequences, there is often no need to count.'''\n",
    "s0 = 'ten'\n",
    "\n",
    "for j in range(len(myStr)-2):\n",
    "    if myStr[j:j+3] == s0:\n",
    "        print(\"Found\", s0, \"in given text\")\n",
    "        break\n",
    "else:\n",
    "    print(\"Couldn't find\", s0, \"in given text\")\n",
    "# print(myStr.find(s0))"
   ]
  },
  {
   "cell_type": "code",
   "execution_count": null,
   "id": "94239643-16e7-4a30-9c37-65e3becd5610",
   "metadata": {},
   "outputs": [],
   "source": [
    "# Given a dict, make another dict with key and value inversely mapped\n",
    "myDict = {'A': 'α',\n",
    "          'B': 'β',\n",
    "          'C': 'γ',\n",
    "          'D': 'δ',\n",
    "          'E': 'ε'}\n",
    "\n",
    "newDict = {}\n",
    "for k in myDict:\n",
    "    newDict[myDict[k]] = k\n",
    "print(newDict)\n",
    "# newDict = {myDict[k]: k for k in myDict}\n",
    "# newDict = {v: k for k, v in myDict.items()}"
   ]
  },
  {
   "cell_type": "code",
   "execution_count": null,
   "id": "a6cc9dc3-352e-4726-8cc4-02a8591cc689",
   "metadata": {},
   "outputs": [],
   "source": [
    "# Add all the numbers in a tuple, skip if element is not a number\n",
    "myTuple = (3, 1.0, -1+2j, True, \"hello\", [100, 120])\n",
    "\n",
    "s = 0\n",
    "for t in myTuple:\n",
    "    if type(t) not in (int, float, complex):\n",
    "        continue\n",
    "    s += t\n",
    "print(f'Sum of numbers is {s}.')"
   ]
  },
  {
   "cell_type": "code",
   "execution_count": null,
   "id": "f2405c86-8a31-4f23-bb9e-630a470a958c",
   "metadata": {},
   "outputs": [],
   "source": [
    "# Example of append method in list\n",
    "newList = []\n",
    "for i in range(4, 24, 4):\n",
    "    newList.append(i)\n",
    "print(newList)"
   ]
  },
  {
   "cell_type": "code",
   "execution_count": null,
   "id": "6cff3b71-8bb9-4239-91fc-336f54cbda66",
   "metadata": {},
   "outputs": [],
   "source": [
    "# Generate a list of prime numbers <= n by checking divisibility\n",
    "# This method is very inefficient and instead Sieve of Eratosthenes is recommended\n",
    "n = 41\n",
    "\n",
    "primes = []\n",
    "for k in range(2, n+1):\n",
    "    for p in primes:\n",
    "        if k % p == 0:\n",
    "            break\n",
    "    else:\n",
    "        primes.append(k)\n",
    "print(primes)"
   ]
  },
  {
   "cell_type": "code",
   "execution_count": null,
   "id": "e6e2a322-30a2-4c57-9896-ef369f387603",
   "metadata": {},
   "outputs": [],
   "source": [
    "# Make a dict of line number and counts of \"the\" from a given file\n",
    "s3 = 'the'\n",
    "count_dict = {}\n",
    "with open('myFile.txt', 'r') as ifl:\n",
    "    k = 0    # will act as line number\n",
    "    lyn = ifl.readline()    # read first line\n",
    "    while lyn != '':    # stop reading when file ends\n",
    "        print(k, lyn, end = '')\n",
    "        c = 0    # acts as counter for how many s3 we found\n",
    "        for i in range(len(lyn)-2):    # loops over each character in lyn\n",
    "            if lyn[i:i+3] == s3:    # if 3 successive characters match s3, increase c by 1\n",
    "                c += 1\n",
    "        count_dict[k] = c    # store c in dictionary count_dict, k is line number\n",
    "        lyn = ifl.readline()    # read the next line\n",
    "        k += 1    # increment the line number because we read a new line\n",
    "print()\n",
    "print(count_dict)"
   ]
  },
  {
   "cell_type": "code",
   "execution_count": null,
   "id": "81712319-1ce5-43e7-b4a2-a6d3c7dbb715",
   "metadata": {},
   "outputs": [],
   "source": []
  }
 ],
 "metadata": {
  "kernelspec": {
   "display_name": "Python 3 (ipykernel)",
   "language": "python",
   "name": "python3"
  },
  "language_info": {
   "codemirror_mode": {
    "name": "ipython",
    "version": 3
   },
   "file_extension": ".py",
   "mimetype": "text/x-python",
   "name": "python",
   "nbconvert_exporter": "python",
   "pygments_lexer": "ipython3",
   "version": "3.9.8"
  }
 },
 "nbformat": 4,
 "nbformat_minor": 5
}
