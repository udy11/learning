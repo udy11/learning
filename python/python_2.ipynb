{
 "cells": [
  {
   "cell_type": "markdown",
   "id": "82fc1fae-c1c8-47c4-921f-5cf840af7e6a",
   "metadata": {},
   "source": [
    "### Functions\n",
    "1. Function is a process that operates on some objects, does some processing and outputs some objects\n",
    "2. In Python the syntax is:\n",
    "```\n",
    "def myFunction(arg0, arg1, ...):\n",
    "    ... do some processing ...\n",
    "    return out0, out1\n",
    "```\n",
    "3. The function exits if either its indentation is reached or `return` statement is reached. By default, a function returns `None`\n",
    "4. Function's default arguments can appear in the end as `myFunction(arg0, ..., def0 = 12, def1 = \"abc\", ...)`\n",
    "5. An inline function can also be defined as `myFunction = lambda a0, a1: ...some output...`\n",
    "6. Prefer different types of arguments in this order: `f(arg, def_arg = val, *args, **kwargs)`"
   ]
  },
  {
   "cell_type": "code",
   "execution_count": null,
   "id": "57f7cedd-6a5e-4256-88a0-e55caa338339",
   "metadata": {},
   "outputs": [],
   "source": [
    "def fx(x, y):\n",
    "    return 2*x + 3*y\n",
    "\n",
    "print(fx(4, 1))\n",
    "print(fx(2.6, 0.4))\n",
    "print(fx('X', 'Y'))"
   ]
  },
  {
   "cell_type": "code",
   "execution_count": null,
   "id": "5c9a3bfc-e404-4754-b8de-cb455160e5da",
   "metadata": {},
   "outputs": [],
   "source": [
    "fx = lambda x, y: 2*x  + 3*y\n",
    "\n",
    "print(fx(4, 1))\n",
    "z = fx(2.6, 0.4)\n",
    "print(z)\n",
    "print(fx('X', 'Y'))"
   ]
  },
  {
   "cell_type": "code",
   "execution_count": null,
   "id": "9c20f420-17d1-4096-9407-4bdccd615d7f",
   "metadata": {},
   "outputs": [],
   "source": [
    "def fx(x, y):\n",
    "    if x < y:\n",
    "        print(x, \"is smaller than\", y)\n",
    "    elif x == y:\n",
    "        print(x, \"is equal to\", y)\n",
    "    else:\n",
    "        print(x, \"is larger than\", y)\n",
    "\n",
    "fx(-4, -1)\n",
    "fx('x', 'Z')\n",
    "print(fx(0, 0))"
   ]
  },
  {
   "cell_type": "code",
   "execution_count": null,
   "id": "f5424222-a0d5-4edf-9287-024af6adb68f",
   "metadata": {},
   "outputs": [],
   "source": [
    "# A variable defined in a function is private\n",
    "def fx(alpha = -1):\n",
    "    beta = [0, 1, 3, 6, 10]\n",
    "    print(alpha, beta)\n",
    "\n",
    "fx()\n",
    "beta"
   ]
  },
  {
   "cell_type": "code",
   "execution_count": null,
   "id": "20f06da1-7af7-43a6-b2c2-d014c072a06b",
   "metadata": {},
   "outputs": [],
   "source": [
    "# Any undefined variable used in a function is searched in main code\n",
    "def fx0(x):\n",
    "    return const * x\n",
    "\n",
    "def fx1(x):\n",
    "    const = 2\n",
    "    return const * x\n",
    "\n",
    "const = 3\n",
    "print(fx0(5))\n",
    "print(fx1(5))\n",
    "print(const)"
   ]
  },
  {
   "cell_type": "code",
   "execution_count": null,
   "id": "385915c9-7451-431b-b438-4123ae33d6a7",
   "metadata": {},
   "outputs": [],
   "source": [
    "# Example of default arguments in a function\n",
    "def fx(x, y, s = True):\n",
    "    if s:\n",
    "        return max(x, y)\n",
    "    else:\n",
    "        return min(x, y)\n",
    "\n",
    "a = 1\n",
    "b = 4\n",
    "print(fx(a, b))    # Recommended\n",
    "print(fx(a, b, False))\n",
    "print(fx(a, b, s = False))    # Recommended\n",
    "print(fx(x = a, y = b, s = True))"
   ]
  },
  {
   "cell_type": "code",
   "execution_count": null,
   "id": "967cea5e-d8fd-40e5-a409-4ef6cfa3c608",
   "metadata": {},
   "outputs": [],
   "source": [
    "# Functions can modify lists and dicts but not numbers, strings or tuples\n",
    "def gx(a, b, c, d, e, f):\n",
    "    a += 1\n",
    "    b -= 3.2\n",
    "    c += '!!'\n",
    "    d.append(-10)\n",
    "    e = (37, 41, 43, 47)\n",
    "    f[3] = 8128\n",
    "    print(a, b, c, d, e, f)\n",
    "    return    # function returns None\n",
    "\n",
    "p0 = 0\n",
    "p1 = -1.8\n",
    "p2 = \"hello\"\n",
    "p3 = [-7, -8, -9]\n",
    "p4 = (37, 41, 43)\n",
    "p5 = {0: 6, 1: 28, 2: 496}\n",
    "\n",
    "print(p0, p1, p2, ' ', p3, '    ', p4, '   ', p5)\n",
    "gx(p0, p1, p2, p3, p4, p5)\n",
    "print(p0, p1, p2, ' ', p3, p4, '   ', p5)"
   ]
  },
  {
   "cell_type": "code",
   "execution_count": null,
   "id": "993621b8-75ea-40b1-9045-0b375197ad5b",
   "metadata": {},
   "outputs": [],
   "source": [
    "# Arbitrary Arguments, prefer them after arguments and default arguments\n",
    "def fx(a, da = 8, *args):\n",
    "    print(a, da)\n",
    "    print(type(args))\n",
    "    for i in args:\n",
    "        print(2 * i)\n",
    "    return a + da + sum(args)\n",
    "\n",
    "sa = fx(-2, -1, 0, 1, 2)\n",
    "print(\"Sum:\", sa)"
   ]
  },
  {
   "cell_type": "code",
   "execution_count": null,
   "id": "12e58434-c163-4c89-be1e-5d6a3dc85afa",
   "metadata": {},
   "outputs": [],
   "source": [
    "# Keyword Arguments, prefer to keep them last\n",
    "def fx(**kwargs):\n",
    "    print(type(kwargs))\n",
    "    print(kwargs)\n",
    "    for a in kwargs:\n",
    "        print(type(a), a, kwargs[a])\n",
    "\n",
    "fx(alpha = 7, beta = 11)"
   ]
  },
  {
   "cell_type": "code",
   "execution_count": null,
   "id": "e1d6432e-8e22-4cd4-9596-efdb12edcedc",
   "metadata": {},
   "outputs": [],
   "source": [
    "# Using and passing functions in another function\n",
    "fx0 = lambda x: 2 * x\n",
    "fx1 = lambda x: 3 * x\n",
    "def hx(g):\n",
    "    n = 101\n",
    "    print(n, g(n))\n",
    "    print(n, fx0(n))\n",
    "    print(n, fx1(n))\n",
    "hx(fx1)"
   ]
  },
  {
   "cell_type": "code",
   "execution_count": null,
   "id": "ce3b4282-1c21-4742-905d-4dde8759736d",
   "metadata": {},
   "outputs": [],
   "source": [
    "# Recursion\n",
    "def fib(n):\n",
    "    ''' (int) -> int\n",
    "        \n",
    "        Returns n (>= 0) Fibonacci Number\n",
    "        Very inefficient method but used only to demonstrate Recursion\n",
    "        n = 0 -> 1\n",
    "        n = 1 -> 1\n",
    "        n = 2 -> 2\n",
    "        n = 3 -> 3\n",
    "        n = 4 -> 5\n",
    "    '''\n",
    "    if n < 2:\n",
    "        return 1\n",
    "    else:\n",
    "        return fib(n - 1) + fib(n - 2)\n",
    "\n",
    "for i in range(15):\n",
    "    print(fib(i), end = ' ')\n",
    "print('\\n')\n",
    "help(fib)"
   ]
  },
  {
   "cell_type": "code",
   "execution_count": null,
   "id": "bdd206ba-273c-4697-89c0-cbe5dc8f9f99",
   "metadata": {},
   "outputs": [],
   "source": [
    "def y(x):\n",
    "    # I'll write this function later...\n",
    "    pass"
   ]
  },
  {
   "cell_type": "markdown",
   "id": "81756474-ac4d-45de-a940-67e1df192c43",
   "metadata": {},
   "source": [
    "### Strings\n",
    "1. Define with '...' \"...\" '''...''' \"\"\"...\"\"\". Find length using `len`. `*` and `+` work on `str`\n",
    "2. Strings can be iterated over in a loop. Use `in` to find if a string contains another string\n",
    "3. Use `str` command to convert most other data types to string\n",
    "4. Be aware of escape characters like `\\\\ \\n \\t`, etc. Use raw strings `r'...'` to avoid them\n",
    "5. Strings can be formatted using `.format` method or using f-strings `f'..{..}..'`\n",
    "6. Case of a string can be changed using `.upper`, `.lower`, `.title`, etc. methods\n",
    "7. Count, find and replace a substring in a string using `.count`, `.find`, `.index`, `.rfind`, `.rindex`, `.replace` methods\n",
    "8. Methods exist to check the case of a string or if it only contains numbers, alphabets, etc.\n",
    "9. Use `.strip`, `.lstrip`, `.rstrip` method remove whitespaces at a string's ends.\n",
    "10. Use `.center`, `.ljust`, `.rjust` methods to set your string in given length, rest filled with space\n",
    "11. Use `.split` to split a string into a list. Use `.join` to join a list of strings into a single string"
   ]
  },
  {
   "cell_type": "code",
   "execution_count": null,
   "id": "d9976833-4b91-418b-b270-27a7244724ed",
   "metadata": {},
   "outputs": [],
   "source": [
    "# Defining and finding length of string\n",
    "s0 = 'This is \"string\" #0'\n",
    "s1 = \"This is 'string' #1\"\n",
    "s2 = '''This \"is\" 'string' #2'''\n",
    "s3 = \"\"\"This is 'string' #3\n",
    "0123456789\n",
    "ABCDEFGHIJ\n",
    "\"\"\"\n",
    "print(type(s0))\n",
    "print(s0)\n",
    "print(s1)\n",
    "print(s2)\n",
    "print(s3)\n",
    "print('Their Lengths:', len(s0), len(s1), len(s2), len(s3))\n",
    "print('pq' * 5)\n",
    "print('Addition ' + 'works' + ' on strings too!!')"
   ]
  },
  {
   "cell_type": "code",
   "execution_count": null,
   "id": "21e787dd-011e-4625-80df-bc8b07c82e16",
   "metadata": {},
   "outputs": [],
   "source": [
    "# Indexing & Slicing\n",
    "s4 = \"step on no pets!\"\n",
    "print(s4)\n",
    "print(s4[2])\n",
    "print(s4[:7])\n",
    "print(s4[8:])\n",
    "print(s4[::-1])\n",
    "# s4[3] = 'q'    # This won't work because strings are immutable"
   ]
  },
  {
   "cell_type": "code",
   "execution_count": null,
   "id": "9c2fd232-6330-4da2-8d02-fd172d8aa00e",
   "metadata": {},
   "outputs": [],
   "source": [
    "# Iterations and \"in\" operator\n",
    "s5 = 'ananas'\n",
    "for c in s5:\n",
    "    print(c + '.', end = '')\n",
    "print()\n",
    "print('nana' in s5)"
   ]
  },
  {
   "cell_type": "code",
   "execution_count": null,
   "id": "94fdbb14-3560-44a1-b129-074a48b9ccb7",
   "metadata": {},
   "outputs": [],
   "source": [
    "# str command, should work with most objects\n",
    "print(str(15))\n",
    "print(str(-0.175e-4))\n",
    "print(str((1, 2, 3)))\n",
    "print(str([\"a\", 'q', True, -1.07e2]))\n",
    "print(str({\"a\": 0+1j, False: None}))"
   ]
  },
  {
   "cell_type": "code",
   "execution_count": null,
   "id": "88d76456-8e55-4680-8ff1-495c20124607",
   "metadata": {},
   "outputs": [],
   "source": [
    "# Escape Characters and Raw String\n",
    "# Escape Characters: \\' \\\" \\\\ \\n \\r \\t \\a \\b \\f \\v \\ooo \\xhh\n",
    "s6 = 'To,\\n\\\"Respected\\\" Principal,\\n\\n\\tSubject: Never Ever Coming To School...:D \\\\ YOLO!!'\n",
    "print(s6)\n",
    "s7 = r'\\n\\t\\\\'\n",
    "print(s7)\n",
    "print(len(s7))"
   ]
  },
  {
   "cell_type": "code",
   "execution_count": null,
   "id": "f4c525f1-010d-4de9-b02b-7f96238963e4",
   "metadata": {},
   "outputs": [],
   "source": [
    "# String Formatting\n",
    "print(\"%d is %.1f --> %s\" % (3, 3.0, \"False\"))    # NOT RECOMMENDED METHOD\n",
    "print(\"{} == {} --> {}\".format(3, 3.0, True))\n",
    "print(\"{0} is {0} --> {1}\".format(3, True))\n",
    "print(\"{x} is {x} --> {c}\".format(x = 3.0, c = True))\n",
    "print(\"{x} is {x} --> {c}\".format_map({'x': 3, 'c': True}))\n",
    "print(\"{0:d}, {0:.4f}, {0:.3e} are all {1}\".format(291, 'two-hundred-ninety-one'))\n",
    "a = 12\n",
    "b = -8\n",
    "print(f\"{a} + ({b}) = {a+b}\")\n",
    "print(f'{a} in {{{a}: \"p\", {b}: \"q\"}} --> {True}')"
   ]
  },
  {
   "cell_type": "code",
   "execution_count": null,
   "id": "848e0028-4975-4d8d-baf5-5006e5070ce2",
   "metadata": {},
   "outputs": [],
   "source": [
    "# Listing String Methods and Getting Help\n",
    "print(dir(s7), '\\n')\n",
    "help(s7.upper)"
   ]
  },
  {
   "cell_type": "code",
   "execution_count": null,
   "id": "c1a8341e-03dc-47c9-bb2b-3ae8b41fe0e0",
   "metadata": {},
   "outputs": [],
   "source": [
    "# Changing Case of a String\n",
    "s8 = 'string is an IMMUTABLE sequence of Unicode characters. bY default, strings have UTF-8 Encoding support like Δδ!'\n",
    "print(s8.lower())\n",
    "print(s8.upper())\n",
    "print(s8.title())\n",
    "print(s8.swapcase())"
   ]
  },
  {
   "cell_type": "code",
   "execution_count": null,
   "id": "098aa9ce-3b31-4e84-bd4b-4d68adf17b27",
   "metadata": {},
   "outputs": [],
   "source": [
    "# Finding a substring in a string\n",
    "print(s8.find('U'))    # forward searches for substring, returns -1 if not found\n",
    "print(s8.index('U'))    # same as find but throws error if it doesn't find anything\n",
    "print(s8.index('U', 17))    # Searches forward from 17th index, pass another int argument to tell it where to stop searching\n",
    "print(s8.rfind('U'))    # Searches in reverse\n",
    "print(s8.rindex('U'))    # Searches in reverse\n",
    "print(s8.count('U'))    # Counts a substring\n",
    "print(s8.replace('Δδ', 'Ξξ'))    # Replaces substring with another substring"
   ]
  },
  {
   "cell_type": "code",
   "execution_count": null,
   "id": "813b08b3-b356-4e03-baa9-eb6a54fcd55d",
   "metadata": {},
   "outputs": [],
   "source": [
    "# Checking strings for conditions\n",
    "print('alpha'.startswith('al'))\n",
    "print('alpha'.endswith('a'))\n",
    "print('AZaz09'.isalnum(), 'AZaz_09'.isalnum())    # checks if there are alpha-numeric characters only\n",
    "print('AZaz'.isalpha(), 'AZaz09'.isalpha())    # checks if there are alphabetical characters only\n",
    "print('0123456789'.isnumeric(), '0.9'.isnumeric())    # checks if there are numerical characters only. isnumeric supports more Unicode characters than isdecimal and isdigit\n",
    "print('a9'.isidentifier(), '9a'.isidentifier())    # checks if it can be a variable name. doesn't check for keywords, use keyword.iskeyword() for that\n",
    "print('\\n \\t'.isspace(), r'\\n \\t'.isspace())    # checks if there are whitespace characters only ( , \\t, \\n, \\v, \\f, \\r)\n",
    "print('alef'.islower())    # checks if in lower case\n",
    "print('ALEF'.isupper())    # checks if in upper case\n",
    "print('Alef Bet Gimel'.istitle())    # checks if in title case"
   ]
  },
  {
   "cell_type": "code",
   "execution_count": null,
   "id": "91cb4711-305f-434c-afdb-25107d8116c0",
   "metadata": {},
   "outputs": [],
   "source": [
    "# Adjusting strings with whitespaces\n",
    "s9 = '   ek do teen '\n",
    "print(s9)\n",
    "print(s9.strip())\n",
    "print(s9.lstrip())\n",
    "print(s9.rstrip())\n",
    "\n",
    "s10 = 'ichi'\n",
    "print(s10.ljust(10))\n",
    "print(s10.center(10))\n",
    "print(s10.rjust(10))\n",
    "\n",
    "s11 = '93'\n",
    "print(s11.zfill(6))"
   ]
  },
  {
   "cell_type": "code",
   "execution_count": null,
   "id": "73f3af71-e7df-48ba-a33e-b1e57d0a4788",
   "metadata": {},
   "outputs": [],
   "source": [
    "# Splitting and Joining a string\n",
    "print('z y\\nx w'.split())    # splits by delimiters into a list. default is to split by any whitespace\n",
    "print('z y\\nx w'.split(sep = '\\n'))    # to split by a specific single character. for multiple delimiters, re library needs to be used\n",
    "print('z y\\nx w'.split(maxsplit = 2))    # to split only for specific times\n",
    "print('z y\\nx w'.splitlines())    # to split only by newline characters\n",
    "print('z y\\nx w'.partition(' '))    # to split by first occurence of a character\n",
    "print(''.join(['a', 'b', 'c']))    # to join a list of strings into 1 string\n",
    "print('...'.join(['1', '2', '3']))    # if non-empty string is used with join"
   ]
  },
  {
   "cell_type": "markdown",
   "id": "ac085c39-0db7-47b1-8da8-812a426e795b",
   "metadata": {
    "tags": []
   },
   "source": [
    "### Lists\n",
    "1. Define with `[]` or using loops\n",
    "2. Lists can be iterated over in a loop. Use `in` to find if a list contains an element\n",
    "3. Use `list` command to convert most other iterable data types to list\n",
    "4. A list assigned to another variable doesn't actually copy it, use `.copy` method or `[:]` or `list` command\n",
    "5. Methods exist to modify a list in various ways, like `append`, `pop`, `reverse`, `sort`, etc.\n",
    "6. Count and find items in a list using `.count`, `.index` methods"
   ]
  },
  {
   "cell_type": "code",
   "execution_count": null,
   "id": "717928bd-0712-4c43-9b96-3114b7a28203",
   "metadata": {},
   "outputs": [],
   "source": [
    "# Defining and finding length of list\n",
    "list_0 = []\n",
    "list_1 = [1, '', (5, 7), {1: 0, 0: 1}, 9.3e-2]\n",
    "list_2 = [1, 2, 3,\n",
    "          4, 5, 6,\n",
    "          7, 8, 9]\n",
    "list_3 = [i ** 2 for i in range(1, 7)]\n",
    "\n",
    "print(type(list_0))\n",
    "print(list_0)\n",
    "print(list_1)\n",
    "print(list_2)\n",
    "print(list_3)\n",
    "print('Their Lengths:', len(list_0), len(list_1), len(list_2), len(list_3))\n",
    "print([i for i in range(14) if i % 3 == 0])\n",
    "print([7, \"a\"] * 3)\n",
    "print([1, 2] + [3, 4, 5])"
   ]
  },
  {
   "cell_type": "code",
   "execution_count": null,
   "id": "0ea0a1ba-fcb9-43df-b548-27a32a5611f6",
   "metadata": {},
   "outputs": [],
   "source": [
    "# Indexing & Slicing\n",
    "list_4 = [i for i in range(10)]\n",
    "print(list_4)\n",
    "print(list_4[2])\n",
    "print(list_4[:4])\n",
    "print(list_4[7:])\n",
    "print(list_4[::-1])\n",
    "print()\n",
    "list_4[3] = 'q'    # This works because lists are mutable\n",
    "print(list_4)\n",
    "list_4[3:6] = 'q'\n",
    "print(list_4)\n",
    "list_4[3:6] = ['a', 'b']\n",
    "print(list_4)"
   ]
  },
  {
   "cell_type": "code",
   "execution_count": null,
   "id": "f470fe58-4700-4b96-8a0f-903d991bf9c3",
   "metadata": {},
   "outputs": [],
   "source": [
    "# Iterations and \"in\" operator\n",
    "for e in list_1:\n",
    "    print(e)\n",
    "print()\n",
    "print(5 in list_1)\n",
    "print((5, 7) in list_1)\n",
    "print(0.93e-1 in list_1)"
   ]
  },
  {
   "cell_type": "code",
   "execution_count": null,
   "id": "d15a9c31-0bcd-4767-9f9b-753224b63b1b",
   "metadata": {},
   "outputs": [],
   "source": [
    "# list command, should work with most iterable type objects\n",
    "# print(list(15))    # will give error\n",
    "print(list((1, 2, 3)))\n",
    "print(list('abc.ABC 123'))\n",
    "print(list({\"a\": 0+1j, False: None}))\n",
    "print(list(range(100, 116, 4)))"
   ]
  },
  {
   "cell_type": "code",
   "execution_count": null,
   "id": "3e72e1ed-ba03-454c-b8ab-3e79f4fcda06",
   "metadata": {},
   "outputs": [],
   "source": [
    "# List Methods and Getting Help\n",
    "print(dir(list_4), '\\n')\n",
    "help(list_4.append)"
   ]
  },
  {
   "cell_type": "code",
   "execution_count": null,
   "id": "e069b9fd-5c74-4073-be9b-c7d1890b2070",
   "metadata": {},
   "outputs": [],
   "source": [
    "# List copying\n",
    "list_5 = [1, 2, 3]\n",
    "list_6 = list_5\n",
    "list_7 = list_5.copy()    # list_5[:] or list(list_5)\n",
    "list_5[1] = 100\n",
    "print(list_5)\n",
    "print(list_6)\n",
    "print(list_7)"
   ]
  },
  {
   "cell_type": "code",
   "execution_count": null,
   "id": "6b20cea0-2176-4da8-b623-c25dce37233f",
   "metadata": {},
   "outputs": [],
   "source": [
    "# Modifying List\n",
    "list_8 = [11, 12, 13]\n",
    "print('original list:', list_8)\n",
    "\n",
    "for i in range(14, 18):\n",
    "    list_8.append(i)    # appends an item at the end of the list\n",
    "print('appended some items:', list_8)\n",
    "\n",
    "a = list_8.pop()    # by default, removes last element\n",
    "print('popped last item:', a, list_8)\n",
    "\n",
    "list_8.remove(13)    # value to remove\n",
    "print('removed item 13:', list_8)\n",
    "\n",
    "list_8.insert(2, 13)    # index, value to insert\n",
    "print('inserted 13 at index 2:', list_8)\n",
    "\n",
    "list_8.reverse()\n",
    "print('reversed list:', list_8)\n",
    "\n",
    "list_8.sort(reverse = False)    # sorts the list, use reverse to change order\n",
    "print('ascendingly sorted:', list_8)"
   ]
  },
  {
   "cell_type": "code",
   "execution_count": null,
   "id": "586825c9-e279-42cb-8f79-b3463b963229",
   "metadata": {},
   "outputs": [],
   "source": [
    "# Finding and counting an item in list\n",
    "list_9 = [0, 1, 1, 2, 0, 1, 2, 0, 0]\n",
    "print(list_9.index(2))    # forward searches for item, throws error if not found\n",
    "print(list_9.index(2, 4))    # forward searches for item from given index\n",
    "print(list_9.count(0))    # counts an item"
   ]
  },
  {
   "cell_type": "markdown",
   "id": "f3f2b991-9ec4-44eb-a218-b000a3e196e5",
   "metadata": {
    "tags": []
   },
   "source": [
    "### Dictionaries\n",
    "1. Define with `{key: value, ...}` or using loops\n",
    "2. Dictionaries can be iterated over in a loop. Use `in` to find if an item is a key of the dictionary\n",
    "3. A dictionary assigned to another variable doesn't actually copy it, use `.copy` method or `dict` command\n",
    "4. Use `.keys`, `.values`, `.items`, `.get` to get keys, values, (key, value) pairs and particular value of a `dict`"
   ]
  },
  {
   "cell_type": "code",
   "execution_count": null,
   "id": "78c1f5c9-045d-4122-929a-2383f49ca608",
   "metadata": {},
   "outputs": [],
   "source": [
    "# Defining and finding length of dict\n",
    "d0 = {}\n",
    "d1 = {0: 0, 1j: 1.0, (4, 5): 'pink', '0': 0}\n",
    "d2 = {0: 'zero',\n",
    "      1: 'one',\n",
    "      2: 'two'}\n",
    "d3 = {str(i): 10 * i for i in range(2, 9)}\n",
    "\n",
    "print(type(d0))\n",
    "print(d0)\n",
    "print(d1)\n",
    "print(d2)\n",
    "print(d3)\n",
    "print('Their Lengths:', len(d0), len(d1), len(d2), len(d3))"
   ]
  },
  {
   "cell_type": "code",
   "execution_count": null,
   "id": "b2514124-128f-438b-b22a-2dc8401db0af",
   "metadata": {},
   "outputs": [],
   "source": [
    "# Indexing works by using keys as index\n",
    "d1 = {0: 0, 1j: 1.0, (4, 5): 'pink', '0': 0}\n",
    "print(d1)\n",
    "print(d1[0])\n",
    "print(d1[(4, 5)])\n",
    "d1[1] = ['O', 'N', 'E']\n",
    "d1[0.0] = \"zero\"\n",
    "print(d1)"
   ]
  },
  {
   "cell_type": "code",
   "execution_count": null,
   "id": "8cfeee03-e8f1-458d-a31e-0303d777c524",
   "metadata": {},
   "outputs": [],
   "source": [
    "# Iterations and \"in\" operator\n",
    "d1 = {0: \"zero\", 1j: 1.0, (4, 5): 'pink', '0': 0}\n",
    "for k in d1:\n",
    "    print(k, d1[k])\n",
    "print()\n",
    "print('a' in d1)\n",
    "print(0.0 in d1)\n",
    "print('0' in d1)"
   ]
  },
  {
   "cell_type": "code",
   "execution_count": null,
   "id": "7c23b7e8-3346-40d9-ab53-071eb01b6f79",
   "metadata": {},
   "outputs": [],
   "source": [
    "# dict command, should work on iterable data types whose elements are iterable data types of size 2\n",
    "print(dict([(0, 100), (1, 104), (2, 109)]))\n",
    "print(dict(['ab', range(3, 7, 3), [(1,), 1]]))"
   ]
  },
  {
   "cell_type": "code",
   "execution_count": null,
   "id": "32aa5546-c9a2-45f0-8498-730032b69006",
   "metadata": {},
   "outputs": [],
   "source": [
    "# dict Methods and Getting Help\n",
    "print(dir(d3), '\\n')\n",
    "help(d3.keys)"
   ]
  },
  {
   "cell_type": "code",
   "execution_count": null,
   "id": "f74257a4-2a0b-49e0-b3d0-6c6bd886155a",
   "metadata": {},
   "outputs": [],
   "source": [
    "# .keys, .values, .items and .get Methods\n",
    "d1 = {0: \"zero\", 1j: 1.0, (4, 5): 'pink', '0': 0}\n",
    "print(d1.keys())\n",
    "print(d1.values())\n",
    "print(d1.items())\n",
    "print(d1.get(100))    # d1[100] will throw an error\n",
    "print(d1.get(0.0))    # works even though 0.0 is float\n",
    "d1[4] = d1.get(4, 44)    # if key is not found, 2nd argument is returned. this method is shortcut for if statement below\n",
    "#if 4 not in d1:\n",
    "#    d1[4] = 44\n",
    "print(d1)"
   ]
  },
  {
   "cell_type": "markdown",
   "id": "5deb854a-d059-4106-8214-e81b675070ca",
   "metadata": {
    "tags": []
   },
   "source": [
    "### `try` ... `except`"
   ]
  },
  {
   "cell_type": "code",
   "execution_count": null,
   "id": "22d19898-7189-401b-97c5-29938a90d8fe",
   "metadata": {},
   "outputs": [],
   "source": [
    "a = 1\n",
    "b = 0\n",
    "print(a / b)"
   ]
  },
  {
   "cell_type": "code",
   "execution_count": null,
   "id": "aafa8f6c-34bc-4a52-9cb5-780d6950ed9c",
   "metadata": {},
   "outputs": [],
   "source": [
    "import math\n",
    "a = 1\n",
    "b = 0\n",
    "try:\n",
    "    print(a / b)\n",
    "except:\n",
    "    print(math.inf)"
   ]
  },
  {
   "cell_type": "markdown",
   "id": "8f8edc43-1068-45cd-86f8-65f848db9a47",
   "metadata": {},
   "source": [
    "### Examples"
   ]
  },
  {
   "cell_type": "code",
   "execution_count": null,
   "id": "927d3d5a-e503-4510-8fce-9ba8a8faa0fb",
   "metadata": {},
   "outputs": [],
   "source": [
    "# Write a function to return cosh(x) + sinh(x)\n",
    "import math\n",
    "\n",
    "def f0(x):\n",
    "    return math.cosh(x) + math.sinh(x)\n",
    "\n",
    "print(f0(0.3))\n",
    "print(f0(-0.3))"
   ]
  },
  {
   "cell_type": "code",
   "execution_count": null,
   "id": "9cfb4330-54f3-49ca-941b-9b9a94827cfe",
   "metadata": {},
   "outputs": [],
   "source": [
    "# Given a list, define a function that only retains numerical elements in the list\n",
    "def keepNumbersOnly(inList):    # function returns None\n",
    "    delList = []\n",
    "    for e in inList:\n",
    "        if type(e) not in (int, float, complex):\n",
    "            delList.append(e)\n",
    "    for e in delList:\n",
    "        inList.remove(e)\n",
    "\n",
    "a = [-5, 0.42, \"100\", [0, 1], ('u', 'v'), 9.3+0.5j]\n",
    "b = keepNumbersOnly(a)    # output of function is assigned to b\n",
    "print(b)\n",
    "print(a)"
   ]
  },
  {
   "cell_type": "code",
   "execution_count": null,
   "id": "5f21f6f5-02f3-405b-8d78-b2bbdc6448fa",
   "metadata": {},
   "outputs": [],
   "source": [
    "# Write a function that checks if a triangle with given 2d co-oridnates is a right-triangle or not\n",
    "import math\n",
    "\n",
    "def dist(x0, y0, x1, y1):\n",
    "    return math.sqrt((x0 - x1)**2 + (y0 - y1)**2)\n",
    "\n",
    "def isRightTriangle(x0, y0, x1, y1, x2, y2, eps = 1.0e-12):\n",
    "    ds = []    # to store distances between vertices\n",
    "    ds.append(dist(x0, y0, x1, y1))\n",
    "    ds.append(dist(x0, y0, x2, y2))\n",
    "    ds.append(dist(x1, y1, x2, y2))\n",
    "    ds.sort()\n",
    "    return math.fabs(ds[2]**2 - ds[1]**2 - ds[0]**2) <= eps\n",
    "\n",
    "print(isRightTriangle(1, 0, 0, 2, 0, 0))\n",
    "print(isRightTriangle(1, 0, 0, 2, 0, 0.001))\n",
    "print(isRightTriangle(1, 0, 0, 2, 0, 0.001, eps = 1.0e-2))"
   ]
  },
  {
   "cell_type": "code",
   "execution_count": null,
   "id": "df9abdea-569d-4b43-8d30-0c18b894e797",
   "metadata": {},
   "outputs": [],
   "source": [
    "# Given a long string, write a function to return a string made of only its capital letters and for any full-stop, add a space\n",
    "def getCapital(s0):\n",
    "    s1 = ''\n",
    "    for c in s0:\n",
    "        if c.isupper():\n",
    "            s1 += c\n",
    "        elif c == '.':\n",
    "            s1 += ' '\n",
    "    return s1\n",
    "\n",
    "msg = '''Phosphor Radiates, Occluding Jaded Eyes, Come Titan.\n",
    "Outward Ring Avian Choruses, Looping Eternity.\n",
    "Cages Of Men Melt As Night Descends.\n",
    "Emerge Xelhua, Erect Cholula Under These Expanses.\n",
    "Puppets Lie Awake, Never Sleeping.'''\n",
    "print(getCapital(msg))"
   ]
  },
  {
   "cell_type": "code",
   "execution_count": null,
   "id": "018026e4-7d37-4107-9204-54ef627055cf",
   "metadata": {},
   "outputs": [],
   "source": [
    "# Given a dict of {int: int}, write a function to invert it and if a value occurs multiple times, keep the least of them\n",
    "def dictInv(d0):\n",
    "    d1 = {}\n",
    "    for k, v in d0.items():\n",
    "#        if v in d1:\n",
    "#            d1[v] = min(d1[v], k)\n",
    "#        else:\n",
    "#            d1[v] = k\n",
    "        d1[v] = min(d1.get(v, k), k)\n",
    "    return d1\n",
    "\n",
    "myDict = {0: 110, 1: 118, 2: 114, 3: 118, 4: 115, 5: 114, 6: 118, 7: 112}\n",
    "print('myDict.items():', myDict.items())\n",
    "print(dictInv(myDict))"
   ]
  }
 ],
 "metadata": {
  "kernelspec": {
   "display_name": "Python 3 (ipykernel)",
   "language": "python",
   "name": "python3"
  },
  "language_info": {
   "codemirror_mode": {
    "name": "ipython",
    "version": 3
   },
   "file_extension": ".py",
   "mimetype": "text/x-python",
   "name": "python",
   "nbconvert_exporter": "python",
   "pygments_lexer": "ipython3",
   "version": "3.9.8"
  }
 },
 "nbformat": 4,
 "nbformat_minor": 5
}
