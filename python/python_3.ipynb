{
 "cells": [
  {
   "cell_type": "markdown",
   "id": "76ff8b8f-80ba-4f66-9eb5-5809db77d41a",
   "metadata": {},
   "source": [
    "### Importing Libraries\n",
    "Python libraries can be imported in many ways:\n",
    "1. `import math`, all elements of `math` are then called like `math.sin`\n",
    "2. `import numpy as np`, all elements of `numpy` are then called like `np.sin`\n",
    "3. `from math import sin, cos`, this only imports `sin` and `cos` functions, they can be directly called like `sin`\n",
    "4. `from math import *`, this imports all functions from `math` and can be used directly like `sin`, `cos`\n",
    "\n",
    "I'll recommend to only use the first method by default and use second method only if it is widely used and acceptable"
   ]
  },
  {
   "cell_type": "code",
   "execution_count": null,
   "id": "0f103ec6-e681-4ef4-aa8d-5edc27dcda4a",
   "metadata": {},
   "outputs": [],
   "source": [
    "import math\n",
    "print(math.tan(math.pi))"
   ]
  },
  {
   "cell_type": "code",
   "execution_count": null,
   "id": "049934c4-df1f-4560-90c2-e55ab221e8e3",
   "metadata": {},
   "outputs": [],
   "source": [
    "import numpy as np\n",
    "print(np.tan(np.pi))"
   ]
  },
  {
   "cell_type": "code",
   "execution_count": null,
   "id": "9f1481d5-ca34-41e7-bb6b-9671a9b3b0cc",
   "metadata": {},
   "outputs": [],
   "source": [
    "from math import sin, tan\n",
    "print(sin(np.pi))"
   ]
  },
  {
   "cell_type": "code",
   "execution_count": null,
   "id": "4e3ba11b-03f1-483d-9bdc-6dfb50a9a5a9",
   "metadata": {},
   "outputs": [],
   "source": [
    "from math import *\n",
    "print(cos(np.pi * 0.5))"
   ]
  },
  {
   "cell_type": "markdown",
   "id": "88b94d93-12e9-4883-8b13-2abb496f4a5d",
   "metadata": {},
   "source": [
    "### NumPy Arrays\n",
    "1. Make arrays from other array type objects or using commands like `np.empty`, `np.zeros`, `np.ones`, `np.linspace`, `np.arange`\n",
    "2. Data type of NumPy array can be checked using `.dtype` method\n",
    "3. Array's shape can be obtained using `.shape`, use `.ndim` to get dimensions of the array\n",
    "4. Arrays can be reshaped to other shapes using `.reshape` method\n",
    "5. Data type can also be specified in most cases as `dtype` option, or change dtype using `.astype` method\n",
    "6. Indexing and Slicing work as list but in addition a list of `int` or `bool` can also be used\n",
    "7. Direct operations like addition, subtraction, multiplication, etc. work as one would expect from a vector\n",
    "8. NumPy has inbuilt mathematical functions like `np.sin`, `np.arccos`, `np.tanh`, `np.exp`, `np.log`, `np.floor`, etc. and they can directly operate on arrays"
   ]
  },
  {
   "cell_type": "code",
   "execution_count": null,
   "id": "86053ff3-cd29-4887-aadd-2942d54763cb",
   "metadata": {},
   "outputs": [],
   "source": [
    "import numpy as np"
   ]
  },
  {
   "cell_type": "code",
   "execution_count": null,
   "id": "3c0da265-03ae-4588-86e5-0a0a64be2342",
   "metadata": {},
   "outputs": [],
   "source": [
    "# numpy.ndarray class\n",
    "a = np.array([1, 2, 3])\n",
    "print(a)\n",
    "print(type(a))"
   ]
  },
  {
   "cell_type": "code",
   "execution_count": null,
   "id": "36ec1798-4406-403e-9740-32926fbe24ae",
   "metadata": {},
   "outputs": [],
   "source": [
    "# Defining NumPy array\n",
    "a0 = np.array([1, 2, 3, 4, 5])\n",
    "a1 = np.array((1, 2, 3, 4, 5.0))\n",
    "a2 = np.empty(4)\n",
    "a3 = np.zeros(4)\n",
    "a4 = np.ones(4)\n",
    "a5 = np.linspace(1, 2, 5)    # does include the last element\n",
    "a6 = np.arange(1, 2, 0.25)    # will not reach the last element\n",
    "a7 = np.logspace(1, 3, 4, base = 10)    # generates array on logarithmic scale\n",
    "a8 = np.eye(3)\n",
    "print('from list:', a0)\n",
    "print('from tuple:', a1)\n",
    "print('empty:', a2)\n",
    "print('zeros:', a3)\n",
    "print('ones:', a4)\n",
    "print('linspace:', a5)\n",
    "print('arange:', a6)\n",
    "print('logspace:', a7)\n",
    "print('identity matrix:', a8)"
   ]
  },
  {
   "cell_type": "code",
   "execution_count": null,
   "id": "52e086c3-dc21-4b9b-9357-988b5224df38",
   "metadata": {},
   "outputs": [],
   "source": [
    "# Data Type of numpy arrays\n",
    "a0 = np.array([41, 45, 57, 63])\n",
    "a1 = np.array([41, 45, 57, 63.0])\n",
    "a2 = np.array([41, 45, 57, 63+0j])\n",
    "a3 = np.array([True, False, False])\n",
    "a4 = np.array([1, 'hello', 3.9e-3, True])\n",
    "print(a0.dtype, a0)\n",
    "print(a1.dtype, a1)\n",
    "print(a2.dtype, a2)\n",
    "print(a3.dtype, a3)\n",
    "print(a4.dtype, a4)"
   ]
  },
  {
   "cell_type": "code",
   "execution_count": null,
   "id": "a428b448-e941-410c-a634-07e43037a4bb",
   "metadata": {},
   "outputs": [],
   "source": [
    "# Multi-dimensional arrays\n",
    "a0 = np.array([[1, 2, 5, 3, 1], [6, 8, 9, 7, 8], [5, 2, 8, 1, 0]])\n",
    "print('Array:', a0)\n",
    "print('Shape:', np.shape(a0))\n",
    "print('Size along axis 0:', np.size(a0, axis = 0))\n",
    "print('Size along axis 1:', np.size(a0, axis = 1))\n",
    "print('Length:', len(a0))\n",
    "print('Dimensions:', np.ndim(a0))\n",
    "print('Dimensions:', a0.ndim)"
   ]
  },
  {
   "cell_type": "code",
   "execution_count": null,
   "id": "2bf0b61e-a44f-453c-9dcc-a2c52e39b78b",
   "metadata": {},
   "outputs": [],
   "source": [
    "# Reshaping arrays\n",
    "a = np.linspace(0, 7, 8)\n",
    "\n",
    "print('array:', a)\n",
    "print('array reshaped to 2x4:', a.reshape((2, 4)))\n",
    "print('array reshaped to 8x1:', a.reshape((8, 1)))\n",
    "print('array reshaped to 2x2x2:', a.reshape((2, 2, 2)))\n",
    "\n",
    "a = np.array([[1, 2], [3, 4]])\n",
    "print('\\narray:', a)\n",
    "print('array reshaped to 4:', a.reshape(4))"
   ]
  },
  {
   "cell_type": "code",
   "execution_count": null,
   "id": "bc9c74d0-7097-4d59-9a3f-f8cbde027607",
   "metadata": {},
   "outputs": [],
   "source": [
    "# Changing dtpye\n",
    "a0 = np.array([0.0, 1.0, 2.001], dtype = np.int32)\n",
    "a1 = np.array([0.0, 1.0, 2.001], dtype = np.complex128)\n",
    "a2 = np.array([0, 1, 2], dtype = np.float64)\n",
    "a3 = np.array([0.0, 1.0, -2.001], dtype = np.bool_)\n",
    "a4 = np.linspace(-2, -8, 7, dtype = np.int64)\n",
    "a5 = a4.astype(np.float64)\n",
    "print(a0.dtype, a0)\n",
    "print(a1.dtype, a1)\n",
    "print(a2.dtype, a2)\n",
    "print(a3.dtype, a3)\n",
    "print(a4.dtype, a4)\n",
    "print(a5.dtype, a5)"
   ]
  },
  {
   "cell_type": "code",
   "execution_count": null,
   "id": "fced7e50-e3d7-48d1-ac34-86f4909ea982",
   "metadata": {},
   "outputs": [],
   "source": [
    "# Indexing and Slicing\n",
    "a = np.linspace(0, 9, 10, dtype = np.int32)\n",
    "print(\"array    \", a)\n",
    "print(\"1:4      \", a[1:4])\n",
    "print(\"1:6:2    \", a[1:6:2])\n",
    "print(\"6:1:-1   \", a[6:1:-1])\n",
    "print(\"-1:-6:-1 \", a[-1:-6:-1])\n",
    "print(\"-6:-1:1  \", a[-6:-1:1])\n",
    "print(\"-6:1:-1  \", a[-6:1:-1])\n",
    "print(\":3       \", a[:3])\n",
    "print(\"4:       \", a[4:])\n",
    "print(\"::2      \", a[::2])\n",
    "print(\"1::2     \", a[1::2])\n",
    "print(\"::-1     \", a[::-1])\n",
    "print(\"ints     \", a[[2, -2, 4, 0]])    # an array of ints as index, can be in any order but must be in limits [-len(a), len(a))\n",
    "print(\"bools    \", a[[True, False, False, True, True, False, False, True, False, True]])    # an array of bool as index, must be of same size as array\n",
    "\n",
    "# In a multi-dimensional NumPy array\n",
    "a = np.array([[1, 2, 3], [6, 7, 8]])\n",
    "print(a[0, 2], a[0][2])"
   ]
  },
  {
   "cell_type": "code",
   "execution_count": null,
   "id": "0576e7bd-3b2c-4e0d-a623-24b58fb7ab17",
   "metadata": {},
   "outputs": [],
   "source": [
    "# Joining and Modifying Arrays\n",
    "a = np.linspace(0, 2, 3)\n",
    "b = np.logspace(0, 2, 3)\n",
    "print('array a:', a)\n",
    "print('array b:', b)\n",
    "print('joined array:', np.concatenate((a, b)))\n",
    "print('append 3 to a:', np.append(a, 3))\n",
    "print('a is unchanged though:', a)\n",
    "ab = np.stack((a, b))\n",
    "print('stack:', ab, np.shape(ab))\n",
    "print('hstack:', np.hstack((a, b)))\n",
    "print('vstack:', np.vstack((a, b)))\n",
    "print('flatten a 2d array:', ab.flatten())\n",
    "print('flip:', np.flip(a))\n",
    "print('split:', np.split(np.hstack((a, b)), 3))"
   ]
  },
  {
   "cell_type": "markdown",
   "id": "07b05c6b-671c-4955-bdde-e2b1cbbdc8a3",
   "metadata": {},
   "source": [
    "### NumPy Math\n",
    "1. Can apply operators directly on NumPy arrays\n",
    "2. Several common math functions like `sin`, `exp`, `sqrt` exist\n",
    "3. Maximum, Minimum, Sorting and respective indices can be found\n",
    "4. Sum, product, differentiation and integration can be performed on arrays\n",
    "5. Arrays can be checked for their bool conversion and if they contain inf or nan\n",
    "6. Basic statistics and FFT functions exist\n",
    "7. `axis` is a very important option applicable to most functions that specifies along which axis of the array to operate"
   ]
  },
  {
   "cell_type": "code",
   "execution_count": null,
   "id": "882e0537-a025-4f43-89c2-481ccc94fbf7",
   "metadata": {},
   "outputs": [],
   "source": [
    "import numpy as np"
   ]
  },
  {
   "cell_type": "code",
   "execution_count": null,
   "id": "fe38b0b1-3270-4b4b-ab30-f8214e4521ad",
   "metadata": {},
   "outputs": [],
   "source": [
    "# Direct Operations\n",
    "a = np.array([0, 1, 2])\n",
    "b = np.array([6, 8, 7])\n",
    "\n",
    "print('a + b =', a + b)    # addition\n",
    "print('5 + b =', 5 + b)    # addition with scalar\n",
    "print('a * b =', a * b)    # multiplication\n",
    "print('3 * a =', 3 * a)    # multiplication by scalar\n",
    "print('a @ b =', a @ b)    # dot product or matrix multiplication"
   ]
  },
  {
   "cell_type": "code",
   "execution_count": null,
   "id": "8a38c2d1-d82a-4c85-b19c-4b2b49122f74",
   "metadata": {},
   "outputs": [],
   "source": [
    "# Inbuilt Functions and constants\n",
    "a = np.array([0.3, 1.8, 4])\n",
    "\n",
    "print('π =', np.pi)\n",
    "print('e =', np.e)\n",
    "print('floor(a) =', np.floor(a))\n",
    "print('sqrt(a) =', np.sqrt(a))\n",
    "print('exp(a) =', np.exp(a))\n",
    "print('exp(a)-1 =', np.expm1(a))\n",
    "print('log(a) =', np.log(a))\n",
    "print('sin(a) =', np.sin(a))\n",
    "print('arctan(a) =', np.arctan(a))"
   ]
  },
  {
   "cell_type": "code",
   "execution_count": null,
   "id": "2c5a1328-c6a1-4e5b-b76b-f47bed05fd99",
   "metadata": {},
   "outputs": [],
   "source": [
    "# Max, Min, Sort\n",
    "print('Max:', np.max([[1, 4, 2], [2, -1, 3]]))\n",
    "print('Max along axis 1:', np.max([[1, 4, 2], [2, -1, 3]], axis = 1))\n",
    "print('Min:', np.min([2, 1, 3, 0]))\n",
    "print('Index of Max:', np.argmax([2, 1, 3, 0]))\n",
    "print('Index of Min:', np.argmin([2, 1, 3, 0]))\n",
    "print('Sort:', np.sort([2, 1, 3]))    # no option yet to do in reverse order!\n",
    "print('Indices after Sorting:', np.argsort([2, 1, 3]))"
   ]
  },
  {
   "cell_type": "code",
   "execution_count": null,
   "id": "1fddeedd-d464-41de-84ec-e316808566a3",
   "metadata": {},
   "outputs": [],
   "source": [
    "# Sum, Product and basic Calculus\n",
    "print('Sum:', np.sum(np.linspace(0, 10, 11)))\n",
    "print('Product:', np.prod(np.linspace(1, 4, 4)))\n",
    "print('Diff:', np.diff(np.linspace(1, 4, 4)))    # size reduced by 1\n",
    "print('Cross Product:', np.cross([1, 2, 3], [2, 3, 4]))    # works on 2d and 3d\n",
    "print('Differentiation:', np.gradient([4, 5, 7, 10]))    # uses central difference, forward and backward formulas. can optionally use axis data or gaps\n",
    "print('Integration:', np.trapz([0, 1, 2, 3]))    # uses Trapezoidal Formula. can optionally use x axis or dx as options\n",
    "# scipy.integrate.cumtrapz()"
   ]
  },
  {
   "cell_type": "code",
   "execution_count": null,
   "id": "b7703fdf-a026-4068-b026-45dc88d08d19",
   "metadata": {},
   "outputs": [],
   "source": [
    "# Logic Functions\n",
    "print(np.all(np.array([-1, 1, 2])))    # checks if all convert to True\n",
    "print(np.any(np.array([False, True, False])))    # checks if any of element converts to True\n",
    "print(np.isfinite([np.inf, np.nan, -44+3j]))    # checks if input if finite number\n",
    "print(np.isnan([np.inf, np.nan, 100]))    # checks if input is nan\n",
    "print(np.isinf([np.inf, np.nan, -3.567]))    # checks if input is inf"
   ]
  },
  {
   "cell_type": "code",
   "execution_count": null,
   "id": "4425f77a-0f23-4072-ab9c-b931ea4a099c",
   "metadata": {},
   "outputs": [],
   "source": [
    "# Statistics\n",
    "a = np.array([1, 2, 4, 6, 9], dtype = np.float64)\n",
    "print('Peak-to-peak range:', np.ptp(a))\n",
    "print('Mean:', np.mean(a))\n",
    "print('Median:', np.median(a))\n",
    "print('Standard Variation:', np.std(a))\n",
    "print('Variance:', np.var(a))"
   ]
  },
  {
   "cell_type": "code",
   "execution_count": null,
   "id": "398c35ac-aeec-4d01-acd2-1ca736bef051",
   "metadata": {},
   "outputs": [],
   "source": [
    "# Standard FFT routines, but prefer scipy.fft instead\n",
    "a = np.linspace(0, 3, 4)\n",
    "fa = np.fft.fft(a)    # multi-dimensional FFT functions also exist\n",
    "print('fft: ', fa)\n",
    "print('ifft of fft:', np.fft.ifft(fa))\n",
    "rfa = np.fft.rfft(a)\n",
    "print('real fft: ', rfa)\n",
    "print('ifft of rfft:', np.fft.irfft(rfa))\n",
    "freq0 = np.fft.fftfreq(5, d = 0.1)\n",
    "print('Frequencies for 5 time data points sampled at 0.1:', freq0)\n",
    "freq1 = np.fft.fftshift(freq0)\n",
    "print('Shifted Frequencies:', freq1)"
   ]
  },
  {
   "cell_type": "markdown",
   "id": "838fae0f-6bf4-4d06-86e9-b4a937838894",
   "metadata": {},
   "source": [
    "### NumPy Linear Algebra\n",
    "1. Use `@` operator for matrix multiplication\n",
    "2. Functions exist to find trace, norm, transpose, power, determinant, inverse of arrays\n",
    "3. System of linear equations can be solved using `np.linalg.solve()`\n",
    "4. Functions exist to calculate eigenvalues and eigenvectors\n",
    "5. There are some more advanced functions, like SVD decomposition, etc.\n",
    "6. Prefer `scipy` library for more advanced usage"
   ]
  },
  {
   "cell_type": "code",
   "execution_count": null,
   "id": "1b30ffdc-c44c-4ab2-a098-fdd61fd0f2e2",
   "metadata": {},
   "outputs": [],
   "source": [
    "import numpy as np"
   ]
  },
  {
   "cell_type": "code",
   "execution_count": null,
   "id": "6fd6171f-0c94-4a6b-98a9-6989106a76e7",
   "metadata": {
    "tags": []
   },
   "outputs": [],
   "source": [
    "# Matrix Multiplication\n",
    "# np.matmul() and np.dot() also multiply matrices but have some technical differences, for now prefer @\n",
    "a = np.array([[1, 2], [3, 4]])\n",
    "b = np.array([1, 2])\n",
    "print('b @ b =', b @ b)\n",
    "print('a @ b =', a @ b)\n",
    "print('b @ a =', b @ a)\n",
    "print('a @ a =', a @ a)\n",
    "\n",
    "# Be careful with associativity and prefer parentheses to avoid confusion\n",
    "print('\\na @ b @ a =', a @ b @ a)\n",
    "print('(a @ b) @ a =', (a @ b) @ a)\n",
    "print('a @ (b @ a) =', a @ (b @ a))"
   ]
  },
  {
   "cell_type": "code",
   "execution_count": null,
   "id": "304bed6f-2783-4e06-95d7-b737445a055f",
   "metadata": {},
   "outputs": [],
   "source": [
    "# Trace, Diagonal, Norm, Transpose, Power, Determinant, Inverse, Solve\n",
    "a = np.array([[1, 2], [3, 4]])\n",
    "b = np.array([1, 2])\n",
    "print('Trace of a:', np.trace(a))\n",
    "print('Diagonal of a:', np.diag(a))    # if a 1d array is passed to np.diag, it outputs a 2d array with that 1d array as diagonal\n",
    "print('Norm of b:', np.linalg.norm(b))\n",
    "print('Norm of a by axis 0:', np.linalg.norm(a, axis = 0))\n",
    "print('Transpose of a:', np.transpose(a))\n",
    "print('Power 3 of a:', np.linalg.matrix_power(a, 3))\n",
    "print('Determinant of a:', np.linalg.det(a))\n",
    "print('Inverse of a:', np.linalg.inv(a))\n",
    "x = np.linalg.solve(a, b)\n",
    "print('Solution of Ax=b (a @ x == b):', x)\n",
    "print('Verification of solve:', a @ x)"
   ]
  },
  {
   "cell_type": "code",
   "execution_count": null,
   "id": "9c92176d-33bb-4986-af52-957e7b0dbc6c",
   "metadata": {},
   "outputs": [],
   "source": [
    "# Eigenvalues, Eigenvectors\n",
    "a = np.array([[1, 2], [3, 4]])\n",
    "e0, e1 = np.linalg.eig(a)\n",
    "print('Eigenvalues:', e0)\n",
    "print('Eigenvectors:', e1)\n",
    "print('Eigenvalues:', np.linalg.eigvals(a))\n",
    "# use functions eigh() and eigvalsh() for Complex Hermitian or Real Symmetric matrices"
   ]
  },
  {
   "cell_type": "markdown",
   "id": "05da0c23-75a1-438c-9ee6-446b4d9259c2",
   "metadata": {},
   "source": [
    "### NumPy Meshgrid\n",
    "How to define a 2d array `z = x + y` in given ranges of `x: 0-4` and `y: 0-2`\n",
    "\n",
    "|   |   | x | →  |   |   |\n",
    "| - | - | - | - | - | - |\n",
    "| y | 0,0 | 1,0 | 2,0 | 3,0 | 4,0 |\n",
    "| ↓ | 0,1 | 1,1 | 2,1 | 3,1 | 4,1 |\n",
    "|   | 0,2 | 1,2 | 2,2 | 3,2 | 4,2 |\n"
   ]
  },
  {
   "cell_type": "code",
   "execution_count": null,
   "id": "00e2ca13-3144-407f-85e6-787242bd9231",
   "metadata": {},
   "outputs": [],
   "source": [
    "import numpy as np\n",
    "nx = 5\n",
    "ny = 3\n",
    "x = np.linspace(0, 4, nx)\n",
    "y = np.linspace(0, 2, ny)\n",
    "print('x =', x)\n",
    "print('y =', y)"
   ]
  },
  {
   "cell_type": "code",
   "execution_count": null,
   "id": "e04a6c14-7812-4c61-b3ef-f4df91df19c3",
   "metadata": {},
   "outputs": [],
   "source": [
    "xx, yy = np.meshgrid(x, y)\n",
    "print('xx =', xx)\n",
    "print('yy =', yy)"
   ]
  },
  {
   "cell_type": "code",
   "execution_count": null,
   "id": "f3580522-5aa9-45dc-9c5a-9583c1a9c4a2",
   "metadata": {},
   "outputs": [],
   "source": [
    "z = xx + yy\n",
    "print(z)"
   ]
  },
  {
   "cell_type": "markdown",
   "id": "6c532067-64dd-40ef-9cda-5755bd2047e4",
   "metadata": {},
   "source": [
    "### NumPy Random\n",
    "1. First define random generator using `rng = np.random.default_rng()`, optionally `seed` can be passed to produce fixed random numbers\n",
    "2. Generate a random number in range [0, 1) using `rng.random()`\n",
    "3. Generate a random number in range [low, high) using `rng.uniform(low, high)`\n",
    "4. Generate a random integer in range [low, high) using `rng.integers(low, high)`\n",
    "5. Generate a random choice from an array using `rng.choice()`\n",
    "6. Randomly shuffle an array in-place using `rng.shuffle()`\n",
    "7. Functions exist to generate random numbers from various distributions like Normal, Poisson, Binomial, etc.\n",
    "8. Pass `size` option in these functions to specify the size of output"
   ]
  },
  {
   "cell_type": "code",
   "execution_count": null,
   "id": "0bd6130e-817e-4f74-b487-de35dd6fdc57",
   "metadata": {},
   "outputs": [],
   "source": [
    "import numpy as np\n",
    "rng = np.random.default_rng()    # optional argument seed to fix the outputs\n",
    "\n",
    "print('random number:', rng.random())    # produces uniform random numbers in range [0, 1)\n",
    "print('random 1d array:', rng.random(size = 4))\n",
    "print('random 2d array:', rng.random(size = (3, 2)))\n",
    "print('random array in a range:', rng.uniform(low = -2, high = 3, size = 3))    # produces uniform random numbers in range [low, high)\n",
    "print('random integers in a range:', rng.integers(1000, 2000, size = 4))    # produces uniform random integers in range [low, high)\n",
    "print('random choice from arange:', rng.choice(100, size = 3))    # samples a random integer from np.arange(100)\n",
    "a0 = ['a', 'b', 3, 4.0, True]\n",
    "print('random choice from an array:', rng.choice(a0, size = (1, 2)))    # samples a random object from an array\n",
    "rng.shuffle(a0)    # in-place shuffles objects of an array or list, rng.permuted() handles axis argument differently and can be checked for multi-dimensional arrays\n",
    "print('randomly shuffled array:', a0)\n",
    "print('random numbers from Normal distribution:', rng.normal(loc = 1.0, scale = 3.0, size = 4))    # loc is mean, scale is standard deviation σ"
   ]
  },
  {
   "cell_type": "markdown",
   "id": "7ef2b2a7-ce84-4ecb-b831-0dee1d4a2ae1",
   "metadata": {},
   "source": [
    "### NumPy Basic File Operations\n"
   ]
  },
  {
   "cell_type": "code",
   "execution_count": null,
   "id": "1346c2be-5e02-4065-84cf-c09db7cf74e2",
   "metadata": {},
   "outputs": [],
   "source": [
    "import numpy as np"
   ]
  },
  {
   "cell_type": "code",
   "execution_count": null,
   "id": "79ab7757-d68e-42ac-8fcd-372f6b82f49d",
   "metadata": {},
   "outputs": [],
   "source": [
    "x = np.linspace(0, 10, 101)\n",
    "y = np.sin(x)\n",
    "z = np.cos(x)\n",
    "\n",
    "# Several options like format, delimiter, header, footer, comments, newline, etc. can be specified in savetxt\n",
    "# np.savetxt('data.txt', (x, y, z))    # will save 3 arrays one after the other\n",
    "np.savetxt('data.txt', np.transpose(np.array([x, y, z])))    # will save in expected row-column format\n",
    "\n",
    "# Several options like dtype, delimiter, comments, skiprows, max_rows, usecols, etc. can be specified in loadtxt\n",
    "data = np.loadtxt('data.txt')\n",
    "print(np.shape(data))\n",
    "x, y, z = np.loadtxt('data.txt', unpack = True)\n",
    "print(np.shape(x))"
   ]
  },
  {
   "cell_type": "markdown",
   "id": "080b4729-9b07-4fc9-bb2c-c850db20c1f1",
   "metadata": {
    "tags": []
   },
   "source": [
    "### Plotting with `matplotlib.pyplot`\n",
    "1. Prefer to use `subplots()` or `figure()` approach for plotting\n",
    "2. Basic line plot with `.plot()` and scattered plot with `.scatter()`\n",
    "3. Histogram plot with `.hist()` and bar plot with `.bar()`\n",
    "4. Contour plots on 2d grids with `.contour()` and `.contourf()`\n",
    "5. Contour plots with irregular 1d data with `.tricontour()` and `.tricontourf()`\n",
    "6. 3d plotting is available by specifying `projection = '3d'` in axes object\n",
    "7. Multiple plots can be made in a figure by specifying them in `.subplots(nrows, ncols)`\n",
    "8. Plots can be saved using `plt.savefig()`, vector images can also be saved in svg/pdf"
   ]
  },
  {
   "cell_type": "code",
   "execution_count": null,
   "id": "2a73ddff-767e-4da0-b105-1f9e50edae20",
   "metadata": {
    "tags": []
   },
   "outputs": [],
   "source": [
    "import numpy as np\n",
    "import matplotlib.pyplot as plt"
   ]
  },
  {
   "cell_type": "code",
   "execution_count": null,
   "id": "a328ea6c-d2d8-405c-8bb3-95ff33c31e9a",
   "metadata": {},
   "outputs": [],
   "source": [
    "# Basic method of plotting by directly using plt, should usually AVOID this approach\n",
    "plt.plot([-1, 0, 1], [3, 5, 2])\n",
    "plt.show()"
   ]
  },
  {
   "cell_type": "code",
   "execution_count": null,
   "id": "723d81cc-d1f7-488b-852f-e0723e6938f8",
   "metadata": {},
   "outputs": [],
   "source": [
    "# Line Plotting using .plot\n",
    "x = np.linspace(0, 4.0 * np.pi, 64)\n",
    "f0 = np.cos(x)\n",
    "f1 = np.sin(x)\n",
    "f2 = 0.5 * np.tan(x)\n",
    "\n",
    "fig, axs = plt.subplots()\n",
    "axs.plot(x, f0, label = 'cos', linewidth = 1, linestyle = '--', color = 'black')\n",
    "axs.plot(x, f1, label = 'sin', linewidth = 2, linestyle = '-', color = 'darkred', marker = '.')\n",
    "axs.plot(x, f2, label = 'tan/2', linewidth = 0.5, linestyle = '-', color = 'darkblue')\n",
    "axs.set_ylim([-1.2, 1.2])    # to limit the plot in a range\n",
    "axs.set_xlabel('x')    # sets x-axis label\n",
    "axs.set_ylabel('function')    # sets y-axis label\n",
    "axs.set_title('My First Plot')    # sets y-axis label\n",
    "axs.legend()    # puts legend for plots as per their labels\n",
    "plt.show()    # shows the final plot\n",
    "# plt.savefig('myPlot.png', dpi = 200, transparent = False, bbox_inches = 'tight')    # saves image file. also try .svg or .pdf to save as vector images\n",
    "plt.close(fig)    # good practice to close figure after usage"
   ]
  },
  {
   "cell_type": "code",
   "execution_count": null,
   "id": "5586fbc0-61e7-418c-9bd9-0513b32adbdc",
   "metadata": {},
   "outputs": [],
   "source": [
    "# Scattered Plots using .scatter\n",
    "x = np.linspace(0, 1, 32)\n",
    "rng = np.random.default_rng()\n",
    "y = rng.uniform(-2, 2, size = x.shape)\n",
    "\n",
    "fig, axs = plt.subplots()\n",
    "axs.scatter(x, y, s = 40, marker = '^', color = 'purple')\n",
    "axs.set_title(r'$\\int F_\\alpha d\\delta$')    # can use basic latex in matplotlib\n",
    "axs.grid()    # turns on grid view\n",
    "plt.show()    # shows the final plot\n",
    "plt.close(fig)"
   ]
  },
  {
   "cell_type": "code",
   "execution_count": null,
   "id": "d45dbd1d-c2d1-449c-8c43-7572711f6b44",
   "metadata": {},
   "outputs": [],
   "source": [
    "# Histogram Plot\n",
    "x = np.random.normal(loc = -1, scale = 2, size = 2048)\n",
    "\n",
    "fig, axs = plt.subplots()\n",
    "axs.hist(x, bins = 32, linewidth = 0.5, color = 'lightblue', edgecolor = 'black')\n",
    "axs.set_ylabel('Number of Points')\n",
    "plt.show()\n",
    "plt.close(fig)"
   ]
  },
  {
   "cell_type": "code",
   "execution_count": null,
   "id": "a7105fa8-5c55-458b-a33a-8af31265b9b0",
   "metadata": {},
   "outputs": [],
   "source": [
    "# Bar Plot\n",
    "x = np.linspace(0, 9, 10)\n",
    "y = np.abs(np.cos(0.25 * x))\n",
    "\n",
    "fig, axs = plt.subplots()\n",
    "axs.bar(x, y, color = 'pink', edgecolor = 'green', linewidth = 1)\n",
    "axs.set_xticks(x)    # explicitly define ticks data\n",
    "plt.show()    # shows the final plot\n",
    "plt.close(fig)"
   ]
  },
  {
   "cell_type": "code",
   "execution_count": null,
   "id": "94e9a448-7e8a-4ab1-8ebd-adafb06a7dcb",
   "metadata": {},
   "outputs": [],
   "source": [
    "# Subplots Example\n",
    "x = np.linspace(0, 4.0 * np.pi, 64)\n",
    "f0 = np.cos(x)\n",
    "f1 = np.sin(x)\n",
    "f2 = 0.5 * np.tan(x)\n",
    "\n",
    "fig, axs = plt.subplots(nrows = 2, ncols = 1)    # specify number of rows and columns within a figure\n",
    "axs[0].plot(x, f0, label = 'cos')\n",
    "axs[0].plot(x, f1, label = 'sin')\n",
    "axs[0].set_title('sin, cos')\n",
    "axs[1].plot(x, f2)\n",
    "axs[1].set_title('tan/2')\n",
    "fig.suptitle('Multiple Plots')    # Title to whole figure\n",
    "plt.tight_layout()    # use this if you see any overlapping or unexpected view\n",
    "plt.show()\n",
    "plt.close(fig)"
   ]
  },
  {
   "cell_type": "code",
   "execution_count": null,
   "id": "f83f28ff-4891-4365-800a-2d85353964a5",
   "metadata": {},
   "outputs": [],
   "source": [
    "# Contour Plots\n",
    "fig, axs = plt.subplots(nrows = 2, ncols = 2)\n",
    "\n",
    "x0 = np.linspace(0, 2 * np.pi, 128)\n",
    "y0 = np.linspace(0, 2 * np.pi, 128)\n",
    "xx, yy = np.meshgrid(x0, y0)\n",
    "z0 = np.sin(xx) + np.cos(yy)\n",
    "z1 = np.sin(xx * yy)\n",
    "\n",
    "# contour plots when data is provided on 2d grids. x, y arguments can be avoided or can be 1d or 2d. z must be 2d. levels can be a customized array too\n",
    "axs[0,0].contour(xx, yy, z0, levels = 16)\n",
    "axs[0,0].set_title('contour')\n",
    "cp1 = axs[0,1].contourf(x0, y0, z1, levels = 32, cmap = 'plasma')\n",
    "axs[0,1].set_title('contourf')\n",
    "\n",
    "x1 = np.random.uniform(0, 1, 101)\n",
    "y1 = np.random.uniform(1, 2, 101)\n",
    "z2 = np.sin(x1 + y1) + np.log(y1)\n",
    "z3 = np.cos(x1) * np.sin(y1)\n",
    "\n",
    "# contour plots when data is provided as 1d arrays. x, y, z must be 1d. levels can be a customized array too\n",
    "axs[1,0].tricontour(x1, y1, z2, levels = np.linspace(np.min(z2), np.max(z2), 24), cmap = plt.get_cmap('twilight_shifted'))\n",
    "axs[1,0].set_title('tricontour')\n",
    "cp3 = axs[1,1].tricontourf(x1, y1, z3, levels = 128, cmap = 'brg')\n",
    "axs[1,1].set_title('tricontourf')\n",
    "\n",
    "fig.suptitle('Contour Plots')\n",
    "fig.colorbar(cp1)    # adds colorbar to cp1 axes\n",
    "cbr3 = fig.colorbar(cp3)    # adds colorbar to cp3 axes\n",
    "cbr3.ax.set_title('vals')    # to set title to colorbar\n",
    "plt.tight_layout()    # useful in avoiding overlapping issues\n",
    "plt.show()\n",
    "plt.close(fig)"
   ]
  },
  {
   "cell_type": "code",
   "execution_count": null,
   "id": "7e893afc-a99f-486c-bfa7-bd6e9230d50f",
   "metadata": {},
   "outputs": [],
   "source": [
    "# 3d plotting, for more advanced usage look at mayavi library\n",
    "fig = plt.figure(figsize = (4.25, 13))    # can also use fig, axs = plt.subplots(subplot_kw = {\"projection\": \"3d\"})\n",
    "fig.suptitle('3d Plots')\n",
    "\n",
    "x1 = np.sort(np.random.uniform(0, 1, 32))\n",
    "y1 = np.sort(np.random.uniform(1, 2, 32))\n",
    "z2 = np.sin(x1 + y1) + np.log(y1)\n",
    "z3 = np.cos(x1) * np.sin(y1)\n",
    "\n",
    "ax0 = fig.add_subplot(3, 1, 1, projection = '3d')\n",
    "ax0.scatter(x1, y1, z2, s = 10, color = 'red')    # 3d scatter plot\n",
    "ax0.set_title('scatter')\n",
    "ax0.set_xlabel('x')\n",
    "ax0.set_ylabel('y')\n",
    "ax0.set_zlabel('z')\n",
    "ax0.set_facecolor((0.9, 0.9, 0.9))    # color specified as RGB in a tuple\n",
    "\n",
    "ax1 = fig.add_subplot(3, 1, 2, projection = '3d')\n",
    "ax1.plot(x1, y1, z3, linewidth = 1, color = 'black')    # 3d line plot\n",
    "ax1.set_title('plot')\n",
    "\n",
    "x0 = np.linspace(0, 2 * np.pi, 128)\n",
    "y0 = np.linspace(0, 2 * np.pi, 128)\n",
    "xx, yy = np.meshgrid(x0, y0)\n",
    "\n",
    "ax2 = fig.add_subplot(3, 1, 3, projection = '3d')\n",
    "ax2.plot_surface(xx, yy, z0, cmap = 'hsv')    # 3d surface plot for input as 2d arrays\n",
    "ax2.set_title('plot_surface')\n",
    "ax2.set_facecolor((0.9, 0.9, 0.9))\n",
    "\n",
    "plt.tight_layout()\n",
    "plt.show()\n",
    "plt.close(fig)"
   ]
  },
  {
   "cell_type": "markdown",
   "id": "1307a0ad-8674-47a6-9f22-2b32d14a31f7",
   "metadata": {
    "tags": []
   },
   "source": [
    "### Some Important Libraries\n",
    "1. `scipy` has more algorithms from numerical methods, useful in scientific work\n",
    "2. `pandas` is good for data analysis, specially involving tabular data\n",
    "3. `random` is another python's library, good to generate various kind of random numbers. use `secrets` for security purpose\n",
    "4. `datetime` is good to deal with time, like interpreting, writing and operations like addition\n",
    "5. `re` or Regular Expression has advanced system to search patterns in string data\n",
    "6. `os` is good at handling system related operations. Using `os.system()` you can run system commands from Python\n",
    "7. `sys` is good at manipulating Python's runtime environment. Use `sys.exit()` to exit your code anytime\n",
    "8. `glob` is a good library to search and list files\n",
    "9. `requests` is good at basic operations with HTTP protocol\n",
    "10. `BeautifulSoup4` is good for working with web-pages like scraping\n",
    "11. `selenium` to actually open web pages in a web browser and interact with them through coding\n",
    "12. `sqlite3` is good for SQL databases\n",
    "13. `openpyxl` is good for excel files\n",
    "14. `tensorflow` is good for machine learning, deep learning\n",
    "15. `opencv` for advanced image processing"
   ]
  },
  {
   "cell_type": "markdown",
   "id": "4de2c91a-9752-4fac-a359-b9faf879cff2",
   "metadata": {
    "tags": []
   },
   "source": [
    "### Further Resources\n",
    "1. Complete free Python courses on _freeCodeCamp_, currently there are courses on Scientific Computing, Data Analysis, College Algebra and Machine Learning. Make sure to complete all the projects\n",
    "2. Start solving problems on _Advent of Code_, make sure to check _Events_ tab on their home page to access problems of previous years\n",
    "3. Try _Project Euler_, the problems require good knowledge of integer math and programming\n",
    "4. Check codechef for several coding problems\n",
    "5. Check if there are free content available on Codeacademy, Coursera, Edx, Udacity, etc.\n",
    "6. Several YouTube channels and MIT, Stanford, etc. must have some free python or programming courses"
   ]
  }
 ],
 "metadata": {
  "kernelspec": {
   "display_name": "Python 3 (ipykernel)",
   "language": "python",
   "name": "python3"
  },
  "language_info": {
   "codemirror_mode": {
    "name": "ipython",
    "version": 3
   },
   "file_extension": ".py",
   "mimetype": "text/x-python",
   "name": "python",
   "nbconvert_exporter": "python",
   "pygments_lexer": "ipython3",
   "version": "3.9.8"
  }
 },
 "nbformat": 4,
 "nbformat_minor": 5
}
