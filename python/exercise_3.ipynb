{
 "cells": [
  {
   "cell_type": "markdown",
   "id": "29595f0d-d946-42e9-9335-4b959bddb58c",
   "metadata": {},
   "source": [
    "### 1. 1d NumPy Array Exercises\n",
    "Write codes as indicated in each cell using NumPy library functions"
   ]
  },
  {
   "cell_type": "code",
   "execution_count": null,
   "id": "d3260da6-4896-4aca-9b82-c0b0e28442b6",
   "metadata": {},
   "outputs": [],
   "source": [
    "# 1. Make a numpy array a = [-4, -2, 0, 2, 4, 6] using np.linspace()\n",
    "#    Print the array and its dtype\n",
    "\n"
   ]
  },
  {
   "cell_type": "code",
   "execution_count": null,
   "id": "4fec7c56-4466-4186-8202-c0caacb6354b",
   "metadata": {},
   "outputs": [],
   "source": [
    "# 2. Make the same array a using np.arange()\n",
    "#    Print the array and its dtype\n",
    "\n"
   ]
  },
  {
   "cell_type": "code",
   "execution_count": null,
   "id": "c0f7fd14-cedd-461d-b979-cba70b5b3698",
   "metadata": {},
   "outputs": [],
   "source": [
    "# 3. Make array b = [1, 2, 4, 8, 16, 32] using np.logspace (check its base option)\n",
    "\n"
   ]
  },
  {
   "cell_type": "code",
   "execution_count": null,
   "id": "57b9601f-a803-492e-9253-33d7bd86ea22",
   "metadata": {},
   "outputs": [],
   "source": [
    "# 4. Change the dtype of a to np.bool_ and print the result\n",
    "\n"
   ]
  },
  {
   "cell_type": "code",
   "execution_count": null,
   "id": "20a7c25c-0e72-47f8-b0a6-d70470090a42",
   "metadata": {},
   "outputs": [],
   "source": [
    "# 5. Make a new array ab3 by joining last 3 indices of a and first 3 indices of b\n",
    "#    Print ab3 and its sum, you should get [1, 2, 4, 2, 4, 6] and 19\n",
    "\n"
   ]
  },
  {
   "cell_type": "code",
   "execution_count": null,
   "id": "8fd92537-6514-4aa6-b56e-93459fd7ded5",
   "metadata": {},
   "outputs": [],
   "source": [
    "# 6. Append 0 and 3 to ab3, then remove first 2 indices from it\n",
    "#    You should get [4, 2, 4, 6, 0, 3]\n",
    "\n"
   ]
  },
  {
   "cell_type": "code",
   "execution_count": null,
   "id": "a7b71254-9587-40f1-9084-accc8f438d0f",
   "metadata": {},
   "outputs": [],
   "source": [
    "# 7. Find index of minimum and maximum values in ab3, you should get 4 and 3\n",
    "\n"
   ]
  },
  {
   "cell_type": "code",
   "execution_count": null,
   "id": "bf861f0d-068c-48d2-96a2-658cf669b7ea",
   "metadata": {},
   "outputs": [],
   "source": [
    "# 8. Sort array ab3 in descending order, you should get [6, 4, 4, 3, 2, 0]\n",
    "\n"
   ]
  },
  {
   "cell_type": "code",
   "execution_count": null,
   "id": "7391e6e5-1152-45e9-80ef-2434273d8521",
   "metadata": {},
   "outputs": [],
   "source": [
    "# 9. Evaluate ab1 = round(a / (1 + log(b))\n",
    "#    Print this array and its mean, you should get [-6, -2, 0, 1, 1, 2] and -2/3\n",
    "\n"
   ]
  },
  {
   "cell_type": "code",
   "execution_count": null,
   "id": "2bf7458a-0284-4740-8d08-92bc86bf0e8a",
   "metadata": {},
   "outputs": [],
   "source": [
    "# 10. Compute left and right side of vector triple product formula A×(B×C) = (A·C)B - (A·B)C\n",
    "#     Take A = a[:3], B = b[:3] and C = [4, 2, 4], you should get both sides as [12, -24, -48]\n",
    "\n"
   ]
  },
  {
   "cell_type": "markdown",
   "id": "2615022a-128b-47a3-8ca4-bcd5e52242cf",
   "metadata": {},
   "source": [
    "### 2. 2d NumPy Array Exercises\n",
    "Write codes as indicated in each cell using NumPy library functions. Use following 1d arrays wherever needed:\n",
    "```\n",
    "a = [-4, -2, 0, 2, 4, 6]\n",
    "b = [1, 2, 4, 8, 16, 32]\n",
    "ab3 = [4, 2, 4, 6, 0, 3]\n",
    "```"
   ]
  },
  {
   "cell_type": "code",
   "execution_count": null,
   "id": "d229dcb1-6113-410e-84e4-7504e0a999e4",
   "metadata": {},
   "outputs": [],
   "source": [
    "# 1. Reshape a and b into 2d arrays of shapes 3x2 and 2x3 and\n",
    "#    let's call them a1 and b1 respectively\n",
    "\n"
   ]
  },
  {
   "cell_type": "code",
   "execution_count": null,
   "id": "74009055-764e-45dc-ad1f-ef744880f89c",
   "metadata": {},
   "outputs": [],
   "source": [
    "# 2. Print matrix multiplication of a1 × b1, define it as a1b1\n",
    "#    You should get [[-20, -40, -80], [16, 32, 64],  [52, 104, 208]]\n",
    "\n"
   ]
  },
  {
   "cell_type": "code",
   "execution_count": null,
   "id": "93153481-f301-4a93-bceb-4374bb5cb089",
   "metadata": {},
   "outputs": [],
   "source": [
    "# 3. Print matrix multiplication of b1 × a1, define it as b1a1\n",
    "#    You should get [[12, 26], [96, 208]]\n",
    "\n"
   ]
  },
  {
   "cell_type": "code",
   "execution_count": null,
   "id": "31659369-eece-4c72-b653-54a841e9dc57",
   "metadata": {},
   "outputs": [],
   "source": [
    "# 4. Make the following tridiagonal matrix c only using np.eye() and basic math operations\n",
    "#    Check its online documentation what options can be passed into this function\n",
    "#    2 1 0 0 0\n",
    "#    1 2 1 0 0\n",
    "#    0 1 2 1 0\n",
    "#    0 0 1 2 1\n",
    "#    0 0 0 1 2\n",
    "\n"
   ]
  },
  {
   "cell_type": "code",
   "execution_count": null,
   "id": "7f89463b-205e-45c3-ad0f-e97d8a2a8e0d",
   "metadata": {},
   "outputs": [],
   "source": [
    "# 5. Print trace, diagonal and determinant of c\n",
    "#    You should get 10, [2, 2, 2, 2, 2] and 6\n",
    "\n"
   ]
  },
  {
   "cell_type": "code",
   "execution_count": null,
   "id": "7cc29db9-c7a8-4f88-b0c4-36e7abb22df1",
   "metadata": {},
   "outputs": [],
   "source": [
    "# 6. Solve system of linear equations \"c @ x == ab3[:5]\" to find x\n",
    "#    You can use np.linalg.inv() to find inverse of c or\n",
    "#    solve using np.linalg.solve(), you should get [2, 0, 0, 4, -2]\n",
    "\n"
   ]
  },
  {
   "cell_type": "code",
   "execution_count": null,
   "id": "5ecbc351-e4aa-4c55-914a-2d59db51c1b4",
   "metadata": {
    "tags": []
   },
   "outputs": [],
   "source": [
    "# 7. An Eigendecomposition of a matrix is A = QΛQ⁻¹, where\n",
    "#    Q is a matrix whose columns are eigenvectors of A and\n",
    "#    Λ is a diagonal matrix, whose diagonal is eigenvalues of A\n",
    "#    Compute eigenvalues and eigenvectors of arrays c, a1b1 and b1a1\n",
    "#    and compute their QΛQ⁻¹, you should get back your arrays\n",
    "#    You'll need np.linalg.eig(), np.diag(), np.linalg.inv()\n",
    "\n"
   ]
  },
  {
   "cell_type": "markdown",
   "id": "58274814-b77f-4df6-9747-009920d69c1c",
   "metadata": {},
   "source": [
    "### 3. Define and Plot a 2d function\n",
    "Define the following function `z` of 2 variables in range `x: -2.5 → 3.0` and `y: -3.1 → 3.0`:\n",
    "```\n",
    "z = 3(1-x²) exp(-(x-0.5)²-(y+1)²) - 2(x/5-x³-y⁵) exp(-x²-y²) sin(x-y)\n",
    "```\n",
    "Make a good looking contour plot, you can try yourself or follow these steps to make a decent looking plot:\n",
    "1. Plot using `plt.contourf()`, use 64 `levels` and `'hsv'` as your colormap\n",
    "2. Overlap with `plt.contour()`, using 64 `levels`, 0.5 as `linewidths` and black as `colors`\n",
    "3. Add colorbar to your plot\n",
    "4. Add labels to x, y axes and colorbar"
   ]
  },
  {
   "cell_type": "code",
   "execution_count": null,
   "id": "b6efa99f-2be1-4ee6-ae64-30541d42e839",
   "metadata": {},
   "outputs": [],
   "source": [
    "# write your code here\n",
    "\n"
   ]
  },
  {
   "cell_type": "markdown",
   "id": "fe0a6e8e-e7d1-42af-905c-639b1b15b9df",
   "metadata": {
    "tags": []
   },
   "source": [
    "### 4. Magic Square\n",
    "A magic square is a square matrix in which sum along all rows, columns and both diagonals is same. For example the sum along rows, columns or diagonals is 15 in the following matrix:\n",
    "```\n",
    "2 7 6\n",
    "9 5 1\n",
    "4 3 8\n",
    "```\n",
    "Write a function `isMagicSquare(a)` that will return `True` if input 2d array `a` is a magic square. `np.sum`, `np.diag`, `np.all` will be helpful here."
   ]
  },
  {
   "cell_type": "code",
   "execution_count": null,
   "id": "85559a08-d742-4c0e-95f9-9e93c375c211",
   "metadata": {},
   "outputs": [],
   "source": [
    "def isMagicSquare(a):\n",
    "    # write your code here\n",
    "    pass\n",
    "\n",
    "a0 = np.array([[2, 7, 6], [9, 5, 1], [4, 3, 8]], dtype = np.int32)\n",
    "a1 = np.array([[2, 3, 5, 8], [5, 8, 2, 3], [4, 1, 7, 6], [7, 6, 4, 1]], dtype = np.int32)\n",
    "a2 = np.array([[10, 3, 13, 8], [5, 16, 2, 11], [4, 9, 7, 14], [15, 6, 12, 1]], dtype = np.int32)\n",
    "a3 = np.array([[16, 14, 7, 30, 23], [24, 17, 10, 8, 31], [32, 25, 18, 11, 4], [5, 28, 26, 19, 12], [13, 6, 29, 22, 20]], dtype = np.int32)\n",
    "\n",
    "print(isMagicSquare(a0))    # True\n",
    "print(isMagicSquare(a1))    # True\n",
    "print(isMagicSquare(a2))    # True\n",
    "print(isMagicSquare(a3))    # True"
   ]
  },
  {
   "cell_type": "markdown",
   "id": "0c2dbbc1-34a0-4dd8-a029-21b0c5a89d24",
   "metadata": {},
   "source": [
    "### 5. Birthday Problem\n",
    "If there is a group of `n` people who have birthdays randomly at any day of the year, it is known that for `n` as low as 23, the probability of any 2 people having same birthday is close to 0.5. Read more about this on the Wikipedia page of \"Birthday problem\". Write a code to check if you actually get these probabilities. Generate a sample of `n` people and randomly assign them birthdays (you can use `integers()` function from `np.random`), then check if the birthdays of any 2 persons in your sample matches. Run this experiment 10000 times and print the probability. For `n=23` you should get probability close to `0.5`, for `n=10` you should get probability close to `0.11` and for `n=50` you should get probability close to `0.97`."
   ]
  },
  {
   "cell_type": "code",
   "execution_count": null,
   "id": "62c7d9ac-0696-4f98-82a9-762f46dc5b84",
   "metadata": {},
   "outputs": [],
   "source": [
    "n = 23\n",
    "m = 10000\n",
    "\n",
    "# write your code here"
   ]
  },
  {
   "cell_type": "markdown",
   "id": "2f5cd7d2-2e91-49d6-9058-d129e8043dd4",
   "metadata": {
    "tags": []
   },
   "source": [
    "### 6. Generate co-ordinates for given patterns\n",
    "\n",
    "In this problem, you need to generate numpy arrays of shape `(n,2)` with an integer `dtype` (either `np.int32` or `np.int64`) . The arrays should contain co-ordinate pairs of the patterns shown in the image below. They should start with `(0,0)` and be in the same order as shown in the image. Also plot your arrays to make sure they look correct.\n",
    "\n",
    "![](images/coordinate_patterns.svg)\n",
    "\n",
    "As a challenge, try to generate the arrays in a single line each. You might need a good use of modulo `%` and floor division `//` operators. Also remember that comparison operators return `True` and `False`, which can be used as `1` and `0` within an expression if needed."
   ]
  },
  {
   "cell_type": "code",
   "execution_count": null,
   "id": "6eaa6f47-3cc1-40a5-a4b5-d09836ec249c",
   "metadata": {},
   "outputs": [],
   "source": [
    "n = 13\n",
    "# write your codes in cells below"
   ]
  },
  {
   "cell_type": "code",
   "execution_count": null,
   "id": "b5aa3aa2-35b9-4048-be38-4cfdfa669a66",
   "metadata": {},
   "outputs": [],
   "source": [
    "# Expected output for n=13:\n",
    "# [[0, 0], [1, 1], [2, 0], [3, 1], [4, 0], [5, 1], [6, 0], [7, 1], [8, 0], [9, 1], [10, 0], [11, 1], [12, 0]]\n",
    "\n"
   ]
  },
  {
   "cell_type": "code",
   "execution_count": null,
   "id": "dbe6363a-3e9b-4580-a927-9d3494dc9e24",
   "metadata": {},
   "outputs": [],
   "source": [
    "# Expected output for n=13:\n",
    "# [[0, 0], [0, 1], [1, 1], [1, 2], [2, 2], [2, 3], [3, 3], [3, 4], [4, 4], [4, 5], [5, 5], [5, 6], [6, 6]]\n",
    "\n"
   ]
  },
  {
   "cell_type": "code",
   "execution_count": null,
   "id": "1efc77d0-ead5-4fb1-a98c-a94429434d87",
   "metadata": {},
   "outputs": [],
   "source": [
    "# Expected output for n=13:\n",
    "# [[0, 0], [0, 1], [1, 1], [1, 0], [2, 0], [2, 1], [3, 1], [3, 0], [4, 0], [4, 1], [5, 1], [5, 0], [6, 0]]\n",
    "\n"
   ]
  },
  {
   "cell_type": "code",
   "execution_count": null,
   "id": "1dd409d9-511f-4c40-ac7f-be3f5db7d1a6",
   "metadata": {},
   "outputs": [],
   "source": [
    "# Expected output for n=13:\n",
    "# [[0, 0], [0, 1], [1, 0], [2, -1], [2, 0], [2, 1], [3, 0], [4, -1], [4, 0], [4, 1], [5, 0], [6, -1], [6, 0]]\n",
    "\n"
   ]
  },
  {
   "cell_type": "code",
   "execution_count": null,
   "id": "7ed58bf1-de23-4f3f-8377-426f3723b320",
   "metadata": {},
   "outputs": [],
   "source": [
    "# Expected output for n=13:\n",
    "# [[0, 0], [1, 0], [1, 1], [-1, 1], [-1, -1], [2, -1], [2, 2], [-2, 2], [-2, -2], [3, -2], [3, 3], [-3, 3], [-3, -3]]\n",
    "\n"
   ]
  },
  {
   "cell_type": "code",
   "execution_count": null,
   "id": "8139a953-3ca4-4cc8-8426-db18c45e1b92",
   "metadata": {},
   "outputs": [],
   "source": [
    "# Expected output for n=13:\n",
    "# [[0, 0], [1, 1], [0, 2], [-2, 0], [0, -2], [3, 1], [0, 4], [-4, 0], [0, -4], [5, 1], [0, 6], [-6, 0], [0, -6]]\n",
    "\n"
   ]
  },
  {
   "cell_type": "markdown",
   "id": "18444094-d54b-4ed3-a5b4-99cb7b37467b",
   "metadata": {},
   "source": [
    "### 7. Dense Neural Network\n",
    "A fully-connected or dense neural network with 2 inputs and 3 outputs is as shown in the image below. It has 1 hidden layer with 4 nodes. The connections shown with lines in this image actually represent weights matrices. If you know inputs `x`, and weight matrices `V` and `W`, the steps to compute the output `y` are mentioned in the image. The additional node in input and hidden layer with value `1` is called bias.\n",
    "\n",
    "In this problem, you are given the inputs and weights matrices of a neural network and you need to write a function to compute its output. Input can be 1d array of any size and assume only 1 hidden layer for now. The inputs of the function should be name of activation function `f`, input array `x` and weights matrices `w0` and `w1`. Output should be array `y`. Let sigmoid function `f(x)=1/(1+exp(-x))` be your activation function. To solve this problem, you don't need any prior knowledge of machine learning, just follow the steps mentioned in the image.\n",
    "\n",
    "<img src=\"images/dense_neural_network.png\" width=\"480\"/>\n",
    "\n",
    "Number of hidden layers in a neural network can be `>= 0`. After you have written the function for 1 hidden layer, generalize your function to accept any number of weights matrices using arbitrary arguments in function  (recall `*args`). Test your function for given sample inputs and expected outputs."
   ]
  },
  {
   "cell_type": "code",
   "execution_count": null,
   "id": "6ece7a99-f42e-4037-a4db-80e29e180731",
   "metadata": {},
   "outputs": [],
   "source": [
    "def activation(x):\n",
    "    # write your activation function here\n",
    "    pass\n",
    "\n",
    "def outDNN(f, x, w0, w1):    # to generalize, use *weights instead of w0, w1\n",
    "    # write your code here\n",
    "    pass\n",
    "\n",
    "inp = np.array([0.9, 1.1])\n",
    "wts0 = np.array([[-0.1, 0.6 , -0.9,  0.5], [0.8, -0.1, -0.2,  0.7], [0.2, 0.1, -0.3, 0.2]])\n",
    "wts1 = np.array([[-0.3,  0.6 , -0.1], [0.4, -0.1, -0.7], [0.4, -0.8, 0.9], [0.4, 0.2, -0.6], [-0.9, 0.4, 0.3]])\n",
    "print(outDNN(activation, inp, wts0, wts1))    # expected output: [0.38671684 0.68314105 0.37554368]\n",
    "\n",
    "wts2 = np.array([[-0.7,  0.1], [0.6, -0.3], [0.1, -0.1], [-0.3, 0.5]])\n",
    "wts3 = np.array(([[0.2], [0.6], [0.7]]))\n",
    "print(outDNN(activation, inp, wts0, wts1, wts2, wts3))    # expected output: [0.75730287]"
   ]
  },
  {
   "cell_type": "markdown",
   "id": "888ac381-0994-42fb-8b45-25cb04116ac4",
   "metadata": {
    "tags": []
   },
   "source": [
    "### 8. Monty Hall Problem\n",
    "In Monty Hall Problem, a prize is randomly hidden behind 1 of the 3 closed doors and other 2 are empty. Participant is asked to guess which door contains the prize. After they have made a choice, a random empty door is opened and they are again asked if they would like to change their initial choice. It's known that if the choice is not changed then the probability of winning the prize is 1/3, but if the choice is changed the probability is 2/3. In this exercise, you will simulate this problem to see if you actually get these probabilities. Define a function that will simulate a single instance of Monty Hall problem and return if the participant won. The only input of the function should be a `bool` for decision to change the door in between. Call this function 1000 times and print the probability you obtain for both \"decide to change\" and \"not decide to change\" scenarios. You should try to write the function yourself, otherwise follow these steps:\n",
    "1. Make a list of doors with `[True, False, False]`, where `True` indicates the door with prize\n",
    "2. Randomly shuffle this list using `random.shuffle`\n",
    "3. Find the number of the door with the prize, let's call it `p`\n",
    "4. Also note the numbers for the empty doors\n",
    "5. Let the participant's guess be a random choice of door number (use `random.choice`), let's call it `c`\n",
    "6. If choice `c` is same as prize's door number `p`, note a random door number from empty doors\n",
    "7. If choice `c` is different from prize's door number `p`, note the door number of the only other empty door\n",
    "8. The door number noted in either of previous 2 steps will be the \"opened\" empty door, let's call it `o`\n",
    "9. If the person decides to change its choice, then change the choice `c` to different from `o` (the opened door) and previous `c`\n",
    "10. Person can only win if the choice matches prize's door number, so return if `p` and `c` are same"
   ]
  },
  {
   "cell_type": "code",
   "execution_count": null,
   "id": "b54ac041-a9e3-40f7-b66f-0ca7852b576f",
   "metadata": {},
   "outputs": [],
   "source": [
    "def monty_hall(decide_to_change):\n",
    "    # write your code for single instance of Monty Hall problem here\n",
    "    pass\n",
    "\n",
    "# write your code here to call the function 1000 times for both scenarios and check probability"
   ]
  },
  {
   "cell_type": "markdown",
   "id": "2a9d80dd-d2f4-4423-bb21-a7a16288d1f5",
   "metadata": {
    "tags": []
   },
   "source": [
    "### 9. Schrödinger Equation for Free Particle\n",
    "1d time-dependent Schrödinger equation in quantum mechanics is given as:\n",
    "\n",
    "`ιℏ (∂Ψ(x,t)/∂t) = [(-ℏ²/2m) (∂²/∂x²) + V(x)] Ψ(x,t)`\n",
    "\n",
    "where `ι` is imaginary number `√(-1)`, `ℏ = 6.62607015e-34 / (2π) Js` (exact value). Consider all quantities in SI units only. Given the potential `V(x) = 0` and mass of the particle `m`, the \"free particle\" solution is known to be simply a wave equation `Ψ(x,t) = A exp(ι(kx - ωt))`, where `ω = ℏk²/(2m)` and wave number `k` depend on the energy of the particle and the amplitude `A` is arbitrary constant.\n",
    "\n",
    "In this exercise, you need to write a code to numerically verify if this solution satisifies the Schrödinger equation. Choose the constants as `A = 1`, `m = 9.1093837015e-31` (for electron), `k = 1.0e3`, `x` in range `0` to `2.0e-3` and `t` in range `0` to `1.0e-9`. You can write the code as you see fit, otherwise follow these instructions:\n",
    "1. Define the given constants `A`, `ℏ`, `m`, `k`\n",
    "2. Make uniform arrays of `x` and `t` in the given ranges. Let number of points be `nx = 200`, `nt = 100` respectively\n",
    "3. Use `np.meshgrid` to generate 2d arrays for `x` and `t`\n",
    "4. Note `dx` and `dt`, which will be needed later when computing derivatives\n",
    "5. Compute `ω = ℏk²/(2m)`\n",
    "6. Compute `Ψ` using the wave equation `Ψ(t,x) = A exp(ι(kx - ωt))`, which should result in a 2d array\n",
    "7. Since `V=0`, the Schrödinger equation becomes `ι (∂Ψ(t,x)/∂t) = (-ℏ/2m) (∂²Ψ/∂x²)`, where one `ℏ` was cancelled on both sides\n",
    "8. Compute left side of the equation as `lhs = ι (∂Ψ(t,x)/∂t)`, using `np.gradient` with correct `axis` option. also use `dt` noted earlier\n",
    "9. Compute right side of the equation as `rhs = (-ℏ/2m) (∂²Ψ/∂x²)`, using `np.gradient` with correct `axis` option. also use `dx` noted earlier\n",
    "10. Start a subplot of 3 rows and 2 columns\n",
    "11. In 1st row, make contour plots of real and imaginary parts of `lhs`, side by side, using `plt.contourf`\n",
    "12. Similarly in 2nd row, make contour plots of real and imaginary parts of `rhs`\n",
    "13. In 3rd row, make contour plots of real and imaginary parts of `Δ = lhs - rhs`\n",
    "14. While plotting `Δ`, ignore its edges, i.e., plot `Δ[2:-2,2:-2]`, which will ignore edges of width 2 from all 4 sides. The reason to do this is because `np.gradient` will give inaccurate gradients at the edges, so we can ignore them while plotting\n",
    "15. In all the contour plots, choose high `levels` option so that plot looks smooth and add `colorbar` so that plotted values can be seen\n",
    "16. If you see `lhs` and `rhs` matching and relatively low values in 3rd row plots, that will mean both sides of the equation match and you've successfully verified the equation"
   ]
  },
  {
   "cell_type": "code",
   "execution_count": null,
   "id": "681c59fd-3429-40a1-8e18-347973dac2b6",
   "metadata": {},
   "outputs": [],
   "source": [
    "# write your code here\n",
    "\n"
   ]
  },
  {
   "cell_type": "markdown",
   "id": "db7ede41-2faf-40b5-a130-bdbf88a797de",
   "metadata": {},
   "source": [
    "### 10.0 ODE Solver\n",
    "The purpose of this exercise is to define a function `odesolver` to solve the system of ordinary differential equations (ODE) `yᵢ'(t) = fᵢ(t, y)` with given initial values `yᵢ(0) = y0`. The inputs of `odesolver` should be:\n",
    "1. `f`, name of another function that returns right-side of the ODEs\n",
    "2. `nt`, number of timesteps, for which ODEs will be solved\n",
    "3. `t0, t1`, the initial and final time between which ODEs will be solved\n",
    "4. `y0`, array of all initial values of `yᵢ` (i.e., at time `t0`)\n",
    "\n",
    "There should be 2 outputs of the function:\n",
    "1. `t`, time array of size `nt` at which ODEs were solved\n",
    "2. `y`, the solution as an array of arrays. if `y0` had size `ny`, the shape of output `y` should be `(ny, nt)`\n",
    "\n",
    "You can follow any online resource to easily implement Euler's method yourself, otherwise you can follow the steps mentioned here:\n",
    "1. Define time array `t` of size `nt` using `np.linspace` between inputs `t0` and `t1`\n",
    "2. Find the time duration `dt` between each points of array `t`\n",
    "3. Let `ny` be the size of input `y0`\n",
    "4. Define an empty array `y` of shape `(ny, nt)`\n",
    "5. Let `y[:,0] = y0` because `y0` are initial values of `y` at time `t0`\n",
    "6. Loop over time and iteratively increment all `yᵢ` using `yᵢ(t+dt) = yᵢ(t) + dt * f(t, y(t))`\n",
    "7. After loop completes, return `t, y`\n",
    "\n",
    "To implement another algorithm to solve ODEs like Runge-Kutta 4 (RK4) method, check Wikipedia or any other online source. It should be as easy as implementing Euler's method and I'll recommend to write RK4 as well and use both methods in this and subsequent exercises. The purpose of this exercise is to familiarize with numerical methods of solving ODEs, otherwise it is recommended to use inbuilt ODE solvers in `scipy` library.\n",
    "\n",
    "To quickly check your functions, solve this 2nd order ODE `y''(x)=-y(x)` and you shold get a sinusoidal wave as solution. Follow these steps to solve this equation using your ODE solver:\n",
    "1. Note that such higher order equations can be written as first order ODEs, `y''(x)=-y(x)` is equivalent to `y0'(x)=y1(x)` and `y1'(x)=-y0(x)`, where original `y` is now denoted with `y0`\n",
    "2. Define external function `fx(t, y)` to return right side of these coupled ODEs: `np.array([y[1], -y[0]])`\n",
    "3. Let `nt = 1001`, `t0 = 0`, `t1 = 10`, `y0 = [0, 1]`\n",
    "4. Call your ODE solver as `odesolver(fx, nt, t0, t1, y0)` and assign returned values to `t, y`\n",
    "5. Plot `y[0,:]` and `y[1,:]` with `t`\n",
    "6. You can also plot and compare with exact solutions `y0(x) = sin(x)` and `y1(x) = cos(x)`"
   ]
  },
  {
   "cell_type": "code",
   "execution_count": null,
   "id": "05133e9b-f237-4fc9-b153-14e2bea0fe34",
   "metadata": {},
   "outputs": [],
   "source": [
    "# write your code here\n",
    "\n"
   ]
  },
  {
   "cell_type": "markdown",
   "id": "6c117f22-012f-43aa-a3f5-a724681bd55b",
   "metadata": {},
   "source": [
    "### 10.1 Projectile Motion\n",
    "Assume a ball is thrown from height `y0` at time `t = 0` with horizontal velocity `vx0`, also let `x = 0` at `t = 0`. Its trajectory is `x(t) = vx0*t` and `y(t) = y0 - gt²/2`, which can be computed using Newton's second law (`g` is acceleration due to gravity). In this problem, you need to simulate the motion of the ball by numerically solving Newton's second law using an ODE solver and compare it with expected theoretical trajectory.\n",
    "\n",
    "Use previously defined `odesolver` to solve `y''(t) = -g`, take `g = 9.80665`, `y[0] = 10.0`, `t0 = 0.0`, `t1 = 1.428`, `nt = 715`, `vx0 = 5`. Plot the trajectory obtained with ODE solver and theoretical formula. Separately, also plot difference between computed `y` and theoretical `y`"
   ]
  },
  {
   "cell_type": "code",
   "execution_count": null,
   "id": "e50c6ac3-eee6-4913-9bd8-c12dba911ec8",
   "metadata": {},
   "outputs": [],
   "source": [
    "# write your code here\n",
    "\n"
   ]
  },
  {
   "cell_type": "markdown",
   "id": "c30f411e-ca51-4d13-b79c-ac1337ffac07",
   "metadata": {},
   "source": [
    "### 10.2 Lorenz Attractor\n",
    "Check the Wikipedia page on \"Lorenz system\", in this exercise you need to make a 3d plot similar to the one shown on the top-right pane of that page. Use your previously defined ODE solver to solve the following differential equations:\n",
    "```\n",
    "x'(t) = σ(y-x)\n",
    "y'(t) = x(ρ-z) - y\n",
    "z'(t) = xy - βz\n",
    "σ = 10, ρ = 28, β = 8/3\n",
    "x(0) = 0, y(0) = 2, z(0) = 20\n",
    "t: 0 → 35\n",
    "```\n",
    "Select number of timesteps `nt` as you see fit and make a 3d plot using `x`, `y` and `z` obtained from your ODE solver. If you solve this using RK4, you'll get a plot looking similar to the one on Wikipedia page, but if you use Euler's method the plot will look significantly different."
   ]
  },
  {
   "cell_type": "code",
   "execution_count": null,
   "id": "753677be-87ef-464a-8339-1069d07c562f",
   "metadata": {},
   "outputs": [],
   "source": [
    "# write your code here\n",
    "\n"
   ]
  }
 ],
 "metadata": {
  "kernelspec": {
   "display_name": "Python 3 (ipykernel)",
   "language": "python",
   "name": "python3"
  },
  "language_info": {
   "codemirror_mode": {
    "name": "ipython",
    "version": 3
   },
   "file_extension": ".py",
   "mimetype": "text/x-python",
   "name": "python",
   "nbconvert_exporter": "python",
   "pygments_lexer": "ipython3",
   "version": "3.9.8"
  }
 },
 "nbformat": 4,
 "nbformat_minor": 5
}
