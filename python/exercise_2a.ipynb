{
 "cells": [
  {
   "cell_type": "markdown",
   "id": "b9d37008-73af-4349-8bae-4ec84f7e0303",
   "metadata": {},
   "source": [
    "### 1. Define These Functions\n",
    "Write the functions as mentioned below:"
   ]
  },
  {
   "cell_type": "code",
   "execution_count": null,
   "id": "bca7034b-e8e0-458b-b791-a5dbcb3ae01f",
   "metadata": {},
   "outputs": [],
   "source": [
    "# a. f(x) = cos(2*x) + 2 * sin(x)**2\n",
    "\n"
   ]
  },
  {
   "cell_type": "code",
   "execution_count": null,
   "id": "cf62d00f-bf00-4aa9-bc7b-9aed9a4d7cb2",
   "metadata": {},
   "outputs": [],
   "source": [
    "# b. f(x) = (x**2 - y**2) if (x >= y)\n",
    "#           (y**2 - x**2) if (x < y)\n",
    "\n"
   ]
  },
  {
   "cell_type": "code",
   "execution_count": null,
   "id": "b4efefeb-dda1-46f0-8204-7a6696103678",
   "metadata": {},
   "outputs": [],
   "source": [
    "# c. f(n) = Sum(3, n) for integer n >= 3\n",
    "\n"
   ]
  },
  {
   "cell_type": "code",
   "execution_count": null,
   "id": "bf681253-a99d-41b0-9ddb-06d94c586c8a",
   "metadata": {},
   "outputs": [],
   "source": [
    "# d. f(x, y, c=0) = -y         if (c == 0)\n",
    "#                   10*x - 3*y if (c == 1)\n",
    "#                   20*x - 5*y if (c == 2)\n",
    "#                   30*x - 7*y if (c == 3)\n",
    "\n"
   ]
  },
  {
   "cell_type": "markdown",
   "id": "c3c2c1f2-4ff0-4aef-9dff-db11252932b3",
   "metadata": {},
   "source": [
    "### 2. Apply following operations on given `str`\n",
    "Define the following string in your code. Then write codes as instructed in each cell\n",
    "```\n",
    "s = 'This Here\\nInto Soon'\n",
    "```"
   ]
  },
  {
   "cell_type": "code",
   "execution_count": null,
   "id": "60152ffe-896e-4a01-8e12-d7656067b61f",
   "metadata": {},
   "outputs": [],
   "source": [
    "# 1. Define s and print it, its type and length\n",
    "\n",
    "s = 'This Here\\nInto Soon'\n",
    "print(s)\n",
    "print(type(s))\n",
    "print(len(s))"
   ]
  },
  {
   "cell_type": "code",
   "execution_count": null,
   "id": "7faa2598-dee4-4c48-bf63-831e8b3ab9d0",
   "metadata": {},
   "outputs": [],
   "source": [
    "# 2. What's the 9th index of s? Print it and find out\n",
    "\n",
    "print(s[9])"
   ]
  },
  {
   "cell_type": "code",
   "execution_count": null,
   "id": "79c7aa45-ca3d-4d64-b9ba-3eedf73550b9",
   "metadata": {},
   "outputs": [],
   "source": [
    "# 3. Starting from index 0, print a string only containing every 5th character of s\n",
    "#    You should get 'THIS'\n",
    "\n",
    "print(s[::5])"
   ]
  },
  {
   "cell_type": "code",
   "execution_count": null,
   "id": "a7f9d646-b9aa-430b-9519-9e747011fef8",
   "metadata": {},
   "outputs": [],
   "source": [
    "# 4. Check if substrings 'to', 'on' and 'in' are contained in s\n",
    "#    You should get True, True, False\n",
    "\n",
    "print('to' in s, 'on' in s, 'in' in s)"
   ]
  },
  {
   "cell_type": "code",
   "execution_count": null,
   "id": "28aa846b-95fe-47e0-a362-eb2952d3e4a6",
   "metadata": {},
   "outputs": [],
   "source": [
    "# 5. Let x=4, y=8, write a formatted string \"two times x is y\" and substitute x, y\n",
    "\n",
    "x, y = 4, 8\n",
    "print(f\"two times {x} is {y}\")"
   ]
  },
  {
   "cell_type": "code",
   "execution_count": null,
   "id": "454c7943-d40b-46c3-8613-ad9c042e5cd6",
   "metadata": {},
   "outputs": [],
   "source": [
    "# 6. Print lowercase of s\n",
    "\n",
    "print(s.lower())"
   ]
  },
  {
   "cell_type": "code",
   "execution_count": null,
   "id": "3debafe8-0d9c-42b7-ac87-38b0efe5c500",
   "metadata": {},
   "outputs": [],
   "source": [
    "# 7. Find index of second occurence of character 'o' in string s, you should get 16\n",
    "\n",
    "print(s.index('o', s.index('o') + 1))"
   ]
  },
  {
   "cell_type": "code",
   "execution_count": null,
   "id": "414506fc-f20a-404e-a8b7-bbdedd175dc9",
   "metadata": {},
   "outputs": [],
   "source": [
    "# 8. Check if s is title case and only contains alphabets, you should get True, False\n",
    "\n",
    "print(s.istitle(), s.isalpha())"
   ]
  },
  {
   "cell_type": "code",
   "execution_count": null,
   "id": "35c99aeb-049b-4150-8f26-dd8312ca00a3",
   "metadata": {},
   "outputs": [],
   "source": [
    "# 9. Make a list q by splitting s by all whitespaces\n",
    "\n",
    "q = s.split()\n",
    "print(q)"
   ]
  },
  {
   "cell_type": "code",
   "execution_count": null,
   "id": "70b8eda9-c182-4997-a869-b099fff6b5e6",
   "metadata": {},
   "outputs": [],
   "source": [
    "# 10. Reverse the list q and join its elements into a str keeping one space between each word\n",
    "#     You should get 'Soon Into Here This'\n",
    "\n",
    "print(' '.join(q[::-1]))"
   ]
  },
  {
   "cell_type": "code",
   "execution_count": null,
   "id": "c084510b-c4d2-4c01-b4bb-394ca9740c94",
   "metadata": {},
   "outputs": [],
   "source": [
    "# 11. Make a new string t of total length 24, which contains s at its center\n",
    "#     Remaining spaces to be filled with space\n",
    "\n",
    "t = s.center(24)\n",
    "print(t)"
   ]
  },
  {
   "cell_type": "code",
   "execution_count": null,
   "id": "a26d4ffc-d40a-4141-9955-3cc518ff3504",
   "metadata": {},
   "outputs": [],
   "source": [
    "# 12. Make a list u by splitting t by newline character only '\\n'\n",
    "#     You should get ['  This Here', 'Into Soon   ']\n",
    "\n",
    "u = t.split('\\n')\n",
    "print(u)"
   ]
  },
  {
   "cell_type": "code",
   "execution_count": null,
   "id": "4e550cc3-a2b4-40bd-b35b-4645fd728292",
   "metadata": {},
   "outputs": [],
   "source": [
    "# 13. Strip whitespaces from second element of list u and print it\n",
    "#     You should get 'Into Soon'\n",
    "\n",
    "print(u[1].strip())"
   ]
  },
  {
   "cell_type": "markdown",
   "id": "23391ee2-9192-4393-a3d6-c276214c3e32",
   "metadata": {},
   "source": [
    "### 3. Write a function to reverse str/list/tuple\n",
    "Write a funciton whose input can be `str`, `list` or a `tuple`. The output of the function should be the reverse of the input but of the same type\n",
    "```\n",
    "\"ABCD\" --> \"DCBA\"\n",
    "[1, 3, 5, 7] --> [7, 5, 3, 1]\n",
    "(True, False, None) --> (None, False, True)\n",
    "```"
   ]
  },
  {
   "cell_type": "code",
   "execution_count": null,
   "id": "6a3b21f3-c9a9-429a-a979-56b2b0e2553f",
   "metadata": {},
   "outputs": [],
   "source": [
    "reverser = lambda a: a[::-1]\n",
    "\n",
    "print(reverser(\"ABCD\"))\n",
    "print(reverser([1, 3, 5, 7]))\n",
    "print(reverser((True, False, None)))"
   ]
  },
  {
   "cell_type": "markdown",
   "id": "3a5882b7-a5c2-44c5-a339-458c8130b9f9",
   "metadata": {
    "tags": []
   },
   "source": [
    "### 4. Multiply and Invert 2d Matrix\n",
    "Write a function to Multiply two 2d matrices. Write another function to find inverse of any matrix, Return False if the matrix is not invertible. The input matrices should be in the form `[[a, b], [c, d]]`. To test your functions, multiply a matrix with its inverse and see if you get the identity matrix back.\n",
    "```\n",
    "a = [[1, 2], [3, 4]]\n",
    "a_inv = inv2dMat(a) --> [[-2, 1], [1.5, -0.5]]\n",
    "mul2dMats(a, a_inv) --> [[1, 0], [0, 1]]\n",
    "inv2dMat([[1, 2], [2, 4]]) --> False\n",
    "```"
   ]
  },
  {
   "cell_type": "code",
   "execution_count": null,
   "id": "c6e8e609-b11d-4e3b-9b93-432bfe83de2d",
   "metadata": {},
   "outputs": [],
   "source": [
    "def mul2dMat(a, b):\n",
    "    return [[a[0][0] * b[0][0] + a[0][1] * b[1][0],\n",
    "             a[0][0] * b[0][1] + a[0][1] * b[1][1]],\n",
    "            [a[1][0] * b[0][0] + a[1][1] * b[1][0],\n",
    "             a[1][0] * b[0][1] + a[1][1] * b[1][1]]]\n",
    "\n",
    "def inv2dMat(a):\n",
    "    d = a[0][0] * a[1][1] - a[1][0] * a[0][1]\n",
    "    if d == 0:\n",
    "        return False\n",
    "    else:\n",
    "        return [[a[1][1] / d, -a[0][1] / d],\n",
    "                [-a[1][0] / d, a[0][0] / d]]\n",
    "\n",
    "a = [[1, 2], [3, 4]]\n",
    "a_inv = inv2dMat(a)\n",
    "print(a_inv)\n",
    "print(mul2dMat(a, a_inv))    # should print identity matrix\n",
    "print(inv2dMat([[1, 2], [2, 4]]))    # should return False"
   ]
  },
  {
   "cell_type": "markdown",
   "id": "08cf54ba-a71f-41c0-9689-eafcd83fd925",
   "metadata": {},
   "source": [
    "### 5. Solve system of 2 linear equations\n",
    "Write a function to solve `Ax=B` using the matrix invert function defined in previous problem. Here, `A` is a 2d matrix, `x` is unknown and `B` is known 2d vector. If `A` is not invertible, function should return `False`. You might need to define another function that multiplies a 2d matrix and a 2d vector.\n",
    "```\n",
    "a = [[1, 2], [3, 4]]\n",
    "a_inv = inv2dMat(a) --> [[-2, 1], [1.5, -0.5]]\n",
    "b = [5, 6]\n",
    "mul2dMatVec(a_inv, b) --> [-4.0, 4.5]\n",
    "solve2dLinear(a, b) --> [-4.0, 4.5]\n",
    "solve2dLinear([[1, 2], [2, 4]], b) --> False\n",
    "```\n",
    "You can further improve the function by figuring out if there will be no solutions or infinite solutions when `A` is not invertible."
   ]
  },
  {
   "cell_type": "code",
   "execution_count": null,
   "id": "f22de932-b3ef-451c-8b85-ef9d4b3983d4",
   "metadata": {},
   "outputs": [],
   "source": [
    "def solve2dLinear(a, b):\n",
    "    a_inv = inv2dMat(a)\n",
    "    if a_inv is False:\n",
    "        return False\n",
    "    else:\n",
    "        return [a_inv[0][0] * b[0] + a_inv[0][1] * b[1], a_inv[1][0] * b[0] + a_inv[1][1] * b[1]]\n",
    "\n",
    "a = [[1, 2], [3, 4]]\n",
    "b = [5, 6]\n",
    "print(solve2dLinear(a, b))\n",
    "print(solve2dLinear([[1, 2], [2, 4]], b))"
   ]
  },
  {
   "cell_type": "markdown",
   "id": "864b785d-fad2-45b8-80dd-abd78740321b",
   "metadata": {},
   "source": [
    "### 6. Velocity Addition in Special Relativity\n",
    "Assume a car is passing by an observer with a velocity `u0` in 1d and relative to the car an object is traveling with a velocity `u1`, then as per classical mechanics the object's speed for the observer will be `u0 + u1`. However, in Special Relativity the speeds are added in 1d as `(u0 + u1) / (1 + (u0 * u1) / c**2)`. Here `c` is the speed of light, its exact value is `c = 299792458 m/s`.\n",
    "\n",
    "Write a function to add velocities in 1d as per Theory of Special Relativity. Input to the function should be velocity (in SI units) to be added, it can be positive or negative. Function should check if the input speeds are <= speed of light or not, if they are larger than speed of light, it should return `False` and print that one of the input was incorrect. If both inputs are correct, output should be added velocity."
   ]
  },
  {
   "cell_type": "code",
   "execution_count": null,
   "id": "be0a0e57-6db3-4fe5-9cae-b168dbbc88ed",
   "metadata": {},
   "outputs": [],
   "source": [
    "def velAdd(u0, u1):\n",
    "    c = 299792458\n",
    "    if abs(u0) > c:\n",
    "        print('ERROR: First speed', u0, 'is more than c')\n",
    "        return False\n",
    "    if abs(u1) > c:\n",
    "        print('ERROR: Second speed', u1, 'is more than c')\n",
    "        return False\n",
    "    return (u0 + u1) / (1 + (u0 * u1) / (c * c))\n",
    "\n",
    "vels = ((2.5e8, 2.7e8),    # 296966579.8452006\n",
    "        (2.5e8, -2.7e8),    # -80333799.09333314\n",
    "        (-2.5e8, 2.7e8),    # 80333799.09333314\n",
    "        (299792458, 2.7e8),    # 299792458.0\n",
    "        (2.5e8, -299792458),    # -299792458.0\n",
    "        (3.0e8, 2.5e8),    # False\n",
    "        (2.5e8, -3.0e8))    # False\n",
    "for u0, u1 in vels:\n",
    "    print(velAdd(u0, u1))"
   ]
  },
  {
   "cell_type": "markdown",
   "id": "8cf5e76b-041a-4aa4-a16a-1431b63b12ac",
   "metadata": {},
   "source": [
    "### 7. Molecular Weights of Chemical Compounds\n",
    "Write a function to find molecular weight of chemical compounds. Input will be a string like \"CH3COOH\". Output should be sum of atomic masses of all the elements in the compund. Only include following elements: Hydrogen H (1.008), Carbon C (12.011), Nitrogen N (14.007), Oxygen O (15.999), Sodium Na (22.990), Sulphur S (32.066), Chlorine Cl (35.453), Calcium Ca (40.078). If any other element is encountered, the function should return -1.\n",
    "\n",
    "Check your function with the given chemical formulas and match against their given molecular weights (rounded to 3 digits after decimal)\n",
    "```\n",
    "{'CH3COCH3': 58.08, 'CH3COCH2COOH': 102.089, 'CH3CHCH2CO2H': 87.098, 'CH3COOH': 60.052, 'H2SO4': 98.078, 'NH3': 17.031, 'CaCO3': 100.086, 'NaCl': 58.443, 'C6H12O6': 180.156, 'C16H18ClN3S': 319.86, 'NaNO3': 84.994, 'CCl4': 153.823, 'C800H1600': 11221.6, 'CuSO4': -1}\n",
    "```"
   ]
  },
  {
   "cell_type": "code",
   "execution_count": null,
   "id": "8ab1cc3e-f8d0-4e88-a4d6-80d33ac47b65",
   "metadata": {},
   "outputs": [],
   "source": [
    "def molwt(c):\n",
    "    wts = {'H': 1.008, 'C': 12.011, 'N': 14.007, 'O': 15.999, 'Na': 22.990, 'S': 32.066, 'Cl': 35.453, 'Ca': 40.078}\n",
    "    mw = []\n",
    "    for e in re.findall('Ca|Cl|Na|H|C|N|O|S|[0-9]+|[a-zA-Z]+', c):\n",
    "        if e.isdigit():\n",
    "            mw.append(mw[-1] * (int(e) - 1))\n",
    "        elif e not in wts:\n",
    "            print('Unknown chemical formula...')\n",
    "            return -1\n",
    "        else:\n",
    "            mw.append(wts[e])\n",
    "    return sum(mw)\n",
    "\n",
    "myChems = ('CH3COCH3', 'CH3COCH2COOH', 'CH3CHCH2CO2H', 'CH3COOH', 'H2SO4', 'NH3', 'CaCO3', 'NaCl', 'C6H12O6', 'C16H18ClN3S', 'NaNO3', 'CCl4', 'C800H1600', 'CuSO4')\n",
    "mcs = {}\n",
    "for c in myChems:\n",
    "    mcs[c] = round(molwt(c), 3)\n",
    "print(mcs)"
   ]
  },
  {
   "cell_type": "markdown",
   "id": "1dec9bee-da50-4ae5-8b41-8fea9a60ccbd",
   "metadata": {},
   "source": [
    "### 8. Collatz Sequences\n",
    "For any positive integer `n`, generate a sequence of integers by repetitively applying the following operations:\n",
    "* If `n` is even, divide it by 2, i.e., `n → n / 2`\n",
    "* If `n` is odd, multiply it by 3 and add 1, i.e., `n → 1 + 3 * n`\n",
    "\n",
    "Collatz conjecture states that no matter what `n` is, if we keep applying these operations the sequence always ends at `1`. In this problem, you need to write a function that returns a `list` containing the sequence of outputs until `1` is reached. Test your function with following examples:\n",
    "```\n",
    "n = 3:  [3, 10, 5, 16, 8, 4, 2, 1]\n",
    "n = 7:  [7, 22, 11, 34, 17, 52, 26, 13, 40, 20, 10, 5, 16, 8, 4, 2, 1]\n",
    "n = 10: [10, 5, 16, 8, 4, 2, 1]\n",
    "n = 17: [17, 52, 26, 13, 40, 20, 10, 5, 16, 8, 4, 2, 1]\n",
    "n = 21: [21, 64, 32, 16, 8, 4, 2, 1]\n",
    "```\n",
    "Also try `n = 27` and some very high numbers."
   ]
  },
  {
   "cell_type": "code",
   "execution_count": null,
   "id": "6e0d6b08-6192-458a-af14-80b2ae37d80e",
   "metadata": {},
   "outputs": [],
   "source": [
    "def collatz(n):\n",
    "    a = [n]\n",
    "    while n != 1:\n",
    "        if n & 1:\n",
    "            n = 3 * n + 1\n",
    "        else:\n",
    "            n //= 2\n",
    "        a.append(n)\n",
    "    return a\n",
    "\n",
    "for n in [3, 7, 10, 17, 21]:\n",
    "    print(f'n = {n}:', collatz(n))"
   ]
  },
  {
   "cell_type": "markdown",
   "id": "19030b27-7e9b-48f7-8db8-2ce02b9a9ae4",
   "metadata": {
    "tags": []
   },
   "source": [
    "### 9. Pascal's Triangle\n",
    "Write a function to return Pascal's Triangle as a list of list for given number of rows `n > 0`. In main code, print the output so that it looks like this (for `n = 7`)\n",
    "```\n",
    "       1        \n",
    "      1 1       \n",
    "     1 2 1      \n",
    "    1 3 3 1     \n",
    "   1 4 6 4 1    \n",
    " 1 5 10 10 5 1  \n",
    "1 6 15 20 15 6 1\n",
    "```\n",
    "The `str` method `.center` could be useful in properly setting the output."
   ]
  },
  {
   "cell_type": "code",
   "execution_count": null,
   "id": "5f42991c-899d-4a5f-a791-af34f140d9f9",
   "metadata": {},
   "outputs": [],
   "source": [
    "def pascal_triangle(n):\n",
    "    if n == 1:\n",
    "        return [[1]]\n",
    "    pt = [[1], [1, 1]]\n",
    "    for i in range(2, n):\n",
    "        r = [pt[-1][0]]\n",
    "        for j in range(i-1):\n",
    "            r.append(pt[-1][j] + pt[-1][j+1])\n",
    "        r.append(pt[-1][-1])\n",
    "        pt.append(r)\n",
    "    return pt\n",
    "n = 8\n",
    "pt = pascal_triangle(n)\n",
    "m = len(' '.join([str(c) for c in pt[-1]]))\n",
    "for r in pt:\n",
    "    print((' '.join([str(c) for c in r])).center(m))"
   ]
  },
  {
   "cell_type": "markdown",
   "id": "dbdc37e5-8268-4f7f-ac18-c80a99732799",
   "metadata": {},
   "source": [
    "### 10. Rolling Cipher\n",
    "Make 2 functions `RC_encoder(s, k)` and `RC_decoder(s, k)`, where `s` is input string and `k` is **ANY** integer.\n",
    "\n",
    "Function `RC_encoder` should work as following: Shift all alphabets in input string `s` forward by `k`, so if k = 2, change all `A -> C`, `B -> D`, `C -> E`, ..., `X -> Z`, `Y -> A`, `Z -> B`. Follow same mapping with lower alphabets. For any other characters, don't change them. Function should return the modified string.\n",
    "\n",
    "Function `RC_decoder` should change the characters in reverse order, so for `k = 2`, `A -> Y`, `B -> Z`, `C -> A`, ..., `X -> V`, `Y -> W`, `Z -> X`. Thus for same `k`, these 2 functions should act as inverse of each other. To verify your code, apply both functions a string with same `k` and you should get same string back.\n",
    "\n",
    "Some helpful advice:\n",
    "1. There are inbuilt functions `ord` and `chr` in Python. `ord` converts any single character to its corresponding integer in Unicode, A-Z -> 65-90 and a-z -> 97-122. `chr` converts from integer to character.\n",
    "2. Remember the modulo operator `%`:\n",
    "```\n",
    "25 % 26 = 25\n",
    "26 % 26 = 0\n",
    "27 % 26 = 1\n",
    " 0 % 26 = 0\n",
    "-1 % 26 = 25\n",
    "-2 % 26 = 24\n",
    "```"
   ]
  },
  {
   "cell_type": "code",
   "execution_count": null,
   "id": "c66a80a0-0188-49c1-b6b0-381127b4f45e",
   "metadata": {},
   "outputs": [],
   "source": [
    "def RC_encoder(s, k):\n",
    "    cd = {chr(65 + i): chr(65 + ((i+k)%26)) for i in range(26)}\n",
    "    cd.update({chr(97 + i): chr(97 + ((i+k)%26)) for i in range(26)})\n",
    "    t = ''\n",
    "    for c in s:\n",
    "        if c in cd:\n",
    "            t += cd[c]\n",
    "        else:\n",
    "            t += c\n",
    "    return t\n",
    "def RC_decoder(s, k):\n",
    "    # return RC_encoder(s, -k)\n",
    "    cd = {chr(65 + i): chr(65 + ((i-k)%26)) for i in range(26)}\n",
    "    cd.update({chr(97 + i): chr(97 + ((i-k)%26)) for i in range(26)})\n",
    "    t = ''\n",
    "    for c in s:\n",
    "        if c in cd:\n",
    "            t += cd[c]\n",
    "        else:\n",
    "            t += c\n",
    "    return t\n",
    "\n",
    "s0 = \"Though I'm a Python coding beginner, I hope to complete all these problems gracefully.\"\n",
    "s0_encoded = RC_encoder(s0, 13)\n",
    "print(s0_encoded)\n",
    "print(RC_decoder(s0_encoded, 13))    # this should reproduce s0\n",
    "print(RC_decoder('Qttp fy dtz Htinsl Hmfru, Dtz fwj itnsl LWJFY!!!', -2023))    # if you see a meaningful sentence, your code worked correctly"
   ]
  },
  {
   "cell_type": "markdown",
   "id": "d80859c0-ffa7-4d02-b100-10f93960ac7e",
   "metadata": {},
   "source": [
    "### 11. Python's Quirky Behaviors\n",
    "In this exercise, look at the codes below and try to predict their outcomes before running them. After running them, try to make sense of their outcomes. To read more about this you can search online for \"mutable default arguments in python\" and \"late binding closures in python\". You can also read more here: https://docs.python-guide.org/writing/gotchas/"
   ]
  },
  {
   "cell_type": "code",
   "execution_count": null,
   "id": "9501c5cd-3188-4b0f-8e83-200c6d1d99ac",
   "metadata": {},
   "outputs": [],
   "source": [
    "def f(a = []):\n",
    "    a.append(1)\n",
    "    print(a)\n",
    "f()\n",
    "f()\n",
    "f()"
   ]
  },
  {
   "cell_type": "code",
   "execution_count": null,
   "id": "59cdb07b-a26d-4bb0-817d-f8746f78bebc",
   "metadata": {},
   "outputs": [],
   "source": [
    "fxs = [lambda x: i * x for i in range(4)]\n",
    "for f in fxs:\n",
    "    print(f(1))"
   ]
  }
 ],
 "metadata": {
  "kernelspec": {
   "display_name": "Python 3 (ipykernel)",
   "language": "python",
   "name": "python3"
  },
  "language_info": {
   "codemirror_mode": {
    "name": "ipython",
    "version": 3
   },
   "file_extension": ".py",
   "mimetype": "text/x-python",
   "name": "python",
   "nbconvert_exporter": "python",
   "pygments_lexer": "ipython3",
   "version": "3.9.8"
  }
 },
 "nbformat": 4,
 "nbformat_minor": 5
}
