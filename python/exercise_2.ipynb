{
 "cells": [
  {
   "cell_type": "markdown",
   "id": "b9d37008-73af-4349-8bae-4ec84f7e0303",
   "metadata": {},
   "source": [
    "### 0. Define These Functions\n",
    "Write the functions mentioned below.\n",
    "\n",
    "As a challenge, try to write each in a single line using `lambda` and without importing any external library"
   ]
  },
  {
   "cell_type": "code",
   "execution_count": null,
   "id": "bca7034b-e8e0-458b-b791-a5dbcb3ae01f",
   "metadata": {},
   "outputs": [],
   "source": [
    "# 0. f(x) = cos(2*x) + 2 * sin(x)**2\n",
    "\n"
   ]
  },
  {
   "cell_type": "code",
   "execution_count": null,
   "id": "cf62d00f-bf00-4aa9-bc7b-9aed9a4d7cb2",
   "metadata": {},
   "outputs": [],
   "source": [
    "# 1. f(x) = (x**2 - y**2) if (x >= y)\n",
    "#           (y**2 - x**2) if (x < y)\n",
    "\n"
   ]
  },
  {
   "cell_type": "code",
   "execution_count": null,
   "id": "bf681253-a99d-41b0-9ddb-06d94c586c8a",
   "metadata": {},
   "outputs": [],
   "source": [
    "# 2. f(x, y, c=0) = -y         if (c == 0)\n",
    "#                   10*x - 3*y if (c == 1)\n",
    "#                   20*x - 5*y if (c == 2)\n",
    "#                   30*x - 7*y if (c == 3)\n",
    "\n"
   ]
  },
  {
   "cell_type": "code",
   "execution_count": null,
   "id": "d257f464-f60a-4ef9-b179-be2a6000d1de",
   "metadata": {},
   "outputs": [],
   "source": [
    "# 3. f(x) = log(exp(x)), where log is in natural base\n",
    "\n"
   ]
  },
  {
   "cell_type": "code",
   "execution_count": null,
   "id": "8f5a5829-0737-4235-befc-f1038a4de03e",
   "metadata": {},
   "outputs": [],
   "source": [
    "# 4. f(n) = exp(ι π n), where ι is imaginary number and n is integer\n",
    "\n"
   ]
  },
  {
   "cell_type": "code",
   "execution_count": null,
   "id": "b4efefeb-dda1-46f0-8204-7a6696103678",
   "metadata": {},
   "outputs": [],
   "source": [
    "# 5. f(n) = (3 + 4 + 5 + 6 + ... + n) for integer n >= 3\n",
    "\n"
   ]
  },
  {
   "cell_type": "code",
   "execution_count": null,
   "id": "ee5b6f9f-89fc-48cf-899e-ca30752bd738",
   "metadata": {},
   "outputs": [],
   "source": [
    "# 6. f(n) = (4² + 6² + 8² + ... + n²) for even integer n >= 4\n",
    "\n"
   ]
  },
  {
   "cell_type": "code",
   "execution_count": null,
   "id": "6ae4ec52-ab7a-40f0-834b-f57034f06510",
   "metadata": {},
   "outputs": [],
   "source": [
    "# 7. Function to reverse string, list or tuple. Output should be of same type\n",
    "# f(\"ABCDE\") --> \"EDCBA\"\n",
    "# f([1, 3, 5, 7]) --> [7, 5, 3, 1]\n",
    "# f((True, False, None)) --> (None, False, True)\n",
    "\n"
   ]
  },
  {
   "cell_type": "markdown",
   "id": "c3c2c1f2-4ff0-4aef-9dff-db11252932b3",
   "metadata": {},
   "source": [
    "### 1. Apply following operations on given `str`\n",
    "Define the following string in your code. Then write codes as instructed in each cell.\n",
    "```\n",
    "s = 'This Here\\nInto Soon'\n",
    "```"
   ]
  },
  {
   "cell_type": "code",
   "execution_count": null,
   "id": "60152ffe-896e-4a01-8e12-d7656067b61f",
   "metadata": {},
   "outputs": [],
   "source": [
    "# 0. Define s and print it, its type and length\n",
    "\n"
   ]
  },
  {
   "cell_type": "code",
   "execution_count": null,
   "id": "7faa2598-dee4-4c48-bf63-831e8b3ab9d0",
   "metadata": {},
   "outputs": [],
   "source": [
    "# 1. What's the 9th index of s (assume index starts from 0)? Print it and find out\n",
    "\n"
   ]
  },
  {
   "cell_type": "code",
   "execution_count": null,
   "id": "79c7aa45-ca3d-4d64-b9ba-3eedf73550b9",
   "metadata": {},
   "outputs": [],
   "source": [
    "# 2. Starting from index 0, print a string only containing every 5th character of s\n",
    "#    You should get 'THIS'\n",
    "\n"
   ]
  },
  {
   "cell_type": "code",
   "execution_count": null,
   "id": "a7f9d646-b9aa-430b-9519-9e747011fef8",
   "metadata": {},
   "outputs": [],
   "source": [
    "# 3. Check if substrings 'to', 'on' and 'in' are contained in s\n",
    "#    You should get True, True, False\n",
    "\n"
   ]
  },
  {
   "cell_type": "code",
   "execution_count": null,
   "id": "28aa846b-95fe-47e0-a362-eb2952d3e4a6",
   "metadata": {},
   "outputs": [],
   "source": [
    "# 4. Let x=4, y=8, write a formatted string \"two times x is y\" and substitute x, y\n",
    "\n"
   ]
  },
  {
   "cell_type": "code",
   "execution_count": null,
   "id": "454c7943-d40b-46c3-8613-ad9c042e5cd6",
   "metadata": {},
   "outputs": [],
   "source": [
    "# 5. Print lowercase of s\n",
    "\n"
   ]
  },
  {
   "cell_type": "code",
   "execution_count": null,
   "id": "3debafe8-0d9c-42b7-ac87-38b0efe5c500",
   "metadata": {},
   "outputs": [],
   "source": [
    "# 6. Find index of second occurence of character 'o' in string s, you should get 16\n",
    "\n"
   ]
  },
  {
   "cell_type": "code",
   "execution_count": null,
   "id": "414506fc-f20a-404e-a8b7-bbdedd175dc9",
   "metadata": {},
   "outputs": [],
   "source": [
    "# 7. Check if s is title case and only contains alphabets, you should get True, False\n",
    "\n"
   ]
  },
  {
   "cell_type": "code",
   "execution_count": null,
   "id": "35c99aeb-049b-4150-8f26-dd8312ca00a3",
   "metadata": {},
   "outputs": [],
   "source": [
    "# 8. Make a list q by splitting s by all whitespaces\n",
    "\n"
   ]
  },
  {
   "cell_type": "code",
   "execution_count": null,
   "id": "70b8eda9-c182-4997-a869-b099fff6b5e6",
   "metadata": {},
   "outputs": [],
   "source": [
    "# 9. Reverse the list q and join its elements into a str keeping one space between each word\n",
    "#     You should get 'Soon Into Here This'\n",
    "\n"
   ]
  },
  {
   "cell_type": "code",
   "execution_count": null,
   "id": "c084510b-c4d2-4c01-b4bb-394ca9740c94",
   "metadata": {},
   "outputs": [],
   "source": [
    "# 10. Make a new string t of total length 24, which contains s at its center\n",
    "#     Remaining spaces to be filled with space\n",
    "\n"
   ]
  },
  {
   "cell_type": "code",
   "execution_count": null,
   "id": "a26d4ffc-d40a-4141-9955-3cc518ff3504",
   "metadata": {},
   "outputs": [],
   "source": [
    "# 11. Make a list u by splitting t by newline character only '\\n'\n",
    "#     You should get ['  This Here', 'Into Soon   ']\n",
    "\n"
   ]
  },
  {
   "cell_type": "code",
   "execution_count": null,
   "id": "4e550cc3-a2b4-40bd-b35b-4645fd728292",
   "metadata": {},
   "outputs": [],
   "source": [
    "# 12. Strip whitespaces from second element of list u and print it\n",
    "#     You should get 'Into Soon'\n",
    "\n"
   ]
  },
  {
   "cell_type": "markdown",
   "id": "3a5882b7-a5c2-44c5-a339-458c8130b9f9",
   "metadata": {
    "tags": []
   },
   "source": [
    "### 2. 2x2 Matrix Operations\n",
    "Write functions as mentioned in each cell below. Let input and ouput matrices be in the format `[[p, q], [r, s]]` and vectors in the format `[u, v]`. Don't use any external library for these problems. These problems are for teaching purpose only, otherwise one should use standard library functions for such computations."
   ]
  },
  {
   "cell_type": "code",
   "execution_count": null,
   "id": "482dbce4-b429-441f-83ce-f71fed29913b",
   "metadata": {},
   "outputs": [],
   "source": [
    "# 0. Write a function to multiply two 2x2 matrices\n",
    "\n",
    "def mul2Mat(a, b):\n",
    "    # write your code here\n",
    "    pass\n",
    "\n",
    "a = [[1, 2], [3, 4]]\n",
    "b = [[2, 3], [4, 5]]\n",
    "print('a X b =', mul2dMat(a, b))    # [[10, 13], [22, 29]]\n",
    "print('b X a =', mul2dMat(b, a))    # [[11, 16], [19, 28]]"
   ]
  },
  {
   "cell_type": "code",
   "execution_count": null,
   "id": "2e23c078-028d-4961-9120-0cc41ef5679a",
   "metadata": {},
   "outputs": [],
   "source": [
    "# 1. Write a function to find determinant of a 2x2 matrix\n",
    "\n",
    "def det2Mat(a):\n",
    "    # write your code here\n",
    "    pass\n",
    "\n",
    "a = [[1, 2], [3, 4]]\n",
    "print('Determinant of a:', det2dMat(a))    # -2"
   ]
  },
  {
   "cell_type": "code",
   "execution_count": null,
   "id": "13c7f669-9fb8-4604-a05b-78e8c98b536a",
   "metadata": {},
   "outputs": [],
   "source": [
    "# 2. Write a function to find inverse of a 2x2 matrix, return False if the matrix is not invertible\n",
    "\n",
    "def inv2Mat(a):\n",
    "    # write your code here\n",
    "    pass\n",
    "\n",
    "a = [[1, 2], [3, 4]]\n",
    "c = [[1, 2], [2, 4]]\n",
    "a_inv = inv2Mat(a)\n",
    "print('Inverse of a:', a_inv)    # [[-2.0, 1.0], [1.5, -0.5]]\n",
    "print('a X Inv(a) =', mul2Mat(a, a_inv))    # [[1.0, 0.0], [0.0, 1.0]], identity matrix\n",
    "print('Inverse of c:', inv2Mat(c))    # False"
   ]
  },
  {
   "cell_type": "code",
   "execution_count": null,
   "id": "e7c8acde-1d5a-442b-8dcd-e17c9b5216dc",
   "metadata": {},
   "outputs": [],
   "source": [
    "# 3. Write a function to multiply a 2x2\u0000 \u0000matrix with a 2d vector\n",
    "\n",
    "def mul2MatVec(a, b):\n",
    "    # write your code here\n",
    "    pass\n",
    "\n",
    "a = [[1, 2], [3, 4]]\n",
    "b = [[2, 3], [4, 5]]\n",
    "d = [7, 8]\n",
    "print('a X d =', mul2MatVec(a, d))    # [23, 53]\n",
    "print('b X d =', mul2MatVec(b, d))    # [38, 68]"
   ]
  },
  {
   "cell_type": "code",
   "execution_count": null,
   "id": "b25308f8-fd6e-41e0-b1f4-883809c00175",
   "metadata": {},
   "outputs": [],
   "source": [
    "# 4. Write a function to solve a system of 2 linear equations for unknown x where:\n",
    "#    a X x == b, a is a 2x2 matrix and b is a 2d vector\n",
    "#    Function should return False if the system has no/infinite solutions\n",
    "\n",
    "def solve2Linear(a, b):\n",
    "    # write your code here\n",
    "    pass\n",
    "\n",
    "a = [[1, 2], [3, 4]]\n",
    "b = [[2, 3], [4, 5]]\n",
    "c = [[1, 2], [2, 4]]\n",
    "d = [7, 8]\n",
    "x_ad = solve2Linear(a, d)\n",
    "x_bd = solve2Linear(b, d)\n",
    "print('solution of a X x == d:', x_ad)    # [-6.0, 6.5]\n",
    "print('solution of b X x == d:', x_bd)    # [-5.5, 6.0]\n",
    "print('a X x_ad:', mul2MatVec(a, x_ad))    # [7.0, 8.0], should reproduce d\n",
    "print('b X x_bd:', mul2MatVec(b, x_bd))    # [7.0, 8.0], should reproduce d\n",
    "print('solution of c X x == d:', solve2Linear(c, d))    # False"
   ]
  },
  {
   "cell_type": "markdown",
   "id": "864b785d-fad2-45b8-80dd-abd78740321b",
   "metadata": {},
   "source": [
    "### 3. Velocity Addition in Special Relativity\n",
    "Assume a car is passing by an observer with a velocity `u0` in 1d and relative to the car an object is traveling with a velocity `u1`, then as per classical mechanics the object's speed for the observer will be `u0 + u1`. However, in Special Relativity the speeds are added in 1d as `(u0 + u1) / (1 + (u0 * u1) / c**2)`. Here `c` is the speed of light, its exact value is `c = 299792458 m/s`.\n",
    "\n",
    "Write a function to add velocities in 1d as per the theory of Special Relativity. Input to the function should be velocity (in SI units) to be added, it can be positive or negative. Function should check if the input speeds are <= speed of light or not, if they are larger than speed of light, it should return `False` and print that one of the input was incorrect. If both inputs are correct, output should be added velocity."
   ]
  },
  {
   "cell_type": "code",
   "execution_count": null,
   "id": "be0a0e57-6db3-4fe5-9cae-b168dbbc88ed",
   "metadata": {},
   "outputs": [],
   "source": [
    "def velAdd(u0, u1):\n",
    "    # write your code here\n",
    "    pass\n",
    "\n",
    "vels = ((2.5e8, 2.7e8),    # 296966579.8452006\n",
    "        (2.5e8, -2.7e8),    # -80333799.09333314\n",
    "        (-2.5e8, 2.7e8),    # 80333799.09333314\n",
    "        (299792458, 2.7e8),    # 299792458.0\n",
    "        (2.5e8, -299792458),    # -299792458.0\n",
    "        (3.0e8, 2.5e8),    # False\n",
    "        (2.5e8, -3.0e8))    # False\n",
    "for u0, u1 in vels:\n",
    "    print(velAdd(u0, u1))"
   ]
  },
  {
   "cell_type": "markdown",
   "id": "1dec9bee-da50-4ae5-8b41-8fea9a60ccbd",
   "metadata": {},
   "source": [
    "### 4. Collatz Sequences\n",
    "For any positive integer `n`, generate a sequence of integers by repetitively applying the following operations:\n",
    "* If `n` is even, divide it by 2, i.e., `n → n / 2`\n",
    "* If `n` is odd, multiply it by 3 and add 1, i.e., `n → 1 + 3 * n`\n",
    "\n",
    "Collatz conjecture states that no matter what `n` is, if we keep applying these operations the sequence always ends at `1`. In this problem, you need to write a function that returns a `list` containing the sequence of outputs until `1` is reached. Test your function with following examples:\n",
    "```\n",
    "n = 3:  [3, 10, 5, 16, 8, 4, 2, 1]\n",
    "n = 7:  [7, 22, 11, 34, 17, 52, 26, 13, 40, 20, 10, 5, 16, 8, 4, 2, 1]\n",
    "n = 10: [10, 5, 16, 8, 4, 2, 1]\n",
    "n = 17: [17, 52, 26, 13, 40, 20, 10, 5, 16, 8, 4, 2, 1]\n",
    "n = 21: [21, 64, 32, 16, 8, 4, 2, 1]\n",
    "```\n",
    "Also try `n = 27` and some very high numbers."
   ]
  },
  {
   "cell_type": "code",
   "execution_count": null,
   "id": "e7e41d4c-c2aa-4f91-a8c0-0f023ba3a077",
   "metadata": {},
   "outputs": [],
   "source": [
    "# write your code here\n"
   ]
  },
  {
   "cell_type": "markdown",
   "id": "19030b27-7e9b-48f7-8db8-2ce02b9a9ae4",
   "metadata": {
    "tags": []
   },
   "source": [
    "### 5. Pascal's Triangle\n",
    "Write a function to return Pascal's Triangle as a list of list for given number of rows `n > 0`. In main code, print the output so that it looks like this (for `n = 7`)\n",
    "```\n",
    "       1        \n",
    "      1 1       \n",
    "     1 2 1      \n",
    "    1 3 3 1     \n",
    "   1 4 6 4 1    \n",
    " 1 5 10 10 5 1  \n",
    "1 6 15 20 15 6 1\n",
    "```\n",
    "Hint: `str` methods `.center` and `.join` will be helpful in printing the output"
   ]
  },
  {
   "cell_type": "code",
   "execution_count": null,
   "id": "f121f954-ea77-43d9-8188-e9d484b8e234",
   "metadata": {},
   "outputs": [],
   "source": [
    "def pascal_triangle(n):\n",
    "    # write your function here\n",
    "    pass\n",
    "\n",
    "pt = pascal_triangle(8)\n",
    "# write your code here to print pt in the required format\n"
   ]
  },
  {
   "cell_type": "markdown",
   "id": "8cf5e76b-041a-4aa4-a16a-1431b63b12ac",
   "metadata": {},
   "source": [
    "### 6. Molecular Weights of Chemical Compounds\n",
    "Write a function to find molecular weight of chemical compounds. Input will be a string like \"CH3COOH\". Output should be sum of atomic masses of all the elements in the compund. Only include following elements: Hydrogen H (1.008), Carbon C (12.011), Nitrogen N (14.007), Oxygen O (15.999), Sodium Na (22.990), Sulphur S (32.066), Chlorine Cl (35.453), Calcium Ca (40.078). If any other element is encountered, the function should return -1.\n",
    "\n",
    "Check your function with the given chemical formulas and match against their given molecular weights (rounded to 3 digits after decimal)\n",
    "```\n",
    "{'CH3COCH3': 58.08, 'CH3COCH2COOH': 102.089, 'CH3CHCH2CO2H': 87.098, 'CH3COOH': 60.052, 'H2SO4': 98.078, 'NH3': 17.031, 'CaCO3': 100.086, 'NaCl': 58.443, 'C6H12O6': 180.156, 'C16H18ClN3S': 319.86, 'NaNO3': 84.994, 'CCl4': 153.823, 'C800H1600': 11221.6, 'CuSO4': -1}\n",
    "```"
   ]
  },
  {
   "cell_type": "code",
   "execution_count": null,
   "id": "9d9903cc-c48d-4a86-9af5-5e0f944c9820",
   "metadata": {},
   "outputs": [],
   "source": [
    "# write your code here\n"
   ]
  },
  {
   "cell_type": "markdown",
   "id": "d0345e13-7f17-452e-8ecc-1136c86c5f9e",
   "metadata": {},
   "source": [
    "### 7. Balance of Elements in Chemical Reactions\n",
    "Write a function to verify if number of elements are same on both sides of a chemical reaction. Input will be a string in the format \"2H2 + O2 -> 2H2O\". Output should be `True` if number of elements of each species on both sides of the reaction are equal, `False` otherwise. Only consider following elements in your code: Hydrogen H, Carbon C, Nitrogen N, Oxygen O, Sodium Na, Sulphur S, Chlorine Cl. If any other element is encountered, the function should return `None`. Check your function with the chemical reactions given below"
   ]
  },
  {
   "cell_type": "code",
   "execution_count": null,
   "id": "bfb058fa-414e-4648-ad6a-636eb59df405",
   "metadata": {},
   "outputs": [],
   "source": [
    "def elementsBalance(reaction):\n",
    "    # write your code here\n",
    "    pass\n",
    "\n",
    "crs0 = ('Na + Cl -> NaCl',    # All True\n",
    "        'CH3CH2Cl -> CH2CH2 + HCl',\n",
    "        'HCl + NaOH -> H2O + NaCl',\n",
    "        '2H2 + O2 -> 2H2O',\n",
    "        '2NaN3 -> 2Na + 3N2',\n",
    "        '2S + 3O2 + 2H2O -> 2H2SO4',\n",
    "        'HC2H3O2 + NaHCO3 -> NaC2H3O2 + H2O + CO2',\n",
    "        '6CO2 + 6H2O -> C6H12O6 + 6O2',\n",
    "        '146H2 + 73O2 -> 146H2O')\n",
    "crs1 = ('Na + Cl -> NaCl2',    # All False\n",
    "        'CH3CH2Cl -> C2H2 + HCl + H2O',\n",
    "        'HCl + NaOH -> H2O + Cl',\n",
    "        '2H2 + O2 -> H2O2',\n",
    "        '2S + 3O2 + H2O -> 2H2SO4',\n",
    "        'HC2H3O2 + NaHCO3 -> NaC2H3O2 + H2O',\n",
    "        '6CO2 + 6H2O -> C6H14O6 + 6O2',\n",
    "        '146H2 + 76O2 -> 144H2O')\n",
    "crs2 = ('HCl + KOH -> KCl + H2O',    # All None\n",
    "        'Fe + CuSO4 -> FeSO4 + Cu',\n",
    "        '2NeN3 -> 2Ne + 4N2')\n",
    "\n",
    "print(all([elementsBalance(cr) for cr in crs0]))    # should print True\n",
    "print(any([elementsBalance(cr) for cr in crs1]))    # should print False\n",
    "print(all([elementsBalance(cr) is None for cr in crs2]))    # should print True"
   ]
  },
  {
   "cell_type": "markdown",
   "id": "dbdc37e5-8268-4f7f-ac18-c80a99732799",
   "metadata": {},
   "source": [
    "### 8. Rolling Cipher\n",
    "Make 2 functions `RC_encoder(s, k)` and `RC_decoder(s, k)`, where `s` is input string and `k` is **ANY** integer.\n",
    "\n",
    "Function `RC_encoder` should work as following: Shift all alphabets in input string `s` forward by `k`, so if k = 2, change all `A -> C`, `B -> D`, `C -> E`, ..., `X -> Z`, `Y -> A`, `Z -> B`. Follow same mapping with lower alphabets. For any other characters, don't change them. Function should return the modified string.\n",
    "\n",
    "Function `RC_decoder` should change the characters in reverse order, so for `k = 2`, `A -> Y`, `B -> Z`, `C -> A`, ..., `X -> V`, `Y -> W`, `Z -> X`. Thus for same `k`, these 2 functions should act as inverse of each other. To verify your code, apply both functions a string with same `k` and you should get same string back.\n",
    "\n",
    "Some helpful advice:\n",
    "1. There are inbuilt functions `ord` and `chr` in Python. `ord` converts any single character to its corresponding integer in Unicode, A-Z -> 65-90 and a-z -> 97-122. `chr` converts from integer to character.\n",
    "2. Remember the modulo operator `%`:\n",
    "```\n",
    "25 % 26 = 25\n",
    "26 % 26 = 0\n",
    "27 % 26 = 1\n",
    " 0 % 26 = 0\n",
    "-1 % 26 = 25\n",
    "-2 % 26 = 24\n",
    "```"
   ]
  },
  {
   "cell_type": "code",
   "execution_count": null,
   "id": "c66a80a0-0188-49c1-b6b0-381127b4f45e",
   "metadata": {},
   "outputs": [],
   "source": [
    "def RC_encoder(s, k):\n",
    "    # write your code here\n",
    "    pass\n",
    "\n",
    "def RC_decoder(s, k):\n",
    "    # write your code here\n",
    "    pass\n",
    "\n",
    "s0 = \"Though I'm a Python coding beginner, I hope to complete all these problems gracefully.\"\n",
    "s0_encoded = RC_encoder(s0, 13)\n",
    "print(s0_encoded)\n",
    "print(RC_decoder(s0_encoded, 13))    # this should reproduce s0\n",
    "print(RC_decoder('Qttp fy dtz Htinsl Hmfru, Dtz fwj itnsl LWJFY!!!', -2023))    # if you see a meaningful sentence, your code worked correctly"
   ]
  },
  {
   "cell_type": "markdown",
   "id": "fdffccb0-d5b5-48b7-8529-8dc283ebe5f0",
   "metadata": {},
   "source": [
    "### 9. Write Multiplication Tables to Files\n",
    "\n",
    "Given integers `n > 0` and `k > 0`, write multiplication tables of all numbers from `1` to `n` into different text files, each table is to be written up to `k`. All the text files should be written in a folder named `'multiplication_tables'` in your current working directory. Each file in this folder should be named `'table_of_*.txt'`, where `*` is to replaced with the number whose table is written. If `n = 4`, there should be 4 files in the folder: `'table_of_1.txt'`, `'table_of_2.txt'`, `'table_of_3.txt'`, `'table_of_4.txt'`. For table of 4 with `k = 12`, content of the file should look exactly like this:\n",
    "```\n",
    "Table of 4 upto 12:\n",
    "\n",
    "4 x  1 = 4\n",
    "4 x  2 = 8\n",
    "4 x  3 = 12\n",
    "4 x  4 = 16\n",
    "4 x  5 = 20\n",
    "4 x  6 = 24\n",
    "4 x  7 = 28\n",
    "4 x  8 = 32\n",
    "4 x  9 = 36\n",
    "4 x 10 = 40\n",
    "4 x 11 = 44\n",
    "4 x 12 = 48\n",
    "\n",
    "```\n",
    "Be careful with proper spacing and each file ends with an empty line"
   ]
  },
  {
   "cell_type": "code",
   "execution_count": null,
   "id": "f7e727d9-753b-464c-8967-1c743a19cb99",
   "metadata": {},
   "outputs": [],
   "source": [
    "n = 20\n",
    "k = 100\n",
    "\n",
    "# write your code here\n"
   ]
  },
  {
   "cell_type": "markdown",
   "id": "99467474-ea9a-47cb-af6d-37df63e691cb",
   "metadata": {},
   "source": [
    "### 10. Binary Search Nearest Number in a Sorted Array\n",
    "\n",
    "Given an ascendingly sorted `list` or `tuple` of real numbers, write a function to find index of element nearest to a given number `x` using binary search algorithm. The basic idea of the algorithm is to divide the search interval in half and check whether `x` is in left side or right side of the array, whichever side it's in that interval becomes the new search interval, this process is then repeated until ≤ 2 elements are left in the search interval. For example, if the given list is `[2,3,5,9]`, then index for value closest to:\n",
    "* 0.5 -> 0\n",
    "* 2.2 -> 0\n",
    "* 2.5 -> 0 or 1 (both are fine)\n",
    "* 3.0 -> 1\n",
    "* 4.0 -> 1 or 2 (both are fine)\n",
    "* 8.3 -> 3\n",
    "* 100 -> 3\n",
    "\n",
    "You can search online for binary search algorithm, otherwise follow these instructions (`a` is given array):\n",
    "1. Let `i0 = 0` be the first index and `i1 = len(a) - 1` be the last index of search\n",
    "2. Find middle index between `i0` and `i1` as `m = (i0 + i1) // 2`\n",
    "3. If `x > a[m]`, that means `x` is on the right side of the center of array, so `x` must exist in region `a[m:i1+1]`. Shrink your search region by setting `i0 = m`\n",
    "4. Instead if `x < a[m]`, that means `x` is on the left side of the center of array, so `x` must exist in region `a[i0:m+1]`. Shrink your search region by setting `i1 = m`\n",
    "6. Instead if `x == a[m]`, return `m` because `x` exactly matches an element in `a`\n",
    "7. Keep repeating steps 2-5 until the gap between `i0` and `i1` is `≤ 1`\n",
    "8. Check whether `x` is closer to `a[i0]` or `a[i1]` and return the respective index\n",
    "\n",
    "How can you modify your code so that it works with both ascending and descending `list/tuple`?"
   ]
  },
  {
   "cell_type": "code",
   "execution_count": null,
   "id": "1b238005-901a-425c-802d-fcbee9893f04",
   "metadata": {},
   "outputs": [],
   "source": [
    "def binarySearchNN(a, x):\n",
    "    # write your code here\n",
    "    pass\n",
    "\n",
    "myList = [i**3 for i in range(1, 5)]\n",
    "print(myList)\n",
    "eps = 1.0e-14\n",
    "for x in (-64, 0, 1-eps, 1, 1+eps, 4.5-eps):\n",
    "    print(binarySearchNN(myList, x), end = ' ')    # all 0\n",
    "print('\\n', binarySearchNN(myList, 4.5))    # either 0 or 1\n",
    "for x in (4.5+eps, 6.7182948653, 8-eps, 8, 8+eps, 16.839, 17.5-eps):\n",
    "    print(binarySearchNN(myList, x), end = ' ')    # all 1\n",
    "print('\\n', binarySearchNN(myList, 17.5))    # either 1 or 2\n",
    "for x in (17.5+eps, 21, 27-eps, 27, 27+eps, 40, 45.5-eps):\n",
    "    print(binarySearchNN(myList, x), end = ' ')    # all 2\n",
    "print('\\n', binarySearchNN(myList, 45.5))    # either 2 or 3\n",
    "for x in (45.5+eps, 55, 64-eps, 64, 64+eps, 89.9):\n",
    "    print(binarySearchNN(myList, x), end = ' ')    # all 3"
   ]
  },
  {
   "cell_type": "markdown",
   "id": "d80859c0-ffa7-4d02-b100-10f93960ac7e",
   "metadata": {},
   "source": [
    "### §. Python's Quirky Behaviors\n",
    "Look at the codes below and try to predict their outcomes before running them. After running them, try to make sense of their outcomes. To read more about this you can search online for \"mutable default arguments in python\" and \"late binding closures in python\". You can also read more here: https://docs.python-guide.org/writing/gotchas/"
   ]
  },
  {
   "cell_type": "code",
   "execution_count": null,
   "id": "9501c5cd-3188-4b0f-8e83-200c6d1d99ac",
   "metadata": {},
   "outputs": [],
   "source": [
    "def f(a = []):\n",
    "    a.append(1)\n",
    "    print(a)\n",
    "f()\n",
    "f()\n",
    "f()"
   ]
  },
  {
   "cell_type": "code",
   "execution_count": null,
   "id": "59cdb07b-a26d-4bb0-817d-f8746f78bebc",
   "metadata": {},
   "outputs": [],
   "source": [
    "fxs = [lambda x: i * x for i in range(4)]\n",
    "for f in fxs:\n",
    "    print(f(1))"
   ]
  }
 ],
 "metadata": {
  "kernelspec": {
   "display_name": "Python 3 (ipykernel)",
   "language": "python",
   "name": "python3"
  },
  "language_info": {
   "codemirror_mode": {
    "name": "ipython",
    "version": 3
   },
   "file_extension": ".py",
   "mimetype": "text/x-python",
   "name": "python",
   "nbconvert_exporter": "python",
   "pygments_lexer": "ipython3",
   "version": "3.10.5"
  }
 },
 "nbformat": 4,
 "nbformat_minor": 5
}
